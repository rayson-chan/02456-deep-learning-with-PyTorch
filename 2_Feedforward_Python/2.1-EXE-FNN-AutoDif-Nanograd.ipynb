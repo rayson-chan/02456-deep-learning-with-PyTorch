{
 "cells": [
  {
   "cell_type": "markdown",
   "source": [
    "# Contents and why we need this lab\n",
    "\n",
    "This lab is about implementing neural networks yourself before we start using other frameworks which hide some of the computation from you. It builds on the first lab where you derived the equations for neural network forward and backward propagation and gradient descent parameter updates. \n",
    "\n",
    "All the frameworks for deep learning you will meet from now on uses automatic differentiation (autodiff) so you don't have to code the backward step yourself. In this version of this lab you will develop your own autodif implementation. We also have a [version](https://github.com/DeepLearningDTU/02456-deep-learning-with-PyTorch/blob/master/2_Feedforward_NumPy/2.1-FNN-NumPy.ipynb) of this lab where you have to code the backward pass explicitly in Numpy."
   ],
   "metadata": {
    "id": "HAva8TnYFtFu"
   }
  },
  {
   "cell_type": "markdown",
   "source": [
    "# External sources of information\n",
    "\n",
    "1. Jupyter notebook. You can find more information about Jupyter notebooks [here](https://jupyter.org/). It will come as part of the [Anaconda](https://www.anaconda.com/) Python installation. \n",
    "2. [NumPy](https://numpy.org/). Part of Anaconda distribution. If you already know how to program most things about Python and NumPy can be found through Google search.\n",
    "3. [Nanograd](https://github.com/rasmusbergpalm/nanograd) is a minimalistic version of autodiff developed by Rasmus Berg Palm that we use for our framework.\n"
   ],
   "metadata": {
    "id": "sCa7HzwpFtFy"
   }
  },
  {
   "cell_type": "markdown",
   "source": [
    "# This notebook will follow the next steps:\n",
    "\n",
    "1. Nanograd automatic differentiation framework\n",
    "2. Finite difference method\n",
    "3. Data generation\n",
    "4. Defining and initializing the network\n",
    "5. Forward pass\n",
    "6. Training loop \n",
    "7. Testing your model\n",
    "8. Further extensions"
   ],
   "metadata": {
    "id": "1SjiIp-TFtF0"
   }
  },
  {
   "cell_type": "markdown",
   "source": [
    "# Nanograd automatic differention framework"
   ],
   "metadata": {
    "id": "OyXeAA-HuT7s"
   }
  },
  {
   "cell_type": "markdown",
   "source": [
    "The [Nanograd](https://github.com/rasmusbergpalm/nanograd) framework defines a class Var which both holds a value and gradient value that we can use to store the intermediate values when we apply the chain rule of differentiation."
   ],
   "metadata": {
    "id": "k6UWKCLKubgA"
   }
  },
  {
   "cell_type": "code",
   "execution_count": 1,
   "source": [
    "# Copy and pasted from https://github.com/rasmusbergpalm/nanograd/blob/main/nanograd.py\n",
    "\n",
    "from math import exp, sqrt, log, tanh\n",
    "\n",
    "\n",
    "class Var:\n",
    "    \"\"\"\n",
    "    A variable which holds a float and enables gradient computations.\n",
    "    \"\"\"\n",
    "\n",
    "    def __init__(self, val: float, grad_fn=lambda: []):\n",
    "        assert type(val) == float\n",
    "        self.v = val\n",
    "        self.grad_fn = grad_fn\n",
    "        self.grad = 0.0\n",
    "\n",
    "    def backprop(self, bp):\n",
    "        self.grad += bp\n",
    "        for input, grad in self.grad_fn():\n",
    "            input.backprop(grad * bp)\n",
    "\n",
    "    def backward(self):\n",
    "        self.backprop(1.0)\n",
    "\n",
    "    def __add__(self: 'Var', other: 'Var') -> 'Var':\n",
    "        return Var(self.v + other.v, lambda: [(self, 1.0), (other, 1.0)])\n",
    "\n",
    "    def __mul__(self: 'Var', other: 'Var') -> 'Var':\n",
    "        return Var(self.v * other.v, lambda: [(self, other.v), (other, self.v)])\n",
    "\n",
    "    def __pow__(self, power):\n",
    "        assert type(power) in {float, int}, \"power must be float or int\"\n",
    "        return Var(self.v ** power, lambda: [(self, power * self.v ** (power - 1))])\n",
    "\n",
    "    def __neg__(self: 'Var') -> 'Var':\n",
    "        return Var(-1.0) * self\n",
    "\n",
    "    def __sub__(self: 'Var', other: 'Var') -> 'Var':\n",
    "        return self + (-other)\n",
    "\n",
    "    def __truediv__(self: 'Var', other: 'Var') -> 'Var':\n",
    "        return self * other ** -1\n",
    "\n",
    "    def __repr__(self):\n",
    "        return \"Var(v=%.4f, grad=%.4f)\" % (self.v, self.grad)\n",
    "\n",
    "    def relu(self):\n",
    "        return Var(self.v if self.v > 0.0 else 0.0, lambda: [(self, 1.0 if self.v > 0.0 else 0.0)])\n",
    "\n",
    "    def identity(self):\n",
    "        return self\n",
    "\n",
    "    def sigmoid(self):\n",
    "        s = 1/(1.0 + exp(-self.v))\n",
    "        return Var(s, lambda: [(self, s * (1 - s))])\n",
    "\n",
    "    def tanh(self):\n",
    "        t = tanh(self.v)\n",
    "        return Var(t, lambda: [(self, 1 - t ** 2)])\n",
    "\n",
    "    def exp(self):\n",
    "        return Var(exp(self.v), lambda: [(self, exp(self.v))])\n",
    "\n",
    "    def log(self):\n",
    "        return Var(log(self.v), lambda: [(self, self.v ** -1)])\n"
   ],
   "outputs": [],
   "metadata": {
    "id": "Jd4CoEBNzNWS"
   }
  },
  {
   "cell_type": "markdown",
   "source": [
    "A few examples illustrate how we can use this:"
   ],
   "metadata": {
    "id": "yDX67D6jzcte"
   }
  },
  {
   "cell_type": "code",
   "execution_count": 2,
   "source": [
    "a = Var(3.0)\n",
    "b = Var(5.0)\n",
    "f = a * b\n",
    "\n",
    "f.backward()\n",
    "\n",
    "for v in [a, b, f]:\n",
    "    print(v)"
   ],
   "outputs": [
    {
     "output_type": "stream",
     "name": "stdout",
     "text": [
      "Var(v=3.0000, grad=5.0000)\n",
      "Var(v=5.0000, grad=3.0000)\n",
      "Var(v=15.0000, grad=1.0000)\n"
     ]
    }
   ],
   "metadata": {
    "colab": {
     "base_uri": "https://localhost:8080/"
    },
    "id": "xk6PeLc3zwPT",
    "outputId": "1e8c6d68-749a-44c3-8fce-0029dcc3215b"
   }
  },
  {
   "cell_type": "code",
   "execution_count": 3,
   "source": [
    "a = Var(3.0)\n",
    "b = Var(5.0)\n",
    "c = a * b\n",
    "d = Var(9.0)\n",
    "e = a * d\n",
    "f = c + e\n",
    "\n",
    "f.backward()\n",
    "\n",
    "for v in [a, b, c, d, e, f]:\n",
    "    print(v)\n"
   ],
   "outputs": [
    {
     "output_type": "stream",
     "name": "stdout",
     "text": [
      "Var(v=3.0000, grad=14.0000)\n",
      "Var(v=5.0000, grad=3.0000)\n",
      "Var(v=15.0000, grad=1.0000)\n",
      "Var(v=9.0000, grad=3.0000)\n",
      "Var(v=27.0000, grad=1.0000)\n",
      "Var(v=42.0000, grad=1.0000)\n"
     ]
    }
   ],
   "metadata": {
    "colab": {
     "base_uri": "https://localhost:8080/"
    },
    "id": "JmKhYgsY0g_o",
    "outputId": "d86771b7-4166-40a5-8b35-8a46a5d7b1e9"
   }
  },
  {
   "cell_type": "markdown",
   "source": [
    "## Exercise a) What is being calculated?\n",
    "\n",
    "Explain briefly the output of the code? What is the expression we differentiate and with respect to what variables?\n",
    "\n",
    "Answer:\n",
    "The Vars in the output are the partial derivatives of function f wrt. $a=3$, $b=5$ ,$d=9$ and also the intermediate values $c$ and $e$. The function is expressed like:\n",
    "$$\n",
    "\\begin{align}\n",
    "f(c,e) &= c + e \\\\\n",
    "c(a,b) &= ab \\\\\n",
    "e(a,d) &= ad \n",
    "\\end{align} \n",
    "$$\n",
    "and function f can be reduced to:\n",
    "$$\n",
    "f(a,b,d) = ab + ad\n",
    "$$\n",
    "thus, the partial derivatives are:\n",
    "$$\n",
    "\\begin{align}\n",
    "\\left.\\frac{\\partial f}{\\partial a}\\right|_{(a, b, d)=(3, 5, 9)} &= b+d=14 \\\\\n",
    "\\left.\\frac{\\partial f}{\\partial b}\\right|_{(a, b, d)=(3, 5, 9)} &= a = 3 \\\\\n",
    "\\left.\\frac{\\partial f}{\\partial d}\\right|_{(a, b, d)=(3, 5, 9)} &= a = 3 \\\\\n",
    "\\frac{\\partial f}{\\partial c}&=\\frac{\\partial f}{\\partial e}=1 \\ ,\n",
    "\\end{align}\n",
    "$$\n",
    "which match the output."
   ],
   "metadata": {
    "id": "Fe3B6uEH140p"
   }
  },
  {
   "cell_type": "markdown",
   "source": [
    "#### Exercise b) How does the backward function work?\n",
    "\n",
    "For the first example above, make a schematic of the data structure which is generated when we define the expression for f. Then execture the backward function by hand to convince yourself that it indeed calculates the gradients with respect to the variables. Write down the sequence of calls to backprop for the first example above.\n",
    "  \n",
    "**Answer**:   \n",
    "In the first example, at the beginning we define $a = Var(3.0, 0.0)$ and $b = Var(5.0, 0.0)$. When we multiple $a$ with $b$, we assign $f=Var(15.0,\\ [(a,\\ 5.0),\\ (b, 3.0)])$. Then the $f.backward()$ calls $f.backprop(1.0)$, where it iterates in $[(a,\\ 5.0),\\ (b, 3.0)]$ and calls $a.backprop(5.0 * 1.0)$ and $b.backprop(3.0 * 1.0)$. And that eventually updates $grad$ of $a$ and $b$ to $5.0$ and $3.0$ respectively."
   ],
   "metadata": {
    "id": "q8_Q0t2I3Ruj"
   },
   "attachments": {}
  },
  {
   "cell_type": "markdown",
   "source": [
    "![Screenshot%20from%202021-09-13%2015-35-31.png](attachment:Screenshot%20from%202021-09-13%2015-35-31.png)"
   ],
   "metadata": {},
   "attachments": {
    "Screenshot%20from%202021-09-13%2015-35-31.png": {
     "image/png": "[encoded data removed]"
    }
   }
  },
  {
   "cell_type": "markdown",
   "source": [
    "## Exercise c) What happens if we run backward again?\n",
    "\n",
    "Try to execute the code below. Explain what happens.\n",
    "\n",
    "**Answer:**  \n",
    "As we run the $f.backward()$ for a second time, the gradient of each variable is doubled. Because at that moment $f.bp = 1.0$ not the original $0$ and for all variable their $grad$ is added a second time, which makes their $grad$ doubled."
   ],
   "metadata": {
    "id": "A5oi21W4gpeM"
   }
  },
  {
   "cell_type": "code",
   "execution_count": 4,
   "source": [
    "f.backward()\n",
    "for v in [a, b, c, d, e, f]:\n",
    "    print(v)"
   ],
   "outputs": [
    {
     "output_type": "stream",
     "name": "stdout",
     "text": [
      "Var(v=3.0000, grad=28.0000)\n",
      "Var(v=5.0000, grad=6.0000)\n",
      "Var(v=15.0000, grad=2.0000)\n",
      "Var(v=9.0000, grad=6.0000)\n",
      "Var(v=27.0000, grad=2.0000)\n",
      "Var(v=42.0000, grad=2.0000)\n"
     ]
    }
   ],
   "metadata": {
    "colab": {
     "base_uri": "https://localhost:8080/"
    },
    "id": "DCtpJyr-gyX1",
    "outputId": "86d38af1-1c6e-487b-f4e6-bf29f0bb105e"
   }
  },
  {
   "cell_type": "markdown",
   "source": [
    "## Exercise d) Zero gradient\n",
    "\n",
    "We can zero the gradient by backpropagating a -1.0 as is shown in the example below. (If you have run backward multiple time then you also have to run the cell below an equal amount of times.) Explain what is going on.  \n",
    "**Answer:**  \n",
    "1) When we execute $f.backprop(-1.0)$, then each variable will subtract its $grad$ value with the $grad$ it should have, fixed back to normal.  \n",
    "2) But since at Line 1 of code below one resigned $a$, which turns $a.grad$ to zero, after the backprop it won't change while the product of zero is always zero. And a new $a=2.0$ doesn't affect the $grad$ of others variable because the previous $a$ value is already recorded in $grad_fn$ of others."
   ],
   "metadata": {
    "id": "e8bPVq2VhsP-"
   }
  },
  {
   "cell_type": "code",
   "execution_count": 5,
   "source": [
    "a = Var(2.0)\n",
    "\n",
    "for v in [a, b, c, d, e, f]:\n",
    "    print(v)\n",
    "\n",
    "f.backprop(-1.0)\n",
    "\n",
    "for v in [a, b, c, d, e, f]:\n",
    "    print(v)"
   ],
   "outputs": [
    {
     "output_type": "stream",
     "name": "stdout",
     "text": [
      "Var(v=2.0000, grad=0.0000)\n",
      "Var(v=5.0000, grad=6.0000)\n",
      "Var(v=15.0000, grad=2.0000)\n",
      "Var(v=9.0000, grad=6.0000)\n",
      "Var(v=27.0000, grad=2.0000)\n",
      "Var(v=42.0000, grad=2.0000)\n",
      "Var(v=2.0000, grad=0.0000)\n",
      "Var(v=5.0000, grad=3.0000)\n",
      "Var(v=15.0000, grad=1.0000)\n",
      "Var(v=9.0000, grad=3.0000)\n",
      "Var(v=27.0000, grad=1.0000)\n",
      "Var(v=42.0000, grad=1.0000)\n"
     ]
    }
   ],
   "metadata": {
    "colab": {
     "base_uri": "https://localhost:8080/"
    },
    "id": "OnyPDQx9lJe0",
    "outputId": "0b86a0c1-3dc7-4f72-e661-649fa7b53c3a"
   }
  },
  {
   "cell_type": "markdown",
   "source": [
    "## Exercise e) Test correctness of derivatives with the finite difference method\n",
    "\n",
    "Write a small function that uses [the finite difference method](https://en.wikipedia.org/wiki/Finite_difference_method) to numerically test that backpropation implementation is working. In short we will use\n",
    "$$\n",
    "\\frac{\\partial f(a)}{\\partial a} \\approx \\frac{f(a+da)-f(a)}{da}\n",
    "$$\n",
    "for $da \\ll 1$.\n",
    "\n",
    "\n",
    "_Insert your code in the cell below._\n"
   ],
   "metadata": {
    "id": "U4057_ljNvWB"
   }
  },
  {
   "cell_type": "code",
   "execution_count": 6,
   "source": [
    "# test function - try to change into other functions as well\n",
    "def test_function(a):\n",
    "    a = Var(a)\n",
    "    b = Var(5.0)\n",
    "    f = a * b\n",
    "    f.backward()\n",
    "    return a, b, f\n",
    "\n",
    "\n",
    "for v in test_function(3.0):\n",
    "    print(v)\n",
    "\n",
    "# Insert your finite difference code here\n",
    "\n",
    "\n",
    "def finite_difference(a, da=1e-10):\n",
    "    \"\"\"\n",
    "    This function compute the finite difference between\n",
    "\n",
    "    Input:\n",
    "    da:          The finite difference                           (float)\n",
    "\n",
    "    Output:\n",
    "    finite_difference: numerical approximation to the derivative (float) \n",
    "    \"\"\"\n",
    "\n",
    "    _, _, fa_da = test_function(a + da)\n",
    "    _, _, fa = test_function(a)\n",
    "    fa_da = fa_da.v       # <- Insert correct expression\n",
    "    fa = fa.v            # <- Insert correct expression\n",
    "\n",
    "    finite_difference = (fa_da - fa) / da\n",
    "\n",
    "    return finite_difference\n",
    "\n",
    "\n",
    "print(finite_difference(3.0))\n"
   ],
   "outputs": [
    {
     "output_type": "stream",
     "name": "stdout",
     "text": [
      "Var(v=3.0000, grad=5.0000)\n",
      "Var(v=5.0000, grad=3.0000)\n",
      "Var(v=15.0000, grad=1.0000)\n",
      "5.000000413701855\n"
     ]
    }
   ],
   "metadata": {
    "colab": {
     "base_uri": "https://localhost:8080/"
    },
    "id": "9TGil92lSXDN",
    "outputId": "4993ad11-b380-487c-bcf2-c29a12ef60e1"
   }
  },
  {
   "cell_type": "markdown",
   "source": [
    "# Create an artificial dataset to play with\n",
    "\n",
    "We create a non-linear 1d regression task. The generator supports various noise levels and it creates train, validation and test sets. You can modify it yourself if you want more or less challenging tasks."
   ],
   "metadata": {
    "id": "6pZar5RKaUkg"
   }
  },
  {
   "cell_type": "code",
   "execution_count": 7,
   "source": [
    "import numpy as np\n",
    "import matplotlib.pyplot as plt\n",
    "\n",
    "np.random.seed(42)"
   ],
   "outputs": [
    {
     "output_type": "stream",
     "name": "stderr",
     "text": [
      "In /home/ruixin/anaconda3/lib/python3.8/site-packages/matplotlib/mpl-data/stylelib/_classic_test.mplstyle: \n",
      "The text.latex.preview rcparam was deprecated in Matplotlib 3.3 and will be removed two minor releases later.\n",
      "In /home/ruixin/anaconda3/lib/python3.8/site-packages/matplotlib/mpl-data/stylelib/_classic_test.mplstyle: \n",
      "The mathtext.fallback_to_cm rcparam was deprecated in Matplotlib 3.3 and will be removed two minor releases later.\n",
      "In /home/ruixin/anaconda3/lib/python3.8/site-packages/matplotlib/mpl-data/stylelib/_classic_test.mplstyle: Support for setting the 'mathtext.fallback_to_cm' rcParam is deprecated since 3.3 and will be removed two minor releases later; use 'mathtext.fallback : 'cm' instead.\n",
      "In /home/ruixin/anaconda3/lib/python3.8/site-packages/matplotlib/mpl-data/stylelib/_classic_test.mplstyle: \n",
      "The validate_bool_maybe_none function was deprecated in Matplotlib 3.3 and will be removed two minor releases later.\n",
      "In /home/ruixin/anaconda3/lib/python3.8/site-packages/matplotlib/mpl-data/stylelib/_classic_test.mplstyle: \n",
      "The savefig.jpeg_quality rcparam was deprecated in Matplotlib 3.3 and will be removed two minor releases later.\n",
      "In /home/ruixin/anaconda3/lib/python3.8/site-packages/matplotlib/mpl-data/stylelib/_classic_test.mplstyle: \n",
      "The keymap.all_axes rcparam was deprecated in Matplotlib 3.3 and will be removed two minor releases later.\n",
      "In /home/ruixin/anaconda3/lib/python3.8/site-packages/matplotlib/mpl-data/stylelib/_classic_test.mplstyle: \n",
      "The animation.avconv_path rcparam was deprecated in Matplotlib 3.3 and will be removed two minor releases later.\n",
      "In /home/ruixin/anaconda3/lib/python3.8/site-packages/matplotlib/mpl-data/stylelib/_classic_test.mplstyle: \n",
      "The animation.avconv_args rcparam was deprecated in Matplotlib 3.3 and will be removed two minor releases later.\n"
     ]
    }
   ],
   "metadata": {
    "collapsed": true,
    "id": "Y6yfMAQ8aduj"
   }
  },
  {
   "cell_type": "code",
   "execution_count": 8,
   "source": [
    "def data_generator(noise=0.1, n_samples=300, D1=True):\n",
    "    # Create covariates and response variable\n",
    "    if D1:\n",
    "        X = np.linspace(-3, 3, num=n_samples).reshape(-1,1) # 1-D\n",
    "        np.random.shuffle(X)\n",
    "        y = np.random.normal((0.5*np.sin(X[:,0]*3) + X[:,0]), noise) # 1-D with trend\n",
    "    else:\n",
    "        X = np.random.multivariate_normal(np.zeros(3), noise*np.eye(3), size = n_samples) # 3-D\n",
    "        np.random.shuffle(X)    \n",
    "        y = np.sin(X[:,0]) - 5*(X[:,1]**2) + 0.5*X[:,2] # 3-D\n",
    "\n",
    "    # Stack them together vertically to split data set\n",
    "    data_set = np.vstack((X.T,y)).T\n",
    "    \n",
    "    train, validation, test = np.split(data_set, [int(0.35*n_samples), int(0.7*n_samples)], axis=0)\n",
    "    \n",
    "    # Standardization of the data, remember we do the standardization with the training set mean and standard deviation\n",
    "    train_mu = np.mean(train, axis=0)\n",
    "    train_sigma = np.std(train, axis=0)\n",
    "    \n",
    "    train = (train-train_mu)/train_sigma\n",
    "    validation = (validation-train_mu)/train_sigma\n",
    "    test = (test-train_mu)/train_sigma\n",
    "    \n",
    "    x_train, x_validation, x_test = train[:,:-1], validation[:,:-1], test[:,:-1]\n",
    "    y_train, y_validation, y_test = train[:,-1], validation[:,-1], test[:,-1]\n",
    "\n",
    "    return x_train, y_train,  x_validation, y_validation, x_test, y_test"
   ],
   "outputs": [],
   "metadata": {}
  },
  {
   "cell_type": "code",
   "execution_count": 9,
   "source": [
    "D1 = True\n",
    "x_train, y_train,  x_validation, y_validation, x_test, y_test = data_generator(noise=0.5, D1=D1)"
   ],
   "outputs": [],
   "metadata": {
    "collapsed": true,
    "id": "u1oDngHLapIz"
   }
  },
  {
   "cell_type": "code",
   "execution_count": 10,
   "source": [
    "if D1:\n",
    "    plt.scatter(x_train[:,0], y_train);\n",
    "    plt.scatter(x_validation[:,0], y_validation);\n",
    "    plt.scatter(x_test[:,0], y_test);\n",
    "else:\n",
    "    plt.scatter(x_train[:,1], y_train);\n",
    "    plt.scatter(x_validation[:,1], y_validation);\n",
    "    plt.scatter(x_test[:,1], y_test);\n",
    "plt.show()"
   ],
   "outputs": [
    {
     "output_type": "display_data",
     "data": {
      "image/png": "[encoded data removed]",
      "text/plain": [
       "<Figure size 432x288 with 1 Axes>"
      ]
     },
     "metadata": {
      "needs_background": "light"
     }
    }
   ],
   "metadata": {
    "colab": {
     "base_uri": "https://localhost:8080/",
     "height": 265
    },
    "id": "Ysfa3FsBavlm",
    "outputId": "26d5d03c-6c26-47ce-cbab-676c99c30b73"
   }
  },
  {
   "cell_type": "code",
   "execution_count": 11,
   "source": [
    "# convert from nparray to Var\n",
    "def nparray_to_Var(x):\n",
    "  if x.ndim==1:\n",
    "    y = [[Var(float(x[i]))] for i in range(x.shape[0])] # always work with list of list\n",
    "  else:\n",
    "    y = [[Var(float(x[i,j])) for j in range(x.shape[1])] for i in range(x.shape[0])]\n",
    "  return y\n",
    "   \n",
    "x_train = nparray_to_Var(x_train)\n",
    "y_train = nparray_to_Var(y_train)\n",
    "x_validation = nparray_to_Var(x_validation)\n",
    "y_validation = nparray_to_Var(y_validation)\n",
    "x_test = nparray_to_Var(x_test)\n",
    "y_test = nparray_to_Var(y_test)\n"
   ],
   "outputs": [],
   "metadata": {
    "id": "zac2HHNlgbpm"
   }
  },
  {
   "cell_type": "markdown",
   "source": [
    "# Defining and initializing the network\n",
    "\n",
    "The steps to create a feed forward neural network are the following:\n",
    "\n",
    "1. **Number of hidden layer and hidden units**. We have to define the number of hidden units in each layer. The number of features in X and the output dimensionality (the size of Y) are given but the numbers in between are set by the researcher. Remember that for each unit in each layer beside in the input has a bias term.\n",
    "2. **Activation functions** for each hidden layer. Each hidden layer in your list must have an activation function (it can also be the linear activation which is equivalent to identity function). The power of neural networks comes from non-linear activation functions that learn representations (features) from the data allowing us to learn from it. \n",
    "3. **Parameter initialization**. We will initialize the weights to have random values. This is done in practice by drawing pseudo random numbers from a Gaussian or uniform distribution. It turns out that for deeper models we have to be careful about how we scale the random numbers. This will be the topic of the exercise below. For now we will just use unit variance Gaussians.  \n",
    "\n",
    "In order to make life easier for ourselves we define a DenseLayer class that takes care of initialization and the forward pass. We can also extend it later with print and advanced initialization capabilities. For the latter we have introduced a Initializer class.\n",
    "\n",
    "Note that we use Sequence in the code below. A Sequence is an ordered list. This means the order we insert and access items are the same."
   ],
   "metadata": {
    "id": "VbjrqcpVFtGe"
   }
  },
  {
   "cell_type": "code",
   "execution_count": 12,
   "source": [
    "class Initializer:\n",
    "\n",
    "  def init_weights(self, n_in, n_out):\n",
    "    raise NotImplementedError\n",
    "\n",
    "  def init_bias(self, n_out):\n",
    "    raise NotImplementedError"
   ],
   "outputs": [],
   "metadata": {
    "id": "ij_ieRsAt7Xt"
   }
  },
  {
   "cell_type": "code",
   "execution_count": 13,
   "source": [
    "import random\n",
    "\n",
    "class NormalInitializer(Initializer):\n",
    "\n",
    "  def __init__(self, mean=0, std=0.1):\n",
    "    self.mean = mean\n",
    "    self.std = std\n",
    "\n",
    "  def init_weights(self, n_in, n_out):\n",
    "    return [[Var(random.gauss(self.mean, self.std)) for _ in range(n_out)] for _ in range(n_in)]\n",
    "\n",
    "  def init_bias(self, n_out):\n",
    "    return [Var(0.0) for _ in range(n_out)]\n",
    "\n",
    "class ConstantInitializer(Initializer):\n",
    "\n",
    "  def __init__(self, weight=1.0, bias=0.0):\n",
    "    self.weight = weight\n",
    "    self.bias = bias\n",
    "\n",
    "  def init_weights(self, n_in, n_out):\n",
    "    return [[Var(self.weight) for _ in range(n_out)] for _ in range(n_in)]\n",
    "\n",
    "  def init_bias(self, n_out):\n",
    "    return [Var(self.bias) for _ in range(n_out)]"
   ],
   "outputs": [],
   "metadata": {
    "id": "eb18N5phuIha"
   }
  },
  {
   "cell_type": "markdown",
   "source": [
    "## Exercise f) Complete the forward pass\n",
    "\n",
    "In the code below we initialize a 1-5-1 network and pass the training set through it. The forward method in DenseLayer is not complete. It  just outputs zeros right now. The method forward should perform an [affine transformation](https://en.wikipedia.org/wiki/Affine_transformation) on the input followed by an application of the activation function."
   ],
   "metadata": {
    "id": "p_8n_SKnIW2F"
   }
  },
  {
   "cell_type": "code",
   "execution_count": 14,
   "source": [
    "from typing import Sequence\n",
    "\n",
    "class DenseLayer:\n",
    "    def __init__(self, n_in: int, n_out: int, act_fn, initializer = NormalInitializer()):\n",
    "        self.weights = initializer.init_weights(n_in, n_out)\n",
    "        self.bias = initializer.init_bias(n_out)\n",
    "        self.act_fn = act_fn\n",
    "    \n",
    "    def __repr__(self):    \n",
    "        return 'Weights: ' + repr(self.weights) + '\\nBiases: ' + repr(self.bias)\n",
    "\n",
    "    def parameters(self) -> Sequence[Var]:\n",
    "      params = []\n",
    "      for r in self.weights:\n",
    "        params += r\n",
    "\n",
    "      return params + self.bias\n",
    "\n",
    "    def forward(self, inputs: Sequence[Var]) -> Sequence[Var]:\n",
    "        assert len(self.weights) == len(inputs), \"weights and inputs must match in first dimension\"\n",
    "        weights = self.weights\n",
    "        out = []\n",
    "        for j in range(len(weights[0])):\n",
    "            node = self.bias[j] # <- Insert code\n",
    "            for i in range(len(inputs)):\n",
    "                node += self.weights[i][j] * inputs[i]  # <- Insert code\n",
    "            node = self.act_fn(node)\n",
    "            out.append(node)\n",
    "\n",
    "        return out"
   ],
   "outputs": [],
   "metadata": {}
  },
  {
   "cell_type": "code",
   "execution_count": 15,
   "source": [
    "NN = [\n",
    "    DenseLayer(1, 5, lambda x: x.relu()),\n",
    "    DenseLayer(5, 1, lambda x: x.identity())\n",
    "]\n",
    "\n",
    "def forward(input, network):\n",
    "\n",
    "  def forward_single(x, network):\n",
    "    for layer in network:\n",
    "        x = layer.forward(x)\n",
    "    return x\n",
    "\n",
    "  output = [ forward_single(input[n], network) for n in range(len(input))]\n",
    "  return output\n",
    "\n",
    "print(forward(x_train, NN))\n"
   ],
   "outputs": [
    {
     "output_type": "stream",
     "name": "stdout",
     "text": [
      "[[Var(v=0.0065, grad=0.0000)], [Var(v=0.0131, grad=0.0000)], [Var(v=0.0012, grad=0.0000)], [Var(v=-0.0101, grad=0.0000)], [Var(v=0.0096, grad=0.0000)], [Var(v=0.0089, grad=0.0000)], [Var(v=0.0058, grad=0.0000)], [Var(v=-0.0024, grad=0.0000)], [Var(v=-0.0104, grad=0.0000)], [Var(v=0.0036, grad=0.0000)], [Var(v=0.0101, grad=0.0000)], [Var(v=-0.0064, grad=0.0000)], [Var(v=0.0081, grad=0.0000)], [Var(v=-0.0073, grad=0.0000)], [Var(v=0.0043, grad=0.0000)], [Var(v=0.0084, grad=0.0000)], [Var(v=0.0155, grad=0.0000)], [Var(v=0.0073, grad=0.0000)], [Var(v=0.0008, grad=0.0000)], [Var(v=0.0025, grad=0.0000)], [Var(v=-0.0048, grad=0.0000)], [Var(v=-0.0021, grad=0.0000)], [Var(v=0.0113, grad=0.0000)], [Var(v=0.0114, grad=0.0000)], [Var(v=-0.0028, grad=0.0000)], [Var(v=-0.0075, grad=0.0000)], [Var(v=0.0147, grad=0.0000)], [Var(v=0.0161, grad=0.0000)], [Var(v=0.0017, grad=0.0000)], [Var(v=0.0102, grad=0.0000)], [Var(v=-0.0095, grad=0.0000)], [Var(v=0.0024, grad=0.0000)], [Var(v=-0.0082, grad=0.0000)], [Var(v=-0.0089, grad=0.0000)], [Var(v=0.0078, grad=0.0000)], [Var(v=-0.0017, grad=0.0000)], [Var(v=-0.0102, grad=0.0000)], [Var(v=-0.0039, grad=0.0000)], [Var(v=-0.0072, grad=0.0000)], [Var(v=-0.0052, grad=0.0000)], [Var(v=-0.0036, grad=0.0000)], [Var(v=-0.0049, grad=0.0000)], [Var(v=0.0152, grad=0.0000)], [Var(v=-0.0062, grad=0.0000)], [Var(v=-0.0049, grad=0.0000)], [Var(v=-0.0059, grad=0.0000)], [Var(v=0.0097, grad=0.0000)], [Var(v=0.0092, grad=0.0000)], [Var(v=-0.0023, grad=0.0000)], [Var(v=0.0094, grad=0.0000)], [Var(v=0.0041, grad=0.0000)], [Var(v=0.0004, grad=0.0000)], [Var(v=0.0103, grad=0.0000)], [Var(v=-0.0050, grad=0.0000)], [Var(v=0.0163, grad=0.0000)], [Var(v=0.0143, grad=0.0000)], [Var(v=-0.0033, grad=0.0000)], [Var(v=-0.0037, grad=0.0000)], [Var(v=0.0054, grad=0.0000)], [Var(v=-0.0088, grad=0.0000)], [Var(v=0.0095, grad=0.0000)], [Var(v=-0.0062, grad=0.0000)], [Var(v=-0.0103, grad=0.0000)], [Var(v=0.0046, grad=0.0000)], [Var(v=0.0034, grad=0.0000)], [Var(v=-0.0085, grad=0.0000)], [Var(v=-0.0091, grad=0.0000)], [Var(v=0.0120, grad=0.0000)], [Var(v=-0.0065, grad=0.0000)], [Var(v=0.0047, grad=0.0000)], [Var(v=-0.0025, grad=0.0000)], [Var(v=-0.0011, grad=0.0000)], [Var(v=0.0093, grad=0.0000)], [Var(v=0.0055, grad=0.0000)], [Var(v=-0.0009, grad=0.0000)], [Var(v=0.0148, grad=0.0000)], [Var(v=-0.0045, grad=0.0000)], [Var(v=-0.0043, grad=0.0000)], [Var(v=-0.0057, grad=0.0000)], [Var(v=0.0154, grad=0.0000)], [Var(v=0.0023, grad=0.0000)], [Var(v=0.0014, grad=0.0000)], [Var(v=-0.0093, grad=0.0000)], [Var(v=-0.0013, grad=0.0000)], [Var(v=-0.0047, grad=0.0000)], [Var(v=-0.0020, grad=0.0000)], [Var(v=-0.0017, grad=0.0000)], [Var(v=-0.0053, grad=0.0000)], [Var(v=-0.0096, grad=0.0000)], [Var(v=-0.0100, grad=0.0000)], [Var(v=0.0056, grad=0.0000)], [Var(v=-0.0030, grad=0.0000)], [Var(v=-0.0056, grad=0.0000)], [Var(v=0.0087, grad=0.0000)], [Var(v=-0.0079, grad=0.0000)], [Var(v=-0.0095, grad=0.0000)], [Var(v=0.0040, grad=0.0000)], [Var(v=0.0007, grad=0.0000)], [Var(v=0.0139, grad=0.0000)], [Var(v=-0.0056, grad=0.0000)], [Var(v=0.0091, grad=0.0000)], [Var(v=-0.0055, grad=0.0000)], [Var(v=-0.0084, grad=0.0000)], [Var(v=0.0044, grad=0.0000)], [Var(v=0.0130, grad=0.0000)]]\n"
     ]
    }
   ],
   "metadata": {
    "colab": {
     "base_uri": "https://localhost:8080/"
    },
    "id": "xDEjtePxE7Mv",
    "outputId": "271bcd73-43d6-4255-8ea0-6447b2a0ad8c"
   }
  },
  {
   "cell_type": "markdown",
   "source": [
    "## Exercise g) Print all network parameters\n",
    "\n",
    "Make a function that prints all the parameters of the network (weights and biases) with information about in which layer the appear. In the object oriented spirit you should introduce a method in the DenseLayer class to print the parameters of a layer. Hint: You can take inspiration from the corresponding method in Var. "
   ],
   "metadata": {
    "id": "oLrGJytZFtGm"
   }
  },
  {
   "cell_type": "code",
   "execution_count": 16,
   "source": [
    "# Insert code here and in the DenseLayer class\n",
    "def represent_para(network):\n",
    "\n",
    "    for i in range(len(network)):\n",
    "        print(\"Parameters in Layer {}:\".format(i + 1))\n",
    "        print(network[i],'\\n')\n",
    "        \n",
    "represent_para(NN)"
   ],
   "outputs": [
    {
     "output_type": "stream",
     "name": "stdout",
     "text": [
      "Parameters in Layer 1:\n",
      "Weights: [[Var(v=-0.0108, grad=0.0000), Var(v=0.0808, grad=0.0000), Var(v=-0.0872, grad=0.0000), Var(v=-0.0767, grad=0.0000), Var(v=-0.1900, grad=0.0000)]]\n",
      "Biases: [Var(v=0.0000, grad=0.0000), Var(v=0.0000, grad=0.0000), Var(v=0.0000, grad=0.0000), Var(v=0.0000, grad=0.0000), Var(v=0.0000, grad=0.0000)] \n",
      "\n",
      "Parameters in Layer 2:\n",
      "Weights: [[Var(v=0.1672, grad=0.0000)], [Var(v=0.1118, grad=0.0000)], [Var(v=-0.0260, grad=0.0000)], [Var(v=-0.0325, grad=0.0000)], [Var(v=-0.0193, grad=0.0000)]]\n",
      "Biases: [Var(v=0.0000, grad=0.0000)] \n",
      "\n"
     ]
    }
   ],
   "metadata": {
    "collapsed": true,
    "id": "iac-VwYGFtGm"
   }
  },
  {
   "cell_type": "markdown",
   "source": [
    "# Activation functions\n",
    "\n",
    "To have a full definition of the neural network, we must define an activation function for every layer. Several activation functions have been proposed and have different characteristics. In the Var class we have already defined the rectified linear init (relu). \n",
    " "
   ],
   "metadata": {
    "id": "-u4xk_ORFtGz"
   }
  },
  {
   "cell_type": "markdown",
   "source": [
    "## Exercise h) Add more activation functions\n",
    "\n",
    "Implement the following activation functions in the Var class:\n",
    "\n",
    "* Identity: $$\\mathrm{identity}(x) = x$$\n",
    "* Hyperbolic tangent: $$\\tanh(x)$$\n",
    "* Sigmoid (or logistic function): $$\\mathrm{sigmoid}(x) = \\frac{1}{1.0 + \\exp(-x ) }$$  Hint: $\\mathrm{sigmoid}'(x)= \\mathrm{sigmoid}(x)(1-\\mathrm{sigmoid}(x))$.  \n",
    "\n",
    "Hint: You can seek inspiration in the relu method in the Var class."
   ],
   "metadata": {
    "id": "jpIZPBpNI0pO"
   }
  },
  {
   "cell_type": "markdown",
   "source": [
    "## Visualization\n",
    "\n",
    "Now that we have defined our activation functions we can visualize them to see what they look like:"
   ],
   "metadata": {
    "id": "_79HOAXrFtHK"
   }
  },
  {
   "cell_type": "code",
   "execution_count": 17,
   "source": [
    "x = np.linspace(-6, 6, 100)\n",
    "\n",
    "# convert from Var to ndarray  \n",
    "def Var_to_nparray(x):\n",
    "  y = np.zeros((len(x),len(x[0])))\n",
    "  for i in range(len(x)):\n",
    "    for j in range(len(x[0])):\n",
    "      y[i,j] = x[i][j].v\n",
    "  return y\n",
    "\n",
    "# define 1-1 network with weight = 1 and relu activation \n",
    "NN = [ DenseLayer(1, 1, lambda x: x.relu(), initializer = ConstantInitializer(1.0)) ] \n",
    "y = Var_to_nparray(forward(nparray_to_Var(x), NN))\n",
    "\n",
    "#y = Var_to_nparray(relu(nparray_to_Var(x)))\n",
    "plt.plot(x,y)"
   ],
   "outputs": [
    {
     "output_type": "execute_result",
     "data": {
      "text/plain": [
       "[<matplotlib.lines.Line2D at 0x7f66ed5d6e20>]"
      ]
     },
     "metadata": {},
     "execution_count": 17
    },
    {
     "output_type": "display_data",
     "data": {
      "image/png": "[encoded data removed]",
      "text/plain": [
       "<Figure size 432x288 with 1 Axes>"
      ]
     },
     "metadata": {
      "needs_background": "light"
     }
    }
   ],
   "metadata": {
    "colab": {
     "base_uri": "https://localhost:8080/",
     "height": 284
    },
    "id": "1FcylHqLTl-Z",
    "outputId": "c23c865b-3894-434c-f38a-f3cff5f772e5"
   }
  },
  {
   "cell_type": "code",
   "execution_count": 18,
   "source": [
    "# Testing all activation layers\n",
    "\n",
    "x = np.linspace(-6, 6, 100)\n",
    "units = {\n",
    "    \"identity\": lambda x: x.identity(),\n",
    "    \"sigmoid\": lambda x: x.sigmoid(),  #<- uncomment before sharing\n",
    "    \"relu\": lambda x: x.relu(),\n",
    "    \"tanh\": lambda x: x.tanh() #<- uncomment before sharing\n",
    "}\n",
    "\n",
    "plt.figure(figsize=(5, 5))\n",
    "[plt.plot(x, Var_to_nparray(forward(nparray_to_Var(x), [DenseLayer(1, 1, unit, initializer = ConstantInitializer(1.0))]) ), label=unit_name, lw=2) for unit_name, unit in units.items()] # unit(nparray_to_Var(x))), label=unit_name, lw=2) for unit_name, unit in units.items()]\n",
    "plt.legend(loc=2, fontsize=16)\n",
    "plt.title('Our activation functions', fontsize=20)\n",
    "plt.ylim([-2, 5])\n",
    "plt.xlim([-6, 6])\n",
    "plt.show()"
   ],
   "outputs": [
    {
     "output_type": "display_data",
     "data": {
      "image/png": "[encoded data removed]",
      "text/plain": [
       "<Figure size 360x360 with 1 Axes>"
      ]
     },
     "metadata": {
      "needs_background": "light"
     }
    }
   ],
   "metadata": {
    "colab": {
     "base_uri": "https://localhost:8080/",
     "height": 341
    },
    "id": "oOL2UolJFtHL",
    "outputId": "9d51d191-ca43-44a6-d5f6-d41a2bd0a80b"
   }
  },
  {
   "cell_type": "markdown",
   "source": [
    "# Advanced initialization schemes\n",
    "\n",
    "If we are not careful with initialization, the signals we propagate forward ($a^{(l)}$, $l=1,\\ldots,L$) and backward ($\\delta^l$, $l=L,L-1,\\ldots,1$) can blow up or shrink to zero. A statistical analysis of the variance of the signals for different activation functions can be found in these two papers: [Glorot initialization](http://proceedings.mlr.press/v9/glorot10a/glorot10a.pdf) and [He initialization](https://arxiv.org/pdf/1502.01852v1.pdf). \n",
    "\n",
    "The result of the analyses are proposals for how to make the initialization such that the variance of the signals (forward and backward) are kept approxmimatly constant when propagating from layer to layer. The exact expressions depend upon the non-linear activation function used. In Glorot initialization, the aim is to keep both the forward and backward variances constant whereas He only aims at keeping the variance in the forward pass constant.\n",
    "\n",
    "We define $n_{in}$ and $n_{out}$ as the number of input units and output units of a particular layer. \n",
    "\n",
    "The Glorot initialization has the form: \n",
    "\n",
    "$$w_{ij} \\sim N \\bigg( 0, \\, \\frac{2 \\alpha }{n_{in} + n_{out}} \\bigg) \\ . $$\n",
    "\n",
    "where $N(\\mu,\\sigma^2)$ is a Gaussian distribution with mean $\\mu$ and variance $\\sigma^2$ and $\\alpha$ is a parameter that depends upon the activation function used. For $\\tanh$, $\\alpha=1$ and for Rectified Linear Unit (ReLU) activations, $\\alpha=2$. (It is also possible to use a uniform distribution for initialization, see [this blog post](https://mmuratarat.github.io/2019-02-25/xavier-glorot-he-weight-init).) \n",
    "\n",
    "The He initialization is very similar\n",
    "\n",
    "$$w_{ij} \\sim N \\bigg( 0, \\, \\frac{\\alpha}{n_{in}} \\bigg) \\ . $$"
   ],
   "metadata": {
    "id": "b-jdEl-7FtGs"
   }
  },
  {
   "cell_type": "markdown",
   "source": [
    "## Exercise i) Glorot and He initialization\n",
    " \n",
    "Using the Initializer class, implement functions that implement Glorot and He \n",
    "\n",
    "Explain briefly how you would test numerically that these initializations have the sought after property. Hint: See plots in Glorot paper.\n",
    "\n",
    "Comment: If you want to be more advanced then try to make a universal initializer taking both the activation function and type (Glorot or He) as argument.\n",
    "  \n",
    "**Answer:**  \n",
    "To examine whether these initialization methods work properly, like in Glorot's paper, one can plot the statistics along with vertical histograms, showing the means and standard deviations of each hidden layer, at different times during training of a deep architecture with these two initializations respectively.  "
   ],
   "metadata": {
    "id": "mqeyab9qFtGs"
   }
  },
  {
   "cell_type": "code",
   "execution_count": 19,
   "source": [
    "## Glorot\n",
    "def DenseLayer_Glorot_tanh(n_in: int, n_out: int):\n",
    "  std = sqrt(2 / (n_in + n_out)) # <- replace with proper initialization\n",
    "  return DenseLayer(n_in, n_out, lambda x: x.tanh(), initializer = NormalInitializer(mean=0, std=std))\n",
    "\n",
    "## He\n",
    "def DenseLayer_He_relu(n_in: int, n_out: int):\n",
    "  std = sqrt(2 / n_in) # <- replace with proper initialization\n",
    "  return DenseLayer(n_in, n_out, lambda x: x.relu(), initializer = NormalInitializer(mean=0, std=std))"
   ],
   "outputs": [],
   "metadata": {
    "collapsed": true,
    "id": "Qyk01CgaFtGt"
   }
  },
  {
   "cell_type": "markdown",
   "source": [
    "## Exercise j) Forward pass unit test\n",
    "\n",
    "Write a bit of code to make a unit test that the forward pass works. This can be done by defining a simple network with for example all weights equal to one (using the ConstantInitializer method) and identity activation functions. \n",
    "\n",
    "Hints: Use the [assert](https://www.w3schools.com/python/ref_keyword_assert.asp), the nparray_to_Var and the Var_to_nparray commands. "
   ],
   "metadata": {
    "id": "-XyXBD37FtHk"
   }
  },
  {
   "cell_type": "code",
   "execution_count": 20,
   "source": [
    "# Insert code here\n",
    "\n",
    "# Define input\n",
    "x_unit_test = np.linspace(-1, 1, 5)\n",
    "# Define network\n",
    "NN_unit_test = [DenseLayer(1, 3, lambda x: x.identity(), initializer=ConstantInitializer(weight=1.0)), \\\n",
    "                DenseLayer(3, 1, lambda x: x.identity(), initializer=ConstantInitializer(weight=1.0))]\n",
    "\n",
    "# Forward pass unit test\n",
    "y_unit_test = Var_to_nparray(\n",
    "    forward(nparray_to_Var(x_unit_test), NN_unit_test))\n",
    "\n",
    "# print parameter and output in this 1-1 network\n",
    "print(\"Iutput in {} tests:\\n\".format(len(x_unit_test)), x_unit_test, '\\n')\n",
    "represent_para(NN_unit_test)\n",
    "print(\"Output in {} tests:\\n\".format(len(x_unit_test)), y_unit_test)\n"
   ],
   "outputs": [
    {
     "output_type": "stream",
     "name": "stdout",
     "text": [
      "Iutput in 5 tests:\n",
      " [-1.  -0.5  0.   0.5  1. ] \n",
      "\n",
      "Parameters in Layer 1:\n",
      "Weights: [[Var(v=1.0000, grad=0.0000), Var(v=1.0000, grad=0.0000), Var(v=1.0000, grad=0.0000)]]\n",
      "Biases: [Var(v=0.0000, grad=0.0000), Var(v=0.0000, grad=0.0000), Var(v=0.0000, grad=0.0000)] \n",
      "\n",
      "Parameters in Layer 2:\n",
      "Weights: [[Var(v=1.0000, grad=0.0000)], [Var(v=1.0000, grad=0.0000)], [Var(v=1.0000, grad=0.0000)]]\n",
      "Biases: [Var(v=0.0000, grad=0.0000)] \n",
      "\n",
      "Output in 5 tests:\n",
      " [[-3. ]\n",
      " [-1.5]\n",
      " [ 0. ]\n",
      " [ 1.5]\n",
      " [ 3. ]]\n"
     ]
    }
   ],
   "metadata": {
    "collapsed": true,
    "id": "k0miqRUAFtHl"
   }
  },
  {
   "cell_type": "markdown",
   "source": [
    "# Loss functions\n",
    "\n",
    "We are only missing a loss function to we need to define a loss function and its derivative with respect to the output of the neural network $y$"
   ],
   "metadata": {
    "id": "faCxhfFnFtHp"
   }
  },
  {
   "cell_type": "code",
   "execution_count": 21,
   "source": [
    "def squared_loss(t, y):\n",
    "  # add check that sizes agree\n",
    "  assert len(t) == len(y), \"training date and outputs must match in first dimension\"\n",
    "  \n",
    "  def squared_loss_single(t, y):\n",
    "    Loss = Var(0.0)\n",
    "    for i in range(len(t)): # sum over outputs\n",
    "      Loss += (t[i]-y[i]) ** 2\n",
    "    return Loss\n",
    "\n",
    "  Loss = Var(0.0)\n",
    "  for n in range(len(t)): # sum over training data\n",
    "    Loss += squared_loss_single(t[n],y[n])\n",
    "  return Loss"
   ],
   "outputs": [],
   "metadata": {
    "collapsed": true,
    "id": "I2eDYKvAFtHq"
   }
  },
  {
   "cell_type": "markdown",
   "source": [
    "## Exercise j) Implement cross entropy loss\n",
    "\n",
    "Insert code below to implement cross-entropy loss for general dimensionality of $t$. Use a logits formulation:\n",
    "$$\n",
    "\\rm{Loss} = - \\sum_i t_i \\, log \\, p_i \n",
    "$$\n",
    "with $p$ given by the the softmax function in terms of the logits $h$:\n",
    "$$\n",
    "p_i = \\frac{\\exp(h_i)}{\\sum_{i'} \\exp(h_{i'}) } .\n",
    "$$\n",
    "Inserting $p$ in the expression for the loss gives\n",
    "$$\n",
    "\\rm{Loss} = - \\sum_i t_i h_i + \\rm{LogSumExp}(h) \\ ,\n",
    "$$\n",
    "where \n",
    "$$\n",
    "\\rm{LogSumExp}(h) = \\log \\sum_i \\exp h_i \\ .\n",
    "$$\n",
    "This is true for $t$ being a one-hot vector. In practice you want to implement a [numerically stable](https://leimao.github.io/blog/LogSumExp/) version of LogSumExp. But we will not bother about that here.\n",
    "\n",
    "Help: You can add these methods in the Var class:\n",
    "\n",
    "    def exp(self):\n",
    "        return Var(exp(self.v), lambda: [(self, exp(self.v))])\n",
    "    \n",
    "    def log(self):\n",
    "        return Var(log(self.v), lambda: [(self, self.v ** -1)])"
   ],
   "metadata": {
    "id": "SrwSJ2UWFtHu"
   }
  },
  {
   "cell_type": "code",
   "execution_count": 22,
   "source": [
    "def cross_entropy_loss(t, y):\n",
    "  # check that sizes agree\n",
    "  assert len(t) == len(y), \"training date and outputs must match in first dimension\"\n",
    "  def log_sum_exp(h):\n",
    "    SumExp = 0\n",
    "    for i in range(h.shape[-1]):\n",
    "      SumExp += y[i].exp() \n",
    "    LogSumExp = SumExp.log()\n",
    "    return LogSumExp\n",
    "\n",
    "  Loss = Var(0.0)\n",
    "  for i in range(len(t)): \n",
    "    Loss -= t[i] * y[i]\n",
    "\n",
    "  Loss += log_sum_exp(y)\n",
    "  return Loss"
   ],
   "outputs": [],
   "metadata": {
    "collapsed": true,
    "id": "6nMuxyfzFtHv"
   }
  },
  {
   "cell_type": "markdown",
   "source": [
    "# Backward pass\n",
    "\n",
    "Now the magic happens! We get the calculation of the gradients for free. Just do:"
   ],
   "metadata": {
    "id": "8fAF5ew4FtHy"
   }
  },
  {
   "cell_type": "code",
   "execution_count": 23,
   "source": [
    "NN = [\n",
    "    DenseLayer(1, 5, lambda x: x.relu()),\n",
    "    DenseLayer(5, 1, lambda x: x.identity())\n",
    "]\n",
    "\n",
    "output = forward(x_train, NN)\n",
    "\n",
    "Loss = squared_loss(y_train,output)\n",
    "Loss.backward()"
   ],
   "outputs": [],
   "metadata": {
    "id": "iHyfPPI9Qqwu"
   }
  },
  {
   "cell_type": "markdown",
   "source": [
    "and the gradients will be calculated:"
   ],
   "metadata": {
    "id": "49biIAYKQ1oG"
   }
  },
  {
   "cell_type": "code",
   "execution_count": 24,
   "source": [
    "[print('Layer', i, '\\n', NN[i]) for i in range(len(NN))] "
   ],
   "outputs": [
    {
     "output_type": "stream",
     "name": "stdout",
     "text": [
      "Layer 0 \n",
      " Weights: [[Var(v=0.0071, grad=0.4041), Var(v=-0.0173, grad=6.6576), Var(v=0.0035, grad=-0.8730), Var(v=0.0644, grad=-14.3398), Var(v=-0.1151, grad=-18.0484)]]\n",
      "Biases: [Var(v=0.0000, grad=0.3472), Var(v=0.0000, grad=-6.0536), Var(v=0.0000, grad=-0.7501), Var(v=0.0000, grad=-12.3202), Var(v=0.0000, grad=16.4110)]\n",
      "Layer 1 \n",
      " Weights: [[Var(v=-0.0040, grad=-0.7192)], [Var(v=-0.0679, grad=1.6969)], [Var(v=0.0087, grad=-0.3534)], [Var(v=0.1426, grad=-6.4824)], [Var(v=0.1841, grad=11.2768)]]\n",
      "Biases: [Var(v=0.0000, grad=2.7043)]\n"
     ]
    },
    {
     "output_type": "execute_result",
     "data": {
      "text/plain": [
       "[None, None]"
      ]
     },
     "metadata": {},
     "execution_count": 24
    }
   ],
   "metadata": {
    "colab": {
     "base_uri": "https://localhost:8080/"
    },
    "id": "_rGt1bq_Q7uk",
    "outputId": "8d283577-9bd1-496b-f4a8-764a9507a4bf"
   }
  },
  {
   "cell_type": "markdown",
   "source": [
    "# Backward pass unit test\n",
    "\n",
    "Above we used finite differences to test that Nanograd is actually doing what it is supposed to do. We can in principle try the same for the neural network. But we will trust that the test above is enough."
   ],
   "metadata": {
    "id": "D7d7qK0uFtH9"
   }
  },
  {
   "cell_type": "markdown",
   "source": [
    "# Training and validation\n",
    "\n",
    "We are ready to train some neural networks!\n",
    "\n",
    "We initialize again:"
   ],
   "metadata": {
    "id": "WgBi8GOSFtIN"
   }
  },
  {
   "cell_type": "code",
   "execution_count": 25,
   "source": [
    "NN = [\n",
    "    DenseLayer(1, 5, lambda x: x.relu()),\n",
    "    DenseLayer(5, 1, lambda x: x.identity())\n",
    "]\n",
    "\n",
    "output = forward(x_train, NN)\n",
    "\n",
    "Loss = squared_loss(y_train,output)\n",
    "Loss.backward()"
   ],
   "outputs": [],
   "metadata": {
    "id": "01ePmzBzRtdh"
   }
  },
  {
   "cell_type": "markdown",
   "source": [
    "and make an update:\n",
    "\n",
    "We introduce a help function parameters to have a handle in all parameters in the network."
   ],
   "metadata": {
    "id": "10iRPiQ1ISHw"
   }
  },
  {
   "cell_type": "code",
   "execution_count": 26,
   "source": [
    "print('Network before update:')\n",
    "[print('Layer', i, '\\n', NN[i]) for i in range(len(NN))] \n",
    "\n",
    "def parameters(network):\n",
    "  params = []\n",
    "  for layer in range(len(network)):\n",
    "    params += network[layer].parameters()\n",
    "  return params\n",
    "\n",
    "def update_parameters(params, learning_rate=0.01):\n",
    "  for p in params:\n",
    "    p.v -= learning_rate*p.grad\n",
    "\n",
    "def zero_gradients(params):\n",
    "  for p in params:\n",
    "    p.grad = 0.0\n",
    "\n",
    "update_parameters(parameters(NN))\n",
    "\n",
    "print('\\nNetwork after update:')\n",
    "[print('Layer', i, '\\n', NN[i]) for i in range(len(NN))] \n",
    "\n",
    "zero_gradients(parameters(NN))\n",
    "\n",
    "print('\\nNetwork after zeroing gradients:')\n",
    "[print('Layer', i, '\\n', NN[i]) for i in range(len(NN))] "
   ],
   "outputs": [
    {
     "output_type": "stream",
     "name": "stdout",
     "text": [
      "Network before update:\n",
      "Layer 0 \n",
      " Weights: [[Var(v=-0.0040, grad=5.8468), Var(v=-0.1038, grad=-2.1158), Var(v=-0.0259, grad=-6.3105), Var(v=-0.1341, grad=5.7265), Var(v=-0.1444, grad=-12.6893)]]\n",
      "Biases: [Var(v=0.0000, grad=-5.3158), Var(v=0.0000, grad=1.9236), Var(v=0.0000, grad=5.7375), Var(v=0.0000, grad=-5.2064), Var(v=0.0000, grad=11.5369)]\n",
      "Layer 1 \n",
      " Weights: [[Var(v=-0.0600, grad=0.3858)], [Var(v=0.0217, grad=10.1208)], [Var(v=0.0647, grad=2.5218)], [Var(v=-0.0587, grad=13.0677)], [Var(v=0.1302, grad=14.0753)]]\n",
      "Biases: [Var(v=0.0000, grad=1.3534)]\n",
      "\n",
      "Network after update:\n",
      "Layer 0 \n",
      " Weights: [[Var(v=-0.0624, grad=5.8468), Var(v=-0.0827, grad=-2.1158), Var(v=0.0372, grad=-6.3105), Var(v=-0.1913, grad=5.7265), Var(v=-0.0175, grad=-12.6893)]]\n",
      "Biases: [Var(v=0.0532, grad=-5.3158), Var(v=-0.0192, grad=1.9236), Var(v=-0.0574, grad=5.7375), Var(v=0.0521, grad=-5.2064), Var(v=-0.1154, grad=11.5369)]\n",
      "Layer 1 \n",
      " Weights: [[Var(v=-0.0638, grad=0.3858)], [Var(v=-0.0795, grad=10.1208)], [Var(v=0.0395, grad=2.5218)], [Var(v=-0.1894, grad=13.0677)], [Var(v=-0.0106, grad=14.0753)]]\n",
      "Biases: [Var(v=-0.0135, grad=1.3534)]\n",
      "\n",
      "Network after zeroing gradients:\n",
      "Layer 0 \n",
      " Weights: [[Var(v=-0.0624, grad=0.0000), Var(v=-0.0827, grad=0.0000), Var(v=0.0372, grad=0.0000), Var(v=-0.1913, grad=0.0000), Var(v=-0.0175, grad=0.0000)]]\n",
      "Biases: [Var(v=0.0532, grad=0.0000), Var(v=-0.0192, grad=0.0000), Var(v=-0.0574, grad=0.0000), Var(v=0.0521, grad=0.0000), Var(v=-0.1154, grad=0.0000)]\n",
      "Layer 1 \n",
      " Weights: [[Var(v=-0.0638, grad=0.0000)], [Var(v=-0.0795, grad=0.0000)], [Var(v=0.0395, grad=0.0000)], [Var(v=-0.1894, grad=0.0000)], [Var(v=-0.0106, grad=0.0000)]]\n",
      "Biases: [Var(v=-0.0135, grad=0.0000)]\n"
     ]
    },
    {
     "output_type": "execute_result",
     "data": {
      "text/plain": [
       "[None, None]"
      ]
     },
     "metadata": {},
     "execution_count": 26
    }
   ],
   "metadata": {
    "colab": {
     "base_uri": "https://localhost:8080/"
    },
    "id": "dhAI7eyeznia",
    "outputId": "8584bbad-00aa-4130-9961-44e9ae7fb4ed"
   }
  },
  {
   "cell_type": "code",
   "execution_count": 27,
   "source": [
    "# Initialize an arbitrary neural network\n",
    "NN = [\n",
    "    DenseLayer(1, 8, lambda x: x.relu()),\n",
    "    DenseLayer(8, 1, lambda x: x.identity())\n",
    "]\n",
    "\n",
    "# Recommended hyper-parameters for 3-D: \n",
    "#NN = [\n",
    "#    DenseLayer(3, 16, lambda x: x.relu()),\n",
    "#    DenseLayer(16, 1, lambda x: x.identity())\n",
    "#]\n",
    "\n",
    "\n",
    "### Notice that, when we switch from tanh to relu activation, we decrease the learning rate. This is due the stability of the gradients \n",
    "## of the activation functions."
   ],
   "outputs": [],
   "metadata": {
    "collapsed": true,
    "id": "woWYpdw6FtIO"
   }
  },
  {
   "cell_type": "code",
   "execution_count": 28,
   "source": [
    "# Initialize training hyperparameters\n",
    "EPOCHS = 200\n",
    "LEARN_R = 2e-3 "
   ],
   "outputs": [],
   "metadata": {
    "collapsed": true,
    "id": "mdqaqYBVFtIR"
   }
  },
  {
   "cell_type": "code",
   "execution_count": 29,
   "source": [
    "train_loss = []\n",
    "val_loss = []\n",
    "\n",
    "for e in range(EPOCHS):\n",
    "     \n",
    "    # Forward pass and loss computation\n",
    "    Loss = squared_loss(y_train, forward(x_train, NN))\n",
    "\n",
    "    # Backward pass\n",
    "    Loss.backward()\n",
    "    \n",
    "    # gradient descent update\n",
    "    update_parameters(parameters(NN), LEARN_R)\n",
    "    zero_gradients(parameters(NN))\n",
    "    \n",
    "    # Training loss\n",
    "    train_loss.append(Loss.v)\n",
    "    \n",
    "    # Validation\n",
    "    Loss_validation = squared_loss(y_validation, forward(x_validation, NN))\n",
    "    val_loss.append(Loss_validation.v)\n",
    "    \n",
    "    if e%10==0:\n",
    "        print(\"{:4d}\".format(e),\n",
    "              \"({:5.2f}%)\".format(e/EPOCHS*100), \n",
    "              \"Train loss: {:4.3f} \\t Validation loss: {:4.3f}\".format(train_loss[-1], val_loss[-1]))\n",
    "        \n"
   ],
   "outputs": [
    {
     "output_type": "stream",
     "name": "stdout",
     "text": [
      "   0 ( 0.00%) Train loss: 104.806 \t Validation loss: 105.970\n",
      "  10 ( 5.00%) Train loss: 33.529 \t Validation loss: 24.018\n",
      "  20 (10.00%) Train loss: 13.975 \t Validation loss: 10.673\n",
      "  30 (15.00%) Train loss: 13.486 \t Validation loss: 10.260\n",
      "  40 (20.00%) Train loss: 12.985 \t Validation loss: 9.805\n",
      "  50 (25.00%) Train loss: 12.720 \t Validation loss: 9.524\n",
      "  60 (30.00%) Train loss: 12.539 \t Validation loss: 9.306\n",
      "  70 (35.00%) Train loss: 12.363 \t Validation loss: 9.123\n",
      "  80 (40.00%) Train loss: 12.228 \t Validation loss: 8.973\n",
      "  90 (45.00%) Train loss: 12.108 \t Validation loss: 8.887\n",
      " 100 (50.00%) Train loss: 11.997 \t Validation loss: 8.845\n",
      " 110 (55.00%) Train loss: 11.952 \t Validation loss: 8.851\n",
      " 120 (60.00%) Train loss: 11.925 \t Validation loss: 8.878\n",
      " 130 (65.00%) Train loss: 11.908 \t Validation loss: 8.903\n",
      " 140 (70.00%) Train loss: 11.898 \t Validation loss: 8.925\n",
      " 150 (75.00%) Train loss: 11.893 \t Validation loss: 8.935\n",
      " 160 (80.00%) Train loss: 11.892 \t Validation loss: 8.945\n",
      " 170 (85.00%) Train loss: 11.891 \t Validation loss: 8.951\n",
      " 180 (90.00%) Train loss: 11.891 \t Validation loss: 8.955\n",
      " 190 (95.00%) Train loss: 11.891 \t Validation loss: 8.959\n"
     ]
    }
   ],
   "metadata": {
    "colab": {
     "base_uri": "https://localhost:8080/"
    },
    "collapsed": true,
    "id": "5kfg76GMFtIW",
    "outputId": "e30cf68a-31f2-42b4-cc5e-860c297c0f04",
    "scrolled": true
   }
  },
  {
   "cell_type": "code",
   "execution_count": 30,
   "source": [
    "plt.plot(range(len(train_loss)), train_loss);\n",
    "plt.plot(range(len(val_loss)), val_loss);"
   ],
   "outputs": [
    {
     "output_type": "display_data",
     "data": {
      "image/png": "[encoded data removed]",
      "text/plain": [
       "<Figure size 432x288 with 1 Axes>"
      ]
     },
     "metadata": {
      "needs_background": "light"
     }
    }
   ],
   "metadata": {
    "colab": {
     "base_uri": "https://localhost:8080/",
     "height": 265
    },
    "collapsed": true,
    "id": "VetyRWFwFtIY",
    "outputId": "344e490d-6d7d-455a-fa6f-88dd11eb957e"
   }
  },
  {
   "cell_type": "markdown",
   "source": [
    "# Testing\n",
    "\n",
    "We have kept the calculation of the test error separate in order to emphasize that you should not use the test set in optimization."
   ],
   "metadata": {
    "id": "8OgmIrM9FtIb"
   }
  },
  {
   "cell_type": "code",
   "execution_count": 31,
   "source": [
    "output_test = forward(x_test, NN)"
   ],
   "outputs": [],
   "metadata": {
    "collapsed": true,
    "id": "HmNi7S-vFtIc"
   }
  },
  {
   "cell_type": "code",
   "execution_count": 32,
   "source": [
    "y_test_np = Var_to_nparray(y_test)\n",
    "plt.scatter(y_test_np, Var_to_nparray(output_test));\n",
    "plt.plot([np.min(y_test_np), np.max(y_test_np)], [np.min(y_test_np), np.max(y_test_np)], color='k');\n",
    "plt.xlabel(\"y\");\n",
    "plt.ylabel(\"$\\hat{y}$\");\n",
    "plt.title(\"Model prediction vs real in the test set, the close to the line the better\")\n",
    "plt.grid(True);\n",
    "plt.axis('equal');\n",
    "plt.tight_layout();\n",
    "\n",
    "Loss_test = squared_loss(y_test, forward(x_test, NN))\n",
    "\n",
    "print(\"Test loss:  {:4.3f}\".format(Loss_test.v))"
   ],
   "outputs": [
    {
     "output_type": "stream",
     "name": "stdout",
     "text": [
      "Test loss:  9.778\n"
     ]
    },
    {
     "output_type": "display_data",
     "data": {
      "image/png": "[encoded data removed]",
      "text/plain": [
       "<Figure size 432x288 with 1 Axes>"
      ]
     },
     "metadata": {
      "needs_background": "light"
     }
    }
   ],
   "metadata": {
    "colab": {
     "base_uri": "https://localhost:8080/",
     "height": 316
    },
    "collapsed": true,
    "id": "7mmJOTSEFtIf",
    "outputId": "e3264095-cefe-4aee-893d-bf152438e332"
   }
  },
  {
   "cell_type": "code",
   "execution_count": 33,
   "source": [
    "x_test_np = Var_to_nparray(x_test)\n",
    "x_train_np = Var_to_nparray(x_train)\n",
    "y_train_np = Var_to_nparray(y_train)\n",
    "if D1:\n",
    "    plt.scatter(x_train_np, y_train_np, label=\"train data\");\n",
    "    plt.scatter(x_test_np, Var_to_nparray(output_test), label=\"test prediction\");\n",
    "    plt.scatter(x_test_np, y_test_np, label=\"test data\");\n",
    "    plt.legend();\n",
    "    plt.xlabel(\"x\");\n",
    "    plt.ylabel(\"y\");\n",
    "else:\n",
    "    plt.scatter(x_train_np[:,1], y_train, label=\"train data\");\n",
    "    plt.scatter(x_test_np[:,1], Var_to_nparray(output_test), label=\"test data prediction\");\n",
    "    plt.scatter(x_test_np[:,1], y_test_np, label=\"test data\");\n",
    "    plt.legend();\n",
    "    plt.xlabel(\"x\");\n",
    "    plt.ylabel(\"y\");"
   ],
   "outputs": [
    {
     "output_type": "display_data",
     "data": {
      "image/png": "[encoded data removed]",
      "text/plain": [
       "<Figure size 432x288 with 1 Axes>"
      ]
     },
     "metadata": {
      "needs_background": "light"
     }
    }
   ],
   "metadata": {
    "colab": {
     "base_uri": "https://localhost:8080/",
     "height": 279
    },
    "collapsed": true,
    "id": "ODi0WlmQFtIh",
    "outputId": "d1ab874f-0717-4987-87bf-1f0c7c8e7148"
   }
  },
  {
   "cell_type": "markdown",
   "source": [
    "## Exercise k) Show overfitting, underfitting and just right fitting\n",
    "\n",
    "Vary the architecture and other things to show clear signs of overfitting (=training loss significantly lower than test loss) and underfitting (=not fitting enough to training data so that test performance is also hurt).\n",
    "\n",
    "See also if you can get a good compromise which leads to a low validation loss. \n",
    "\n",
    "For this problem do you see any big difference between validation and test loss? The answer here will probably be no. Discuss cases where it is important to keep the two separate.\n",
    "\n",
    "_Insert written answer here._\n",
    "\n",
    "**Answer:**  \n",
    "By splitting the dataset, we are capable to know whether the NN has learned a generalizable pattern or has just simply memorized the training data.\n",
    "Below is the code of just right fitting"
   ],
   "metadata": {
    "id": "zTBAmjsAFtIk"
   }
  },
  {
   "cell_type": "markdown",
   "source": [
    "# Just right fitting"
   ],
   "metadata": {}
  },
  {
   "cell_type": "code",
   "execution_count": 188,
   "source": [
    "D1 = True\n",
    "x_train, y_train,  x_validation, y_validation, x_test, y_test = data_generator(noise=0.3, n_samples = 200, D1=D1)\n",
    "if D1:\n",
    "    plt.scatter(x_train[:,0], y_train);\n",
    "    plt.scatter(x_validation[:,0], y_validation);\n",
    "    plt.scatter(x_test[:,0], y_test);\n",
    "else:\n",
    "    plt.scatter(x_train[:,1], y_train);\n",
    "    plt.scatter(x_validation[:,1], y_validation);\n",
    "    plt.scatter(x_test[:,1], y_test);\n",
    "plt.show()\n",
    "x_train = nparray_to_Var(x_train)\n",
    "y_train = nparray_to_Var(y_train)\n",
    "x_validation = nparray_to_Var(x_validation)\n",
    "y_validation = nparray_to_Var(y_validation)\n",
    "x_test = nparray_to_Var(x_test)\n",
    "y_test = nparray_to_Var(y_test)\n",
    "#####  UNDERFITTING START #####\n",
    "# Initialize an arbitrary neural network\n",
    "NN = [\n",
    "    DenseLayer(1, 8, lambda x: x.sigmoid(), initializer = NormalInitializer(std=3)),\n",
    "    DenseLayer(8, 1, lambda x: x.identity(), initializer = NormalInitializer(std=3))\n",
    "]\n",
    "# Initialize training hyperparameters\n",
    "EPOCHS = 5000\n",
    "LEARN_R = 3e-3\n",
    "\n",
    "train_loss = []\n",
    "val_loss = []\n",
    "\n",
    "for e in range(EPOCHS):\n",
    "     \n",
    "    # Forward pass and loss computation\n",
    "    Loss = squared_loss(y_train, forward(x_train, NN))\n",
    "\n",
    "    # Backward pass\n",
    "    Loss.backward()\n",
    "    \n",
    "    # gradient descent update\n",
    "    update_parameters(parameters(NN), LEARN_R)\n",
    "    zero_gradients(parameters(NN))\n",
    "    \n",
    "    # Training loss\n",
    "    train_loss.append(Loss.v)\n",
    "    \n",
    "    # Validation\n",
    "    Loss_validation = squared_loss(y_validation, forward(x_validation, NN))\n",
    "    val_loss.append(Loss_validation.v)\n",
    "    \n",
    "    if e%10==0:\n",
    "        print(\"{:4d}\".format(e),\n",
    "              \"({:5.2f}%)\".format(e/EPOCHS*100), \n",
    "              \"Train loss: {:4.3f} \\t Validation loss: {:4.3f}\".format(train_loss[-1], val_loss[-1]))\n",
    "        \n",
    "plt.plot(range(len(train_loss)), train_loss)\n",
    "plt.plot(range(len(val_loss)), val_loss)\n",
    "#####  TESTING #####\n",
    "output_test = forward(x_test, NN)\n",
    "y_test_np = Var_to_nparray(y_test)\n",
    "plt.scatter(y_test_np, Var_to_nparray(output_test));\n",
    "plt.plot([np.min(y_test_np), np.max(y_test_np)], [np.min(y_test_np), np.max(y_test_np)], color='k');\n",
    "plt.xlabel(\"y\");\n",
    "plt.ylabel(\"$\\hat{y}$\");\n",
    "plt.title(\"Model prediction vs real in the test set, the close to the line the better\")\n",
    "plt.grid(True);\n",
    "plt.axis('equal');\n",
    "plt.tight_layout();\n",
    "\n",
    "Loss_test = squared_loss(y_test, forward(x_test, NN))\n",
    "\n",
    "print(\"Test loss:  {:4.3f}\".format(Loss_test.v))"
   ],
   "outputs": [
    {
     "output_type": "display_data",
     "data": {
      "image/png": "[encoded data removed]",
      "text/plain": [
       "<Figure size 432x288 with 1 Axes>"
      ]
     },
     "metadata": {
      "needs_background": "light"
     }
    },
    {
     "output_type": "stream",
     "name": "stdout",
     "text": [
      "   0 ( 0.00%) Train loss: 8052.361 \t Validation loss: 4612.664\n",
      "  10 ( 0.20%) Train loss: 58.798 \t Validation loss: 71.202\n",
      "  20 ( 0.40%) Train loss: 33.437 \t Validation loss: 39.997\n",
      "  30 ( 0.60%) Train loss: 19.711 \t Validation loss: 23.066\n",
      "  40 ( 0.80%) Train loss: 12.507 \t Validation loss: 14.455\n",
      "  50 ( 1.00%) Train loss: 8.875 \t Validation loss: 10.129\n",
      "  60 ( 1.20%) Train loss: 6.896 \t Validation loss: 7.806\n",
      "  70 ( 1.40%) Train loss: 5.720 \t Validation loss: 6.477\n",
      "  80 ( 1.60%) Train loss: 4.971 \t Validation loss: 5.679\n",
      "  90 ( 1.80%) Train loss: 4.464 \t Validation loss: 5.177\n",
      " 100 ( 2.00%) Train loss: 4.102 \t Validation loss: 4.849\n",
      " 110 ( 2.20%) Train loss: 3.831 \t Validation loss: 4.627\n",
      " 120 ( 2.40%) Train loss: 3.620 \t Validation loss: 4.473\n",
      " 130 ( 2.60%) Train loss: 3.450 \t Validation loss: 4.364\n",
      " 140 ( 2.80%) Train loss: 3.309 \t Validation loss: 4.286\n",
      " 150 ( 3.00%) Train loss: 3.190 \t Validation loss: 4.230\n",
      " 160 ( 3.20%) Train loss: 3.086 \t Validation loss: 4.190\n",
      " 170 ( 3.40%) Train loss: 2.996 \t Validation loss: 4.162\n",
      " 180 ( 3.60%) Train loss: 2.915 \t Validation loss: 4.143\n",
      " 190 ( 3.80%) Train loss: 2.842 \t Validation loss: 4.131\n",
      " 200 ( 4.00%) Train loss: 2.777 \t Validation loss: 4.125\n",
      " 210 ( 4.20%) Train loss: 2.717 \t Validation loss: 4.124\n",
      " 220 ( 4.40%) Train loss: 2.662 \t Validation loss: 4.126\n",
      " 230 ( 4.60%) Train loss: 2.611 \t Validation loss: 4.131\n",
      " 240 ( 4.80%) Train loss: 2.564 \t Validation loss: 4.138\n",
      " 250 ( 5.00%) Train loss: 2.521 \t Validation loss: 4.148\n",
      " 260 ( 5.20%) Train loss: 2.480 \t Validation loss: 4.159\n",
      " 270 ( 5.40%) Train loss: 2.442 \t Validation loss: 4.171\n",
      " 280 ( 5.60%) Train loss: 2.406 \t Validation loss: 4.185\n",
      " 290 ( 5.80%) Train loss: 2.373 \t Validation loss: 4.199\n",
      " 300 ( 6.00%) Train loss: 2.341 \t Validation loss: 4.214\n",
      " 310 ( 6.20%) Train loss: 2.311 \t Validation loss: 4.230\n",
      " 320 ( 6.40%) Train loss: 2.283 \t Validation loss: 4.246\n",
      " 330 ( 6.60%) Train loss: 2.256 \t Validation loss: 4.263\n",
      " 340 ( 6.80%) Train loss: 2.231 \t Validation loss: 4.280\n",
      " 350 ( 7.00%) Train loss: 2.207 \t Validation loss: 4.297\n",
      " 360 ( 7.20%) Train loss: 2.184 \t Validation loss: 4.314\n",
      " 370 ( 7.40%) Train loss: 2.162 \t Validation loss: 4.331\n",
      " 380 ( 7.60%) Train loss: 2.141 \t Validation loss: 4.349\n",
      " 390 ( 7.80%) Train loss: 2.121 \t Validation loss: 4.366\n",
      " 400 ( 8.00%) Train loss: 2.102 \t Validation loss: 4.383\n",
      " 410 ( 8.20%) Train loss: 2.084 \t Validation loss: 4.401\n",
      " 420 ( 8.40%) Train loss: 2.067 \t Validation loss: 4.418\n",
      " 430 ( 8.60%) Train loss: 2.050 \t Validation loss: 4.435\n",
      " 440 ( 8.80%) Train loss: 2.034 \t Validation loss: 4.452\n",
      " 450 ( 9.00%) Train loss: 2.018 \t Validation loss: 4.469\n",
      " 460 ( 9.20%) Train loss: 2.003 \t Validation loss: 4.486\n",
      " 470 ( 9.40%) Train loss: 1.989 \t Validation loss: 4.502\n",
      " 480 ( 9.60%) Train loss: 1.975 \t Validation loss: 4.519\n",
      " 490 ( 9.80%) Train loss: 1.962 \t Validation loss: 4.535\n",
      " 500 (10.00%) Train loss: 1.949 \t Validation loss: 4.551\n",
      " 510 (10.20%) Train loss: 1.937 \t Validation loss: 4.567\n",
      " 520 (10.40%) Train loss: 1.925 \t Validation loss: 4.582\n",
      " 530 (10.60%) Train loss: 1.913 \t Validation loss: 4.598\n",
      " 540 (10.80%) Train loss: 1.902 \t Validation loss: 4.613\n",
      " 550 (11.00%) Train loss: 1.891 \t Validation loss: 4.628\n",
      " 560 (11.20%) Train loss: 1.880 \t Validation loss: 4.643\n",
      " 570 (11.40%) Train loss: 1.870 \t Validation loss: 4.657\n",
      " 580 (11.60%) Train loss: 1.860 \t Validation loss: 4.672\n",
      " 590 (11.80%) Train loss: 1.851 \t Validation loss: 4.686\n",
      " 600 (12.00%) Train loss: 1.842 \t Validation loss: 4.700\n",
      " 610 (12.20%) Train loss: 1.833 \t Validation loss: 4.713\n",
      " 620 (12.40%) Train loss: 1.824 \t Validation loss: 4.727\n",
      " 630 (12.60%) Train loss: 1.815 \t Validation loss: 4.740\n",
      " 640 (12.80%) Train loss: 1.807 \t Validation loss: 4.753\n",
      " 650 (13.00%) Train loss: 1.799 \t Validation loss: 4.766\n",
      " 660 (13.20%) Train loss: 1.791 \t Validation loss: 4.779\n",
      " 670 (13.40%) Train loss: 1.784 \t Validation loss: 4.791\n",
      " 680 (13.60%) Train loss: 1.776 \t Validation loss: 4.803\n",
      " 690 (13.80%) Train loss: 1.769 \t Validation loss: 4.815\n",
      " 700 (14.00%) Train loss: 1.762 \t Validation loss: 4.827\n",
      " 710 (14.20%) Train loss: 1.755 \t Validation loss: 4.839\n",
      " 720 (14.40%) Train loss: 1.749 \t Validation loss: 4.850\n",
      " 730 (14.60%) Train loss: 1.742 \t Validation loss: 4.861\n",
      " 740 (14.80%) Train loss: 1.736 \t Validation loss: 4.872\n",
      " 750 (15.00%) Train loss: 1.730 \t Validation loss: 4.883\n",
      " 760 (15.20%) Train loss: 1.724 \t Validation loss: 4.893\n",
      " 770 (15.40%) Train loss: 1.718 \t Validation loss: 4.904\n",
      " 780 (15.60%) Train loss: 1.712 \t Validation loss: 4.914\n",
      " 790 (15.80%) Train loss: 1.707 \t Validation loss: 4.924\n",
      " 800 (16.00%) Train loss: 1.701 \t Validation loss: 4.934\n",
      " 810 (16.20%) Train loss: 1.696 \t Validation loss: 4.943\n",
      " 820 (16.40%) Train loss: 1.691 \t Validation loss: 4.953\n",
      " 830 (16.60%) Train loss: 1.686 \t Validation loss: 4.962\n",
      " 840 (16.80%) Train loss: 1.681 \t Validation loss: 4.971\n",
      " 850 (17.00%) Train loss: 1.676 \t Validation loss: 4.980\n",
      " 860 (17.20%) Train loss: 1.671 \t Validation loss: 4.988\n",
      " 870 (17.40%) Train loss: 1.667 \t Validation loss: 4.997\n",
      " 880 (17.60%) Train loss: 1.662 \t Validation loss: 5.005\n",
      " 890 (17.80%) Train loss: 1.658 \t Validation loss: 5.013\n",
      " 900 (18.00%) Train loss: 1.653 \t Validation loss: 5.021\n",
      " 910 (18.20%) Train loss: 1.649 \t Validation loss: 5.029\n",
      " 920 (18.40%) Train loss: 1.645 \t Validation loss: 5.037\n",
      " 930 (18.60%) Train loss: 1.641 \t Validation loss: 5.044\n",
      " 940 (18.80%) Train loss: 1.637 \t Validation loss: 5.051\n",
      " 950 (19.00%) Train loss: 1.633 \t Validation loss: 5.058\n",
      " 960 (19.20%) Train loss: 1.629 \t Validation loss: 5.065\n",
      " 970 (19.40%) Train loss: 1.626 \t Validation loss: 5.072\n",
      " 980 (19.60%) Train loss: 1.622 \t Validation loss: 5.079\n",
      " 990 (19.80%) Train loss: 1.618 \t Validation loss: 5.085\n",
      "1000 (20.00%) Train loss: 1.615 \t Validation loss: 5.092\n",
      "1010 (20.20%) Train loss: 1.612 \t Validation loss: 5.098\n",
      "1020 (20.40%) Train loss: 1.608 \t Validation loss: 5.104\n",
      "1030 (20.60%) Train loss: 1.605 \t Validation loss: 5.110\n",
      "1040 (20.80%) Train loss: 1.602 \t Validation loss: 5.115\n",
      "1050 (21.00%) Train loss: 1.598 \t Validation loss: 5.121\n",
      "1060 (21.20%) Train loss: 1.595 \t Validation loss: 5.126\n",
      "1070 (21.40%) Train loss: 1.592 \t Validation loss: 5.131\n",
      "1080 (21.60%) Train loss: 1.589 \t Validation loss: 5.136\n",
      "1090 (21.80%) Train loss: 1.586 \t Validation loss: 5.141\n",
      "1100 (22.00%) Train loss: 1.583 \t Validation loss: 5.146\n",
      "1110 (22.20%) Train loss: 1.581 \t Validation loss: 5.151\n",
      "1120 (22.40%) Train loss: 1.578 \t Validation loss: 5.155\n",
      "1130 (22.60%) Train loss: 1.575 \t Validation loss: 5.160\n",
      "1140 (22.80%) Train loss: 1.572 \t Validation loss: 5.164\n",
      "1150 (23.00%) Train loss: 1.570 \t Validation loss: 5.168\n",
      "1160 (23.20%) Train loss: 1.567 \t Validation loss: 5.172\n",
      "1170 (23.40%) Train loss: 1.565 \t Validation loss: 5.176\n",
      "1180 (23.60%) Train loss: 1.562 \t Validation loss: 5.179\n",
      "1190 (23.80%) Train loss: 1.560 \t Validation loss: 5.183\n",
      "1200 (24.00%) Train loss: 1.557 \t Validation loss: 5.186\n",
      "1210 (24.20%) Train loss: 1.555 \t Validation loss: 5.189\n",
      "1220 (24.40%) Train loss: 1.552 \t Validation loss: 5.193\n",
      "1230 (24.60%) Train loss: 1.550 \t Validation loss: 5.196\n",
      "1240 (24.80%) Train loss: 1.548 \t Validation loss: 5.198\n",
      "1250 (25.00%) Train loss: 1.546 \t Validation loss: 5.201\n",
      "1260 (25.20%) Train loss: 1.543 \t Validation loss: 5.204\n",
      "1270 (25.40%) Train loss: 1.541 \t Validation loss: 5.206\n",
      "1280 (25.60%) Train loss: 1.539 \t Validation loss: 5.209\n",
      "1290 (25.80%) Train loss: 1.537 \t Validation loss: 5.211\n",
      "1300 (26.00%) Train loss: 1.535 \t Validation loss: 5.213\n",
      "1310 (26.20%) Train loss: 1.533 \t Validation loss: 5.215\n",
      "1320 (26.40%) Train loss: 1.531 \t Validation loss: 5.217\n",
      "1330 (26.60%) Train loss: 1.529 \t Validation loss: 5.219\n",
      "1340 (26.80%) Train loss: 1.527 \t Validation loss: 5.220\n",
      "1350 (27.00%) Train loss: 1.525 \t Validation loss: 5.222\n",
      "1360 (27.20%) Train loss: 1.523 \t Validation loss: 5.223\n",
      "1370 (27.40%) Train loss: 1.521 \t Validation loss: 5.224\n",
      "1380 (27.60%) Train loss: 1.519 \t Validation loss: 5.226\n",
      "1390 (27.80%) Train loss: 1.517 \t Validation loss: 5.227\n",
      "1400 (28.00%) Train loss: 1.516 \t Validation loss: 5.228\n",
      "1410 (28.20%) Train loss: 1.514 \t Validation loss: 5.228\n",
      "1420 (28.40%) Train loss: 1.512 \t Validation loss: 5.229\n",
      "1430 (28.60%) Train loss: 1.510 \t Validation loss: 5.230\n",
      "1440 (28.80%) Train loss: 1.509 \t Validation loss: 5.230\n",
      "1450 (29.00%) Train loss: 1.507 \t Validation loss: 5.231\n",
      "1460 (29.20%) Train loss: 1.505 \t Validation loss: 5.231\n",
      "1470 (29.40%) Train loss: 1.504 \t Validation loss: 5.231\n",
      "1480 (29.60%) Train loss: 1.502 \t Validation loss: 5.231\n",
      "1490 (29.80%) Train loss: 1.500 \t Validation loss: 5.231\n",
      "1500 (30.00%) Train loss: 1.499 \t Validation loss: 5.231\n",
      "1510 (30.20%) Train loss: 1.497 \t Validation loss: 5.231\n",
      "1520 (30.40%) Train loss: 1.496 \t Validation loss: 5.231\n",
      "1530 (30.60%) Train loss: 1.494 \t Validation loss: 5.230\n",
      "1540 (30.80%) Train loss: 1.493 \t Validation loss: 5.230\n",
      "1550 (31.00%) Train loss: 1.491 \t Validation loss: 5.229\n",
      "1560 (31.20%) Train loss: 1.490 \t Validation loss: 5.228\n",
      "1570 (31.40%) Train loss: 1.488 \t Validation loss: 5.228\n",
      "1580 (31.60%) Train loss: 1.487 \t Validation loss: 5.227\n",
      "1590 (31.80%) Train loss: 1.485 \t Validation loss: 5.226\n",
      "1600 (32.00%) Train loss: 1.484 \t Validation loss: 5.225\n",
      "1610 (32.20%) Train loss: 1.482 \t Validation loss: 5.224\n",
      "1620 (32.40%) Train loss: 1.481 \t Validation loss: 5.222\n",
      "1630 (32.60%) Train loss: 1.479 \t Validation loss: 5.221\n",
      "1640 (32.80%) Train loss: 1.478 \t Validation loss: 5.219\n",
      "1650 (33.00%) Train loss: 1.477 \t Validation loss: 5.218\n",
      "1660 (33.20%) Train loss: 1.475 \t Validation loss: 5.216\n",
      "1670 (33.40%) Train loss: 1.474 \t Validation loss: 5.215\n",
      "1680 (33.60%) Train loss: 1.473 \t Validation loss: 5.213\n",
      "1690 (33.80%) Train loss: 1.471 \t Validation loss: 5.211\n",
      "1700 (34.00%) Train loss: 1.470 \t Validation loss: 5.209\n",
      "1710 (34.20%) Train loss: 1.469 \t Validation loss: 5.207\n",
      "1720 (34.40%) Train loss: 1.468 \t Validation loss: 5.205\n",
      "1730 (34.60%) Train loss: 1.466 \t Validation loss: 5.203\n",
      "1740 (34.80%) Train loss: 1.465 \t Validation loss: 5.201\n",
      "1750 (35.00%) Train loss: 1.464 \t Validation loss: 5.199\n",
      "1760 (35.20%) Train loss: 1.463 \t Validation loss: 5.196\n",
      "1770 (35.40%) Train loss: 1.461 \t Validation loss: 5.194\n",
      "1780 (35.60%) Train loss: 1.460 \t Validation loss: 5.191\n",
      "1790 (35.80%) Train loss: 1.459 \t Validation loss: 5.189\n",
      "1800 (36.00%) Train loss: 1.458 \t Validation loss: 5.186\n",
      "1810 (36.20%) Train loss: 1.457 \t Validation loss: 5.183\n",
      "1820 (36.40%) Train loss: 1.455 \t Validation loss: 5.180\n",
      "1830 (36.60%) Train loss: 1.454 \t Validation loss: 5.178\n",
      "1840 (36.80%) Train loss: 1.453 \t Validation loss: 5.175\n",
      "1850 (37.00%) Train loss: 1.452 \t Validation loss: 5.172\n",
      "1860 (37.20%) Train loss: 1.451 \t Validation loss: 5.169\n",
      "1870 (37.40%) Train loss: 1.450 \t Validation loss: 5.166\n",
      "1880 (37.60%) Train loss: 1.449 \t Validation loss: 5.163\n",
      "1890 (37.80%) Train loss: 1.447 \t Validation loss: 5.159\n",
      "1900 (38.00%) Train loss: 1.446 \t Validation loss: 5.156\n",
      "1910 (38.20%) Train loss: 1.445 \t Validation loss: 5.153\n",
      "1920 (38.40%) Train loss: 1.444 \t Validation loss: 5.149\n",
      "1930 (38.60%) Train loss: 1.443 \t Validation loss: 5.146\n",
      "1940 (38.80%) Train loss: 1.442 \t Validation loss: 5.142\n",
      "1950 (39.00%) Train loss: 1.441 \t Validation loss: 5.139\n",
      "1960 (39.20%) Train loss: 1.440 \t Validation loss: 5.135\n",
      "1970 (39.40%) Train loss: 1.439 \t Validation loss: 5.132\n",
      "1980 (39.60%) Train loss: 1.438 \t Validation loss: 5.128\n",
      "1990 (39.80%) Train loss: 1.437 \t Validation loss: 5.124\n",
      "2000 (40.00%) Train loss: 1.436 \t Validation loss: 5.121\n",
      "2010 (40.20%) Train loss: 1.435 \t Validation loss: 5.117\n",
      "2020 (40.40%) Train loss: 1.434 \t Validation loss: 5.113\n",
      "2030 (40.60%) Train loss: 1.433 \t Validation loss: 5.109\n",
      "2040 (40.80%) Train loss: 1.432 \t Validation loss: 5.105\n",
      "2050 (41.00%) Train loss: 1.431 \t Validation loss: 5.101\n",
      "2060 (41.20%) Train loss: 1.430 \t Validation loss: 5.097\n",
      "2070 (41.40%) Train loss: 1.429 \t Validation loss: 5.093\n",
      "2080 (41.60%) Train loss: 1.428 \t Validation loss: 5.089\n",
      "2090 (41.80%) Train loss: 1.427 \t Validation loss: 5.085\n",
      "2100 (42.00%) Train loss: 1.426 \t Validation loss: 5.081\n",
      "2110 (42.20%) Train loss: 1.425 \t Validation loss: 5.077\n",
      "2120 (42.40%) Train loss: 1.424 \t Validation loss: 5.073\n",
      "2130 (42.60%) Train loss: 1.423 \t Validation loss: 5.068\n",
      "2140 (42.80%) Train loss: 1.422 \t Validation loss: 5.064\n",
      "2150 (43.00%) Train loss: 1.421 \t Validation loss: 5.060\n",
      "2160 (43.20%) Train loss: 1.420 \t Validation loss: 5.056\n",
      "2170 (43.40%) Train loss: 1.420 \t Validation loss: 5.051\n",
      "2180 (43.60%) Train loss: 1.419 \t Validation loss: 5.047\n",
      "2190 (43.80%) Train loss: 1.418 \t Validation loss: 5.043\n",
      "2200 (44.00%) Train loss: 1.417 \t Validation loss: 5.038\n",
      "2210 (44.20%) Train loss: 1.416 \t Validation loss: 5.034\n",
      "2220 (44.40%) Train loss: 1.415 \t Validation loss: 5.029\n",
      "2230 (44.60%) Train loss: 1.414 \t Validation loss: 5.025\n",
      "2240 (44.80%) Train loss: 1.413 \t Validation loss: 5.020\n",
      "2250 (45.00%) Train loss: 1.412 \t Validation loss: 5.016\n",
      "2260 (45.20%) Train loss: 1.412 \t Validation loss: 5.012\n",
      "2270 (45.40%) Train loss: 1.411 \t Validation loss: 5.007\n",
      "2280 (45.60%) Train loss: 1.410 \t Validation loss: 5.002\n",
      "2290 (45.80%) Train loss: 1.409 \t Validation loss: 4.998\n",
      "2300 (46.00%) Train loss: 1.408 \t Validation loss: 4.993\n",
      "2310 (46.20%) Train loss: 1.407 \t Validation loss: 4.989\n",
      "2320 (46.40%) Train loss: 1.407 \t Validation loss: 4.984\n",
      "2330 (46.60%) Train loss: 1.406 \t Validation loss: 4.980\n",
      "2340 (46.80%) Train loss: 1.405 \t Validation loss: 4.975\n",
      "2350 (47.00%) Train loss: 1.404 \t Validation loss: 4.971\n",
      "2360 (47.20%) Train loss: 1.403 \t Validation loss: 4.966\n",
      "2370 (47.40%) Train loss: 1.403 \t Validation loss: 4.961\n",
      "2380 (47.60%) Train loss: 1.402 \t Validation loss: 4.957\n",
      "2390 (47.80%) Train loss: 1.401 \t Validation loss: 4.952\n",
      "2400 (48.00%) Train loss: 1.400 \t Validation loss: 4.947\n",
      "2410 (48.20%) Train loss: 1.399 \t Validation loss: 4.943\n",
      "2420 (48.40%) Train loss: 1.399 \t Validation loss: 4.938\n",
      "2430 (48.60%) Train loss: 1.398 \t Validation loss: 4.934\n",
      "2440 (48.80%) Train loss: 1.397 \t Validation loss: 4.929\n",
      "2450 (49.00%) Train loss: 1.396 \t Validation loss: 4.924\n",
      "2460 (49.20%) Train loss: 1.396 \t Validation loss: 4.920\n",
      "2470 (49.40%) Train loss: 1.395 \t Validation loss: 4.915\n",
      "2480 (49.60%) Train loss: 1.394 \t Validation loss: 4.911\n",
      "2490 (49.80%) Train loss: 1.393 \t Validation loss: 4.906\n",
      "2500 (50.00%) Train loss: 1.393 \t Validation loss: 4.901\n",
      "2510 (50.20%) Train loss: 1.392 \t Validation loss: 4.897\n",
      "2520 (50.40%) Train loss: 1.391 \t Validation loss: 4.892\n",
      "2530 (50.60%) Train loss: 1.390 \t Validation loss: 4.888\n",
      "2540 (50.80%) Train loss: 1.390 \t Validation loss: 4.883\n",
      "2550 (51.00%) Train loss: 1.389 \t Validation loss: 4.878\n",
      "2560 (51.20%) Train loss: 1.388 \t Validation loss: 4.874\n",
      "2570 (51.40%) Train loss: 1.388 \t Validation loss: 4.869\n",
      "2580 (51.60%) Train loss: 1.387 \t Validation loss: 4.865\n",
      "2590 (51.80%) Train loss: 1.386 \t Validation loss: 4.860\n",
      "2600 (52.00%) Train loss: 1.385 \t Validation loss: 4.856\n",
      "2610 (52.20%) Train loss: 1.385 \t Validation loss: 4.851\n",
      "2620 (52.40%) Train loss: 1.384 \t Validation loss: 4.846\n",
      "2630 (52.60%) Train loss: 1.383 \t Validation loss: 4.842\n",
      "2640 (52.80%) Train loss: 1.383 \t Validation loss: 4.837\n",
      "2650 (53.00%) Train loss: 1.382 \t Validation loss: 4.833\n",
      "2660 (53.20%) Train loss: 1.381 \t Validation loss: 4.828\n",
      "2670 (53.40%) Train loss: 1.381 \t Validation loss: 4.824\n",
      "2680 (53.60%) Train loss: 1.380 \t Validation loss: 4.820\n",
      "2690 (53.80%) Train loss: 1.379 \t Validation loss: 4.815\n",
      "2700 (54.00%) Train loss: 1.379 \t Validation loss: 4.811\n",
      "2710 (54.20%) Train loss: 1.378 \t Validation loss: 4.806\n",
      "2720 (54.40%) Train loss: 1.377 \t Validation loss: 4.802\n",
      "2730 (54.60%) Train loss: 1.377 \t Validation loss: 4.797\n",
      "2740 (54.80%) Train loss: 1.376 \t Validation loss: 4.793\n",
      "2750 (55.00%) Train loss: 1.375 \t Validation loss: 4.789\n",
      "2760 (55.20%) Train loss: 1.375 \t Validation loss: 4.784\n",
      "2770 (55.40%) Train loss: 1.374 \t Validation loss: 4.780\n",
      "2780 (55.60%) Train loss: 1.373 \t Validation loss: 4.776\n",
      "2790 (55.80%) Train loss: 1.373 \t Validation loss: 4.771\n",
      "2800 (56.00%) Train loss: 1.372 \t Validation loss: 4.767\n",
      "2810 (56.20%) Train loss: 1.371 \t Validation loss: 4.763\n",
      "2820 (56.40%) Train loss: 1.371 \t Validation loss: 4.758\n",
      "2830 (56.60%) Train loss: 1.370 \t Validation loss: 4.754\n",
      "2840 (56.80%) Train loss: 1.370 \t Validation loss: 4.750\n",
      "2850 (57.00%) Train loss: 1.369 \t Validation loss: 4.746\n",
      "2860 (57.20%) Train loss: 1.368 \t Validation loss: 4.741\n",
      "2870 (57.40%) Train loss: 1.368 \t Validation loss: 4.737\n",
      "2880 (57.60%) Train loss: 1.367 \t Validation loss: 4.733\n",
      "2890 (57.80%) Train loss: 1.366 \t Validation loss: 4.729\n",
      "2900 (58.00%) Train loss: 1.366 \t Validation loss: 4.725\n",
      "2910 (58.20%) Train loss: 1.365 \t Validation loss: 4.721\n",
      "2920 (58.40%) Train loss: 1.365 \t Validation loss: 4.716\n",
      "2930 (58.60%) Train loss: 1.364 \t Validation loss: 4.712\n",
      "2940 (58.80%) Train loss: 1.363 \t Validation loss: 4.708\n",
      "2950 (59.00%) Train loss: 1.363 \t Validation loss: 4.704\n",
      "2960 (59.20%) Train loss: 1.362 \t Validation loss: 4.700\n",
      "2970 (59.40%) Train loss: 1.362 \t Validation loss: 4.696\n",
      "2980 (59.60%) Train loss: 1.361 \t Validation loss: 4.692\n",
      "2990 (59.80%) Train loss: 1.360 \t Validation loss: 4.688\n",
      "3000 (60.00%) Train loss: 1.360 \t Validation loss: 4.684\n",
      "3010 (60.20%) Train loss: 1.359 \t Validation loss: 4.680\n",
      "3020 (60.40%) Train loss: 1.359 \t Validation loss: 4.676\n",
      "3030 (60.60%) Train loss: 1.358 \t Validation loss: 4.672\n",
      "3040 (60.80%) Train loss: 1.358 \t Validation loss: 4.668\n",
      "3050 (61.00%) Train loss: 1.357 \t Validation loss: 4.664\n",
      "3060 (61.20%) Train loss: 1.356 \t Validation loss: 4.660\n",
      "3070 (61.40%) Train loss: 1.356 \t Validation loss: 4.656\n",
      "3080 (61.60%) Train loss: 1.355 \t Validation loss: 4.653\n",
      "3090 (61.80%) Train loss: 1.355 \t Validation loss: 4.649\n",
      "3100 (62.00%) Train loss: 1.354 \t Validation loss: 4.645\n",
      "3110 (62.20%) Train loss: 1.354 \t Validation loss: 4.641\n",
      "3120 (62.40%) Train loss: 1.353 \t Validation loss: 4.637\n",
      "3130 (62.60%) Train loss: 1.352 \t Validation loss: 4.634\n",
      "3140 (62.80%) Train loss: 1.352 \t Validation loss: 4.630\n",
      "3150 (63.00%) Train loss: 1.351 \t Validation loss: 4.626\n",
      "3160 (63.20%) Train loss: 1.351 \t Validation loss: 4.622\n",
      "3170 (63.40%) Train loss: 1.350 \t Validation loss: 4.619\n",
      "3180 (63.60%) Train loss: 1.350 \t Validation loss: 4.615\n",
      "3190 (63.80%) Train loss: 1.349 \t Validation loss: 4.611\n",
      "3200 (64.00%) Train loss: 1.349 \t Validation loss: 4.607\n",
      "3210 (64.20%) Train loss: 1.348 \t Validation loss: 4.604\n",
      "3220 (64.40%) Train loss: 1.347 \t Validation loss: 4.600\n",
      "3230 (64.60%) Train loss: 1.347 \t Validation loss: 4.596\n",
      "3240 (64.80%) Train loss: 1.346 \t Validation loss: 4.593\n",
      "3250 (65.00%) Train loss: 1.346 \t Validation loss: 4.589\n",
      "3260 (65.20%) Train loss: 1.345 \t Validation loss: 4.586\n",
      "3270 (65.40%) Train loss: 1.345 \t Validation loss: 4.582\n",
      "3280 (65.60%) Train loss: 1.344 \t Validation loss: 4.579\n",
      "3290 (65.80%) Train loss: 1.344 \t Validation loss: 4.575\n",
      "3300 (66.00%) Train loss: 1.343 \t Validation loss: 4.571\n",
      "3310 (66.20%) Train loss: 1.343 \t Validation loss: 4.568\n",
      "3320 (66.40%) Train loss: 1.342 \t Validation loss: 4.564\n",
      "3330 (66.60%) Train loss: 1.342 \t Validation loss: 4.561\n",
      "3340 (66.80%) Train loss: 1.341 \t Validation loss: 4.558\n",
      "3350 (67.00%) Train loss: 1.341 \t Validation loss: 4.554\n",
      "3360 (67.20%) Train loss: 1.340 \t Validation loss: 4.551\n",
      "3370 (67.40%) Train loss: 1.340 \t Validation loss: 4.547\n",
      "3380 (67.60%) Train loss: 1.339 \t Validation loss: 4.544\n",
      "3390 (67.80%) Train loss: 1.339 \t Validation loss: 4.540\n",
      "3400 (68.00%) Train loss: 1.338 \t Validation loss: 4.537\n",
      "3410 (68.20%) Train loss: 1.338 \t Validation loss: 4.534\n",
      "3420 (68.40%) Train loss: 1.337 \t Validation loss: 4.530\n",
      "3430 (68.60%) Train loss: 1.337 \t Validation loss: 4.527\n",
      "3440 (68.80%) Train loss: 1.336 \t Validation loss: 4.524\n",
      "3450 (69.00%) Train loss: 1.335 \t Validation loss: 4.520\n",
      "3460 (69.20%) Train loss: 1.335 \t Validation loss: 4.517\n",
      "3470 (69.40%) Train loss: 1.334 \t Validation loss: 4.514\n",
      "3480 (69.60%) Train loss: 1.334 \t Validation loss: 4.511\n",
      "3490 (69.80%) Train loss: 1.333 \t Validation loss: 4.507\n",
      "3500 (70.00%) Train loss: 1.333 \t Validation loss: 4.504\n",
      "3510 (70.20%) Train loss: 1.333 \t Validation loss: 4.501\n",
      "3520 (70.40%) Train loss: 1.332 \t Validation loss: 4.498\n",
      "3530 (70.60%) Train loss: 1.332 \t Validation loss: 4.494\n",
      "3540 (70.80%) Train loss: 1.331 \t Validation loss: 4.491\n",
      "3550 (71.00%) Train loss: 1.331 \t Validation loss: 4.488\n",
      "3560 (71.20%) Train loss: 1.330 \t Validation loss: 4.485\n",
      "3570 (71.40%) Train loss: 1.330 \t Validation loss: 4.482\n",
      "3580 (71.60%) Train loss: 1.329 \t Validation loss: 4.479\n",
      "3590 (71.80%) Train loss: 1.329 \t Validation loss: 4.476\n",
      "3600 (72.00%) Train loss: 1.328 \t Validation loss: 4.472\n",
      "3610 (72.20%) Train loss: 1.328 \t Validation loss: 4.469\n",
      "3620 (72.40%) Train loss: 1.327 \t Validation loss: 4.466\n",
      "3630 (72.60%) Train loss: 1.327 \t Validation loss: 4.463\n",
      "3640 (72.80%) Train loss: 1.326 \t Validation loss: 4.460\n",
      "3650 (73.00%) Train loss: 1.326 \t Validation loss: 4.457\n",
      "3660 (73.20%) Train loss: 1.325 \t Validation loss: 4.454\n",
      "3670 (73.40%) Train loss: 1.325 \t Validation loss: 4.451\n",
      "3680 (73.60%) Train loss: 1.324 \t Validation loss: 4.448\n",
      "3690 (73.80%) Train loss: 1.324 \t Validation loss: 4.445\n",
      "3700 (74.00%) Train loss: 1.323 \t Validation loss: 4.442\n",
      "3710 (74.20%) Train loss: 1.323 \t Validation loss: 4.439\n",
      "3720 (74.40%) Train loss: 1.322 \t Validation loss: 4.436\n",
      "3730 (74.60%) Train loss: 1.322 \t Validation loss: 4.433\n",
      "3740 (74.80%) Train loss: 1.322 \t Validation loss: 4.430\n",
      "3750 (75.00%) Train loss: 1.321 \t Validation loss: 4.427\n",
      "3760 (75.20%) Train loss: 1.321 \t Validation loss: 4.425\n",
      "3770 (75.40%) Train loss: 1.320 \t Validation loss: 4.422\n",
      "3780 (75.60%) Train loss: 1.320 \t Validation loss: 4.419\n",
      "3790 (75.80%) Train loss: 1.319 \t Validation loss: 4.416\n",
      "3800 (76.00%) Train loss: 1.319 \t Validation loss: 4.413\n",
      "3810 (76.20%) Train loss: 1.318 \t Validation loss: 4.410\n",
      "3820 (76.40%) Train loss: 1.318 \t Validation loss: 4.407\n",
      "3830 (76.60%) Train loss: 1.317 \t Validation loss: 4.405\n",
      "3840 (76.80%) Train loss: 1.317 \t Validation loss: 4.402\n",
      "3850 (77.00%) Train loss: 1.317 \t Validation loss: 4.399\n",
      "3860 (77.20%) Train loss: 1.316 \t Validation loss: 4.396\n",
      "3870 (77.40%) Train loss: 1.316 \t Validation loss: 4.393\n",
      "3880 (77.60%) Train loss: 1.315 \t Validation loss: 4.391\n",
      "3890 (77.80%) Train loss: 1.315 \t Validation loss: 4.388\n",
      "3900 (78.00%) Train loss: 1.314 \t Validation loss: 4.385\n",
      "3910 (78.20%) Train loss: 1.314 \t Validation loss: 4.382\n",
      "3920 (78.40%) Train loss: 1.313 \t Validation loss: 4.380\n",
      "3930 (78.60%) Train loss: 1.313 \t Validation loss: 4.377\n",
      "3940 (78.80%) Train loss: 1.313 \t Validation loss: 4.374\n",
      "3950 (79.00%) Train loss: 1.312 \t Validation loss: 4.372\n",
      "3960 (79.20%) Train loss: 1.312 \t Validation loss: 4.369\n",
      "3970 (79.40%) Train loss: 1.311 \t Validation loss: 4.366\n",
      "3980 (79.60%) Train loss: 1.311 \t Validation loss: 4.364\n",
      "3990 (79.80%) Train loss: 1.310 \t Validation loss: 4.361\n",
      "4000 (80.00%) Train loss: 1.310 \t Validation loss: 4.358\n",
      "4010 (80.20%) Train loss: 1.310 \t Validation loss: 4.356\n",
      "4020 (80.40%) Train loss: 1.309 \t Validation loss: 4.353\n",
      "4030 (80.60%) Train loss: 1.309 \t Validation loss: 4.350\n",
      "4040 (80.80%) Train loss: 1.308 \t Validation loss: 4.348\n",
      "4050 (81.00%) Train loss: 1.308 \t Validation loss: 4.345\n",
      "4060 (81.20%) Train loss: 1.307 \t Validation loss: 4.343\n",
      "4070 (81.40%) Train loss: 1.307 \t Validation loss: 4.340\n",
      "4080 (81.60%) Train loss: 1.307 \t Validation loss: 4.338\n",
      "4090 (81.80%) Train loss: 1.306 \t Validation loss: 4.335\n",
      "4100 (82.00%) Train loss: 1.306 \t Validation loss: 4.332\n",
      "4110 (82.20%) Train loss: 1.305 \t Validation loss: 4.330\n",
      "4120 (82.40%) Train loss: 1.305 \t Validation loss: 4.327\n",
      "4130 (82.60%) Train loss: 1.304 \t Validation loss: 4.325\n",
      "4140 (82.80%) Train loss: 1.304 \t Validation loss: 4.322\n",
      "4150 (83.00%) Train loss: 1.304 \t Validation loss: 4.320\n",
      "4160 (83.20%) Train loss: 1.303 \t Validation loss: 4.317\n",
      "4170 (83.40%) Train loss: 1.303 \t Validation loss: 4.315\n",
      "4180 (83.60%) Train loss: 1.302 \t Validation loss: 4.313\n",
      "4190 (83.80%) Train loss: 1.302 \t Validation loss: 4.310\n",
      "4200 (84.00%) Train loss: 1.302 \t Validation loss: 4.308\n",
      "4210 (84.20%) Train loss: 1.301 \t Validation loss: 4.305\n",
      "4220 (84.40%) Train loss: 1.301 \t Validation loss: 4.303\n",
      "4230 (84.60%) Train loss: 1.300 \t Validation loss: 4.300\n",
      "4240 (84.80%) Train loss: 1.300 \t Validation loss: 4.298\n",
      "4250 (85.00%) Train loss: 1.300 \t Validation loss: 4.296\n",
      "4260 (85.20%) Train loss: 1.299 \t Validation loss: 4.293\n",
      "4270 (85.40%) Train loss: 1.299 \t Validation loss: 4.291\n",
      "4280 (85.60%) Train loss: 1.298 \t Validation loss: 4.288\n",
      "4290 (85.80%) Train loss: 1.298 \t Validation loss: 4.286\n",
      "4300 (86.00%) Train loss: 1.298 \t Validation loss: 4.284\n",
      "4310 (86.20%) Train loss: 1.297 \t Validation loss: 4.281\n",
      "4320 (86.40%) Train loss: 1.297 \t Validation loss: 4.279\n",
      "4330 (86.60%) Train loss: 1.296 \t Validation loss: 4.277\n",
      "4340 (86.80%) Train loss: 1.296 \t Validation loss: 4.274\n",
      "4350 (87.00%) Train loss: 1.296 \t Validation loss: 4.272\n",
      "4360 (87.20%) Train loss: 1.295 \t Validation loss: 4.270\n",
      "4370 (87.40%) Train loss: 1.295 \t Validation loss: 4.267\n",
      "4380 (87.60%) Train loss: 1.294 \t Validation loss: 4.265\n",
      "4390 (87.80%) Train loss: 1.294 \t Validation loss: 4.263\n",
      "4400 (88.00%) Train loss: 1.294 \t Validation loss: 4.260\n",
      "4410 (88.20%) Train loss: 1.293 \t Validation loss: 4.258\n",
      "4420 (88.40%) Train loss: 1.293 \t Validation loss: 4.256\n",
      "4430 (88.60%) Train loss: 1.293 \t Validation loss: 4.254\n",
      "4440 (88.80%) Train loss: 1.292 \t Validation loss: 4.251\n",
      "4450 (89.00%) Train loss: 1.292 \t Validation loss: 4.249\n",
      "4460 (89.20%) Train loss: 1.291 \t Validation loss: 4.247\n",
      "4470 (89.40%) Train loss: 1.291 \t Validation loss: 4.245\n",
      "4480 (89.60%) Train loss: 1.291 \t Validation loss: 4.242\n",
      "4490 (89.80%) Train loss: 1.290 \t Validation loss: 4.240\n",
      "4500 (90.00%) Train loss: 1.290 \t Validation loss: 4.238\n",
      "4510 (90.20%) Train loss: 1.289 \t Validation loss: 4.236\n",
      "4520 (90.40%) Train loss: 1.289 \t Validation loss: 4.234\n",
      "4530 (90.60%) Train loss: 1.289 \t Validation loss: 4.231\n",
      "4540 (90.80%) Train loss: 1.288 \t Validation loss: 4.229\n",
      "4550 (91.00%) Train loss: 1.288 \t Validation loss: 4.227\n",
      "4560 (91.20%) Train loss: 1.288 \t Validation loss: 4.225\n",
      "4570 (91.40%) Train loss: 1.287 \t Validation loss: 4.223\n",
      "4580 (91.60%) Train loss: 1.287 \t Validation loss: 4.221\n",
      "4590 (91.80%) Train loss: 1.287 \t Validation loss: 4.218\n",
      "4600 (92.00%) Train loss: 1.286 \t Validation loss: 4.216\n",
      "4610 (92.20%) Train loss: 1.286 \t Validation loss: 4.214\n",
      "4620 (92.40%) Train loss: 1.285 \t Validation loss: 4.212\n",
      "4630 (92.60%) Train loss: 1.285 \t Validation loss: 4.210\n",
      "4640 (92.80%) Train loss: 1.285 \t Validation loss: 4.208\n",
      "4650 (93.00%) Train loss: 1.284 \t Validation loss: 4.206\n",
      "4660 (93.20%) Train loss: 1.284 \t Validation loss: 4.204\n",
      "4670 (93.40%) Train loss: 1.284 \t Validation loss: 4.201\n",
      "4680 (93.60%) Train loss: 1.283 \t Validation loss: 4.199\n",
      "4690 (93.80%) Train loss: 1.283 \t Validation loss: 4.197\n",
      "4700 (94.00%) Train loss: 1.283 \t Validation loss: 4.195\n",
      "4710 (94.20%) Train loss: 1.282 \t Validation loss: 4.193\n",
      "4720 (94.40%) Train loss: 1.282 \t Validation loss: 4.191\n",
      "4730 (94.60%) Train loss: 1.281 \t Validation loss: 4.189\n",
      "4740 (94.80%) Train loss: 1.281 \t Validation loss: 4.187\n",
      "4750 (95.00%) Train loss: 1.281 \t Validation loss: 4.185\n",
      "4760 (95.20%) Train loss: 1.280 \t Validation loss: 4.183\n",
      "4770 (95.40%) Train loss: 1.280 \t Validation loss: 4.181\n",
      "4780 (95.60%) Train loss: 1.280 \t Validation loss: 4.179\n",
      "4790 (95.80%) Train loss: 1.279 \t Validation loss: 4.177\n",
      "4800 (96.00%) Train loss: 1.279 \t Validation loss: 4.175\n",
      "4810 (96.20%) Train loss: 1.279 \t Validation loss: 4.173\n",
      "4820 (96.40%) Train loss: 1.278 \t Validation loss: 4.171\n",
      "4830 (96.60%) Train loss: 1.278 \t Validation loss: 4.169\n",
      "4840 (96.80%) Train loss: 1.278 \t Validation loss: 4.167\n",
      "4850 (97.00%) Train loss: 1.277 \t Validation loss: 4.165\n",
      "4860 (97.20%) Train loss: 1.277 \t Validation loss: 4.163\n",
      "4870 (97.40%) Train loss: 1.277 \t Validation loss: 4.161\n",
      "4880 (97.60%) Train loss: 1.276 \t Validation loss: 4.159\n",
      "4890 (97.80%) Train loss: 1.276 \t Validation loss: 4.157\n",
      "4900 (98.00%) Train loss: 1.276 \t Validation loss: 4.155\n",
      "4910 (98.20%) Train loss: 1.275 \t Validation loss: 4.153\n",
      "4920 (98.40%) Train loss: 1.275 \t Validation loss: 4.151\n",
      "4930 (98.60%) Train loss: 1.274 \t Validation loss: 4.149\n",
      "4940 (98.80%) Train loss: 1.274 \t Validation loss: 4.147\n",
      "4950 (99.00%) Train loss: 1.274 \t Validation loss: 4.145\n",
      "4960 (99.20%) Train loss: 1.273 \t Validation loss: 4.143\n",
      "4970 (99.40%) Train loss: 1.273 \t Validation loss: 4.141\n",
      "4980 (99.60%) Train loss: 1.273 \t Validation loss: 4.139\n",
      "4990 (99.80%) Train loss: 1.272 \t Validation loss: 4.137\n",
      "Test loss:  4.320\n"
     ]
    },
    {
     "output_type": "display_data",
     "data": {
      "image/png": "[encoded data removed]",
      "text/plain": [
       "<Figure size 432x288 with 1 Axes>"
      ]
     },
     "metadata": {
      "needs_background": "light"
     }
    }
   ],
   "metadata": {}
  },
  {
   "cell_type": "markdown",
   "source": [
    "# Result of just right fitting"
   ],
   "metadata": {}
  },
  {
   "cell_type": "code",
   "execution_count": 189,
   "source": [
    "x_test_np = Var_to_nparray(x_test)\n",
    "x_train_np = Var_to_nparray(x_train)\n",
    "y_train_np = Var_to_nparray(y_train)\n",
    "if D1:\n",
    "    plt.scatter(x_train_np, y_train_np, label=\"train data\");\n",
    "    plt.scatter(x_test_np, Var_to_nparray(output_test), label=\"test prediction\");\n",
    "    plt.scatter(x_test_np, y_test_np, label=\"test data\");\n",
    "    plt.legend();\n",
    "    plt.xlabel(\"x\");\n",
    "    plt.ylabel(\"y\");\n",
    "else:\n",
    "    plt.scatter(x_train_np[:,1], y_train, label=\"train data\");\n",
    "    plt.scatter(x_test_np[:,1], Var_to_nparray(output_test), label=\"test data prediction\");\n",
    "    plt.scatter(x_test_np[:,1], y_test_np, label=\"test data\");\n",
    "    plt.legend();\n",
    "    plt.xlabel(\"x\");\n",
    "    plt.ylabel(\"y\");"
   ],
   "outputs": [
    {
     "output_type": "display_data",
     "data": {
      "image/png": "[encoded data removed]",
      "text/plain": [
       "<Figure size 432x288 with 1 Axes>"
      ]
     },
     "metadata": {
      "needs_background": "light"
     }
    }
   ],
   "metadata": {}
  },
  {
   "cell_type": "markdown",
   "source": [
    "# Underfitting"
   ],
   "metadata": {}
  },
  {
   "cell_type": "code",
   "execution_count": 182,
   "source": [
    "D1 = True\n",
    "x_train, y_train,  x_validation, y_validation, x_test, y_test = data_generator(noise=0.3, n_samples = 200, D1=D1)\n",
    "if D1:\n",
    "    plt.scatter(x_train[:,0], y_train);\n",
    "    plt.scatter(x_validation[:,0], y_validation);\n",
    "    plt.scatter(x_test[:,0], y_test);\n",
    "else:\n",
    "    plt.scatter(x_train[:,1], y_train);\n",
    "    plt.scatter(x_validation[:,1], y_validation);\n",
    "    plt.scatter(x_test[:,1], y_test);\n",
    "plt.show()\n",
    "x_train = nparray_to_Var(x_train)\n",
    "y_train = nparray_to_Var(y_train)\n",
    "x_validation = nparray_to_Var(x_validation)\n",
    "y_validation = nparray_to_Var(y_validation)\n",
    "x_test = nparray_to_Var(x_test)\n",
    "y_test = nparray_to_Var(y_test)\n",
    "#####  UNDERFITTING START #####\n",
    "# Initialize an arbitrary neural network\n",
    "NN = [\n",
    "    DenseLayer(1, 4, lambda x: x.sigmoid(), initializer = NormalInitializer(std=3)),\n",
    "    DenseLayer(4, 1, lambda x: x.identity(), initializer = NormalInitializer(std=3))\n",
    "]\n",
    "# Initialize training hyperparameters\n",
    "EPOCHS = 200\n",
    "LEARN_R = 3e-3\n",
    "\n",
    "train_loss = []\n",
    "val_loss = []\n",
    "\n",
    "for e in range(EPOCHS):\n",
    "     \n",
    "    # Forward pass and loss computation\n",
    "    Loss = squared_loss(y_train, forward(x_train, NN))\n",
    "\n",
    "    # Backward pass\n",
    "    Loss.backward()\n",
    "    \n",
    "    # gradient descent update\n",
    "    update_parameters(parameters(NN), LEARN_R)\n",
    "    zero_gradients(parameters(NN))\n",
    "    \n",
    "    # Training loss\n",
    "    train_loss.append(Loss.v)\n",
    "    \n",
    "    # Validation\n",
    "    Loss_validation = squared_loss(y_validation, forward(x_validation, NN))\n",
    "    val_loss.append(Loss_validation.v)\n",
    "    \n",
    "    if e%10==0:\n",
    "        print(\"{:4d}\".format(e),\n",
    "              \"({:5.2f}%)\".format(e/EPOCHS*100), \n",
    "              \"Train loss: {:4.3f} \\t Validation loss: {:4.3f}\".format(train_loss[-1], val_loss[-1]))\n",
    "        \n",
    "plt.plot(range(len(train_loss)), train_loss)\n",
    "plt.plot(range(len(val_loss)), val_loss)\n",
    "#####  TESTING #####\n",
    "output_test = forward(x_test, NN)\n",
    "y_test_np = Var_to_nparray(y_test)\n",
    "plt.scatter(y_test_np, Var_to_nparray(output_test));\n",
    "plt.plot([np.min(y_test_np), np.max(y_test_np)], [np.min(y_test_np), np.max(y_test_np)], color='k');\n",
    "plt.xlabel(\"y\");\n",
    "plt.ylabel(\"$\\hat{y}$\");\n",
    "plt.title(\"Model prediction vs real in the test set, the close to the line the better\")\n",
    "plt.grid(True);\n",
    "plt.axis('equal');\n",
    "plt.tight_layout();\n",
    "\n",
    "Loss_test = squared_loss(y_test, forward(x_test, NN))\n",
    "\n",
    "print(\"Test loss:  {:4.3f}\".format(Loss_test.v))"
   ],
   "outputs": [
    {
     "output_type": "display_data",
     "data": {
      "image/png": "[encoded data removed]",
      "text/plain": [
       "<Figure size 432x288 with 1 Axes>"
      ]
     },
     "metadata": {
      "needs_background": "light"
     }
    },
    {
     "output_type": "stream",
     "name": "stdout",
     "text": [
      "   0 ( 0.00%) Train loss: 518.456 \t Validation loss: 110.285\n",
      "  10 ( 5.00%) Train loss: 16.408 \t Validation loss: 21.480\n",
      "  20 (10.00%) Train loss: 15.426 \t Validation loss: 19.226\n",
      "  30 (15.00%) Train loss: 15.210 \t Validation loss: 18.891\n",
      "  40 (20.00%) Train loss: 15.011 \t Validation loss: 18.696\n",
      "  50 (25.00%) Train loss: 14.822 \t Validation loss: 18.518\n",
      "  60 (30.00%) Train loss: 14.641 \t Validation loss: 18.349\n",
      "  70 (35.00%) Train loss: 14.470 \t Validation loss: 18.186\n",
      "  80 (40.00%) Train loss: 14.306 \t Validation loss: 18.028\n",
      "  90 (45.00%) Train loss: 14.149 \t Validation loss: 17.876\n",
      " 100 (50.00%) Train loss: 13.999 \t Validation loss: 17.729\n",
      " 110 (55.00%) Train loss: 13.855 \t Validation loss: 17.587\n",
      " 120 (60.00%) Train loss: 13.717 \t Validation loss: 17.450\n",
      " 130 (65.00%) Train loss: 13.584 \t Validation loss: 17.316\n",
      " 140 (70.00%) Train loss: 13.456 \t Validation loss: 17.186\n",
      " 150 (75.00%) Train loss: 13.334 \t Validation loss: 17.061\n",
      " 160 (80.00%) Train loss: 13.215 \t Validation loss: 16.938\n",
      " 170 (85.00%) Train loss: 13.101 \t Validation loss: 16.820\n",
      " 180 (90.00%) Train loss: 12.991 \t Validation loss: 16.704\n",
      " 190 (95.00%) Train loss: 12.885 \t Validation loss: 16.592\n",
      "Test loss:  15.377\n"
     ]
    },
    {
     "output_type": "display_data",
     "data": {
      "image/png": "[encoded data removed]",
      "text/plain": [
       "<Figure size 432x288 with 1 Axes>"
      ]
     },
     "metadata": {
      "needs_background": "light"
     }
    }
   ],
   "metadata": {}
  },
  {
   "cell_type": "markdown",
   "source": [
    "# Result of underfitting"
   ],
   "metadata": {}
  },
  {
   "cell_type": "code",
   "execution_count": 183,
   "source": [
    "x_test_np = Var_to_nparray(x_test)\n",
    "x_train_np = Var_to_nparray(x_train)\n",
    "y_train_np = Var_to_nparray(y_train)\n",
    "if D1:\n",
    "    plt.scatter(x_train_np, y_train_np, label=\"train data\");\n",
    "    plt.scatter(x_test_np, Var_to_nparray(output_test), label=\"test prediction\");\n",
    "    plt.scatter(x_test_np, y_test_np, label=\"test data\");\n",
    "    plt.legend();\n",
    "    plt.xlabel(\"x\");\n",
    "    plt.ylabel(\"y\");\n",
    "else:\n",
    "    plt.scatter(x_train_np[:,1], y_train, label=\"train data\");\n",
    "    plt.scatter(x_test_np[:,1], Var_to_nparray(output_test), label=\"test data prediction\");\n",
    "    plt.scatter(x_test_np[:,1], y_test_np, label=\"test data\");\n",
    "    plt.legend();\n",
    "    plt.xlabel(\"x\");\n",
    "    plt.ylabel(\"y\");"
   ],
   "outputs": [
    {
     "output_type": "display_data",
     "data": {
      "image/png": "[encoded data removed]",
      "text/plain": [
       "<Figure size 432x288 with 1 Axes>"
      ]
     },
     "metadata": {
      "needs_background": "light"
     }
    }
   ],
   "metadata": {}
  },
  {
   "cell_type": "markdown",
   "source": [
    "# Underfitting"
   ],
   "metadata": {}
  },
  {
   "cell_type": "code",
   "execution_count": 229,
   "source": [
    "def data_generator(noise=0.1, n_samples=300, D1=True):\n",
    "    # Create covariates and response variable\n",
    "    if D1:\n",
    "        X = np.linspace(-3, 3, num=n_samples).reshape(-1,1) # 1-D\n",
    "        np.random.shuffle(X)\n",
    "        y = np.random.normal((1*np.sin(X[:,0]*4) + X[:,0]), noise) # 1-D with trend\n",
    "    else:\n",
    "        X = np.random.multivariate_normal(np.zeros(3), noise*np.eye(3), size = n_samples) # 3-D\n",
    "        np.random.shuffle(X)    \n",
    "        y = np.sin(X[:,0]) - 5*(X[:,1]**2) + 0.5*X[:,2] # 3-D\n",
    "\n",
    "    # Stack them together vertically to split data set\n",
    "    data_set = np.vstack((X.T,y)).T\n",
    "    \n",
    "    train, validation, test = np.split(data_set, [int(0.35*n_samples), int(0.7*n_samples)], axis=0)\n",
    "    \n",
    "    # Standardization of the data, remember we do the standardization with the training set mean and standard deviation\n",
    "    train_mu = np.mean(train, axis=0)\n",
    "    train_sigma = np.std(train, axis=0)\n",
    "    \n",
    "    train = (train-train_mu)/train_sigma\n",
    "    validation = (validation-train_mu)/train_sigma\n",
    "    test = (test-train_mu)/train_sigma\n",
    "    \n",
    "    x_train, x_validation, x_test = train[:,:-1], validation[:,:-1], test[:,:-1]\n",
    "    y_train, y_validation, y_test = train[:,-1], validation[:,-1], test[:,-1]\n",
    "\n",
    "    return x_train, y_train,  x_validation, y_validation, x_test, y_test"
   ],
   "outputs": [],
   "metadata": {}
  },
  {
   "cell_type": "code",
   "execution_count": 237,
   "source": [
    "# Insert your code for getting overfitting, underfitting and just right fitting\n",
    "\n",
    "\n",
    "D1 = True\n",
    "x_train, y_train,  x_validation, y_validation, x_test, y_test = data_generator(noise=1, n_samples = 200, D1=D1)\n",
    "if D1:\n",
    "    plt.scatter(x_train[:,0], y_train);\n",
    "    plt.scatter(x_validation[:,0], y_validation);\n",
    "    plt.scatter(x_test[:,0], y_test);\n",
    "else:\n",
    "    plt.scatter(x_train[:,1], y_train);\n",
    "    plt.scatter(x_validation[:,1], y_validation);\n",
    "    plt.scatter(x_test[:,1], y_test);\n",
    "plt.show()\n",
    "x_train = nparray_to_Var(x_train)\n",
    "y_train = nparray_to_Var(y_train)\n",
    "x_validation = nparray_to_Var(x_validation)\n",
    "y_validation = nparray_to_Var(y_validation)\n",
    "x_test = nparray_to_Var(x_test)\n",
    "y_test = nparray_to_Var(y_test)\n",
    "#####  UNDERFITTING START #####\n",
    "# Initialize an arbitrary neural network\n",
    "NN = [\n",
    "    DenseLayer(1, 12, lambda x: x.sigmoid(), initializer = NormalInitializer(std=3)),\n",
    "    DenseLayer(12, 1, lambda x: x.identity(), initializer = NormalInitializer(std=3))\n",
    "]\n",
    "# Initialize training hyperparameters\n",
    "EPOCHS = 5000\n",
    "LEARN_R = 3e-3\n",
    "\n",
    "train_loss = []\n",
    "val_loss = []\n",
    "\n",
    "for e in range(EPOCHS):\n",
    "     \n",
    "    # Forward pass and loss computation\n",
    "    Loss = squared_loss(y_train, forward(x_train, NN))\n",
    "\n",
    "    # Backward pass\n",
    "    Loss.backward()\n",
    "    \n",
    "    # gradient descent update\n",
    "    update_parameters(parameters(NN), LEARN_R)\n",
    "    zero_gradients(parameters(NN))\n",
    "    \n",
    "    # Training loss\n",
    "    train_loss.append(Loss.v)\n",
    "    \n",
    "    # Validation\n",
    "    Loss_validation = squared_loss(y_validation, forward(x_validation, NN))\n",
    "    val_loss.append(Loss_validation.v)\n",
    "    \n",
    "    if e%10==0:\n",
    "        print(\"{:4d}\".format(e),\n",
    "              \"({:5.2f}%)\".format(e/EPOCHS*100), \n",
    "              \"Train loss: {:4.3f} \\t Validation loss: {:4.3f}\".format(train_loss[-1], val_loss[-1]))\n",
    "        \n",
    "plt.plot(range(len(train_loss)), train_loss)\n",
    "plt.plot(range(len(val_loss)), val_loss)\n",
    "#####  TESTING #####\n",
    "output_test = forward(x_test, NN)\n",
    "y_test_np = Var_to_nparray(y_test)\n",
    "plt.scatter(y_test_np, Var_to_nparray(output_test));\n",
    "plt.plot([np.min(y_test_np), np.max(y_test_np)], [np.min(y_test_np), np.max(y_test_np)], color='k');\n",
    "plt.xlabel(\"y\");\n",
    "plt.ylabel(\"$\\hat{y}$\");\n",
    "plt.title(\"Model prediction vs real in the test set, the close to the line the better\")\n",
    "plt.grid(True);\n",
    "plt.axis('equal');\n",
    "plt.tight_layout();\n",
    "\n",
    "Loss_test = squared_loss(y_test, forward(x_test, NN))\n",
    "\n",
    "print(\"Test loss:  {:4.3f}\".format(Loss_test.v))"
   ],
   "outputs": [
    {
     "output_type": "display_data",
     "data": {
      "image/png": "[encoded data removed]",
      "text/plain": [
       "<Figure size 432x288 with 1 Axes>"
      ]
     },
     "metadata": {
      "needs_background": "light"
     }
    },
    {
     "output_type": "stream",
     "name": "stdout",
     "text": [
      "   0 ( 0.00%) Train loss: 313.627 \t Validation loss: 1437.332\n",
      "  10 ( 0.20%) Train loss: 26.732 \t Validation loss: 25.439\n",
      "  20 ( 0.40%) Train loss: 21.860 \t Validation loss: 22.901\n",
      "  30 ( 0.60%) Train loss: 20.062 \t Validation loss: 22.453\n",
      "  40 ( 0.80%) Train loss: 19.223 \t Validation loss: 22.461\n",
      "  50 ( 1.00%) Train loss: 18.765 \t Validation loss: 22.564\n",
      "  60 ( 1.20%) Train loss: 18.486 \t Validation loss: 22.669\n",
      "  70 ( 1.40%) Train loss: 18.301 \t Validation loss: 22.752\n",
      "  80 ( 1.60%) Train loss: 18.169 \t Validation loss: 22.810\n",
      "  90 ( 1.80%) Train loss: 18.071 \t Validation loss: 22.847\n",
      " 100 ( 2.00%) Train loss: 17.994 \t Validation loss: 22.867\n",
      " 110 ( 2.20%) Train loss: 17.933 \t Validation loss: 22.876\n",
      " 120 ( 2.40%) Train loss: 17.883 \t Validation loss: 22.878\n",
      " 130 ( 2.60%) Train loss: 17.843 \t Validation loss: 22.874\n",
      " 140 ( 2.80%) Train loss: 17.809 \t Validation loss: 22.867\n",
      " 150 ( 3.00%) Train loss: 17.780 \t Validation loss: 22.859\n",
      " 160 ( 3.20%) Train loss: 17.757 \t Validation loss: 22.850\n",
      " 170 ( 3.40%) Train loss: 17.736 \t Validation loss: 22.840\n",
      " 180 ( 3.60%) Train loss: 17.718 \t Validation loss: 22.831\n",
      " 190 ( 3.80%) Train loss: 17.703 \t Validation loss: 22.821\n",
      " 200 ( 4.00%) Train loss: 17.689 \t Validation loss: 22.812\n",
      " 210 ( 4.20%) Train loss: 17.677 \t Validation loss: 22.803\n",
      " 220 ( 4.40%) Train loss: 17.666 \t Validation loss: 22.794\n",
      " 230 ( 4.60%) Train loss: 17.656 \t Validation loss: 22.786\n",
      " 240 ( 4.80%) Train loss: 17.646 \t Validation loss: 22.778\n",
      " 250 ( 5.00%) Train loss: 17.637 \t Validation loss: 22.769\n",
      " 260 ( 5.20%) Train loss: 17.629 \t Validation loss: 22.761\n",
      " 270 ( 5.40%) Train loss: 17.621 \t Validation loss: 22.753\n",
      " 280 ( 5.60%) Train loss: 17.613 \t Validation loss: 22.745\n",
      " 290 ( 5.80%) Train loss: 17.605 \t Validation loss: 22.737\n",
      " 300 ( 6.00%) Train loss: 17.597 \t Validation loss: 22.728\n",
      " 310 ( 6.20%) Train loss: 17.590 \t Validation loss: 22.720\n",
      " 320 ( 6.40%) Train loss: 17.583 \t Validation loss: 22.712\n",
      " 330 ( 6.60%) Train loss: 17.576 \t Validation loss: 22.704\n",
      " 340 ( 6.80%) Train loss: 17.568 \t Validation loss: 22.695\n",
      " 350 ( 7.00%) Train loss: 17.561 \t Validation loss: 22.687\n",
      " 360 ( 7.20%) Train loss: 17.554 \t Validation loss: 22.678\n",
      " 370 ( 7.40%) Train loss: 17.547 \t Validation loss: 22.669\n",
      " 380 ( 7.60%) Train loss: 17.540 \t Validation loss: 22.660\n",
      " 390 ( 7.80%) Train loss: 17.533 \t Validation loss: 22.652\n",
      " 400 ( 8.00%) Train loss: 17.526 \t Validation loss: 22.643\n",
      " 410 ( 8.20%) Train loss: 17.519 \t Validation loss: 22.634\n",
      " 420 ( 8.40%) Train loss: 17.512 \t Validation loss: 22.625\n",
      " 430 ( 8.60%) Train loss: 17.505 \t Validation loss: 22.615\n",
      " 440 ( 8.80%) Train loss: 17.497 \t Validation loss: 22.606\n",
      " 450 ( 9.00%) Train loss: 17.490 \t Validation loss: 22.597\n",
      " 460 ( 9.20%) Train loss: 17.483 \t Validation loss: 22.588\n",
      " 470 ( 9.40%) Train loss: 17.476 \t Validation loss: 22.578\n",
      " 480 ( 9.60%) Train loss: 17.469 \t Validation loss: 22.569\n",
      " 490 ( 9.80%) Train loss: 17.461 \t Validation loss: 22.559\n",
      " 500 (10.00%) Train loss: 17.454 \t Validation loss: 22.549\n",
      " 510 (10.20%) Train loss: 17.447 \t Validation loss: 22.540\n",
      " 520 (10.40%) Train loss: 17.439 \t Validation loss: 22.530\n",
      " 530 (10.60%) Train loss: 17.432 \t Validation loss: 22.520\n",
      " 540 (10.80%) Train loss: 17.425 \t Validation loss: 22.510\n",
      " 550 (11.00%) Train loss: 17.417 \t Validation loss: 22.500\n",
      " 560 (11.20%) Train loss: 17.410 \t Validation loss: 22.490\n",
      " 570 (11.40%) Train loss: 17.402 \t Validation loss: 22.480\n",
      " 580 (11.60%) Train loss: 17.395 \t Validation loss: 22.470\n",
      " 590 (11.80%) Train loss: 17.387 \t Validation loss: 22.460\n",
      " 600 (12.00%) Train loss: 17.380 \t Validation loss: 22.450\n",
      " 610 (12.20%) Train loss: 17.372 \t Validation loss: 22.439\n",
      " 620 (12.40%) Train loss: 17.365 \t Validation loss: 22.429\n",
      " 630 (12.60%) Train loss: 17.357 \t Validation loss: 22.418\n",
      " 640 (12.80%) Train loss: 17.349 \t Validation loss: 22.408\n",
      " 650 (13.00%) Train loss: 17.342 \t Validation loss: 22.397\n",
      " 660 (13.20%) Train loss: 17.334 \t Validation loss: 22.387\n",
      " 670 (13.40%) Train loss: 17.326 \t Validation loss: 22.376\n",
      " 680 (13.60%) Train loss: 17.318 \t Validation loss: 22.365\n",
      " 690 (13.80%) Train loss: 17.311 \t Validation loss: 22.354\n",
      " 700 (14.00%) Train loss: 17.303 \t Validation loss: 22.343\n",
      " 710 (14.20%) Train loss: 17.295 \t Validation loss: 22.332\n",
      " 720 (14.40%) Train loss: 17.287 \t Validation loss: 22.321\n",
      " 730 (14.60%) Train loss: 17.279 \t Validation loss: 22.310\n",
      " 740 (14.80%) Train loss: 17.271 \t Validation loss: 22.299\n",
      " 750 (15.00%) Train loss: 17.263 \t Validation loss: 22.288\n",
      " 760 (15.20%) Train loss: 17.255 \t Validation loss: 22.276\n",
      " 770 (15.40%) Train loss: 17.246 \t Validation loss: 22.265\n",
      " 780 (15.60%) Train loss: 17.238 \t Validation loss: 22.253\n",
      " 790 (15.80%) Train loss: 17.230 \t Validation loss: 22.242\n",
      " 800 (16.00%) Train loss: 17.222 \t Validation loss: 22.230\n",
      " 810 (16.20%) Train loss: 17.214 \t Validation loss: 22.218\n",
      " 820 (16.40%) Train loss: 17.205 \t Validation loss: 22.206\n",
      " 830 (16.60%) Train loss: 17.197 \t Validation loss: 22.194\n",
      " 840 (16.80%) Train loss: 17.188 \t Validation loss: 22.182\n",
      " 850 (17.00%) Train loss: 17.180 \t Validation loss: 22.170\n",
      " 860 (17.20%) Train loss: 17.172 \t Validation loss: 22.158\n",
      " 870 (17.40%) Train loss: 17.163 \t Validation loss: 22.146\n",
      " 880 (17.60%) Train loss: 17.155 \t Validation loss: 22.134\n",
      " 890 (17.80%) Train loss: 17.146 \t Validation loss: 22.121\n",
      " 900 (18.00%) Train loss: 17.137 \t Validation loss: 22.109\n",
      " 910 (18.20%) Train loss: 17.129 \t Validation loss: 22.096\n",
      " 920 (18.40%) Train loss: 17.120 \t Validation loss: 22.084\n",
      " 930 (18.60%) Train loss: 17.111 \t Validation loss: 22.071\n",
      " 940 (18.80%) Train loss: 17.102 \t Validation loss: 22.058\n",
      " 950 (19.00%) Train loss: 17.094 \t Validation loss: 22.045\n",
      " 960 (19.20%) Train loss: 17.085 \t Validation loss: 22.032\n",
      " 970 (19.40%) Train loss: 17.076 \t Validation loss: 22.019\n",
      " 980 (19.60%) Train loss: 17.067 \t Validation loss: 22.006\n",
      " 990 (19.80%) Train loss: 17.058 \t Validation loss: 21.993\n",
      "1000 (20.00%) Train loss: 17.049 \t Validation loss: 21.980\n",
      "1010 (20.20%) Train loss: 17.040 \t Validation loss: 21.967\n",
      "1020 (20.40%) Train loss: 17.031 \t Validation loss: 21.953\n",
      "1030 (20.60%) Train loss: 17.022 \t Validation loss: 21.940\n",
      "1040 (20.80%) Train loss: 17.013 \t Validation loss: 21.927\n",
      "1050 (21.00%) Train loss: 17.003 \t Validation loss: 21.913\n",
      "1060 (21.20%) Train loss: 16.994 \t Validation loss: 21.900\n",
      "1070 (21.40%) Train loss: 16.985 \t Validation loss: 21.886\n",
      "1080 (21.60%) Train loss: 16.976 \t Validation loss: 21.872\n",
      "1090 (21.80%) Train loss: 16.966 \t Validation loss: 21.859\n",
      "1100 (22.00%) Train loss: 16.957 \t Validation loss: 21.845\n",
      "1110 (22.20%) Train loss: 16.948 \t Validation loss: 21.831\n",
      "1120 (22.40%) Train loss: 16.938 \t Validation loss: 21.817\n",
      "1130 (22.60%) Train loss: 16.929 \t Validation loss: 21.804\n",
      "1140 (22.80%) Train loss: 16.920 \t Validation loss: 21.790\n",
      "1150 (23.00%) Train loss: 16.910 \t Validation loss: 21.776\n",
      "1160 (23.20%) Train loss: 16.901 \t Validation loss: 21.762\n",
      "1170 (23.40%) Train loss: 16.891 \t Validation loss: 21.748\n",
      "1180 (23.60%) Train loss: 16.882 \t Validation loss: 21.734\n",
      "1190 (23.80%) Train loss: 16.873 \t Validation loss: 21.720\n",
      "1200 (24.00%) Train loss: 16.863 \t Validation loss: 21.707\n",
      "1210 (24.20%) Train loss: 16.854 \t Validation loss: 21.693\n",
      "1220 (24.40%) Train loss: 16.844 \t Validation loss: 21.679\n",
      "1230 (24.60%) Train loss: 16.835 \t Validation loss: 21.665\n",
      "1240 (24.80%) Train loss: 16.825 \t Validation loss: 21.651\n",
      "1250 (25.00%) Train loss: 16.816 \t Validation loss: 21.637\n",
      "1260 (25.20%) Train loss: 16.806 \t Validation loss: 21.624\n",
      "1270 (25.40%) Train loss: 16.797 \t Validation loss: 21.610\n",
      "1280 (25.60%) Train loss: 16.787 \t Validation loss: 21.596\n",
      "1290 (25.80%) Train loss: 16.778 \t Validation loss: 21.583\n",
      "1300 (26.00%) Train loss: 16.768 \t Validation loss: 21.569\n",
      "1310 (26.20%) Train loss: 16.759 \t Validation loss: 21.555\n",
      "1320 (26.40%) Train loss: 16.750 \t Validation loss: 21.542\n",
      "1330 (26.60%) Train loss: 16.740 \t Validation loss: 21.528\n",
      "1340 (26.80%) Train loss: 16.731 \t Validation loss: 21.515\n",
      "1350 (27.00%) Train loss: 16.722 \t Validation loss: 21.501\n",
      "1360 (27.20%) Train loss: 16.712 \t Validation loss: 21.488\n",
      "1370 (27.40%) Train loss: 16.703 \t Validation loss: 21.475\n",
      "1380 (27.60%) Train loss: 16.694 \t Validation loss: 21.462\n",
      "1390 (27.80%) Train loss: 16.684 \t Validation loss: 21.448\n",
      "1400 (28.00%) Train loss: 16.675 \t Validation loss: 21.435\n",
      "1410 (28.20%) Train loss: 16.666 \t Validation loss: 21.422\n",
      "1420 (28.40%) Train loss: 16.657 \t Validation loss: 21.409\n",
      "1430 (28.60%) Train loss: 16.647 \t Validation loss: 21.396\n",
      "1440 (28.80%) Train loss: 16.638 \t Validation loss: 21.384\n",
      "1450 (29.00%) Train loss: 16.629 \t Validation loss: 21.371\n",
      "1460 (29.20%) Train loss: 16.620 \t Validation loss: 21.358\n",
      "1470 (29.40%) Train loss: 16.611 \t Validation loss: 21.346\n",
      "1480 (29.60%) Train loss: 16.602 \t Validation loss: 21.333\n",
      "1490 (29.80%) Train loss: 16.593 \t Validation loss: 21.321\n",
      "1500 (30.00%) Train loss: 16.584 \t Validation loss: 21.308\n",
      "1510 (30.20%) Train loss: 16.575 \t Validation loss: 21.296\n",
      "1520 (30.40%) Train loss: 16.566 \t Validation loss: 21.284\n",
      "1530 (30.60%) Train loss: 16.558 \t Validation loss: 21.271\n",
      "1540 (30.80%) Train loss: 16.549 \t Validation loss: 21.259\n",
      "1550 (31.00%) Train loss: 16.540 \t Validation loss: 21.247\n",
      "1560 (31.20%) Train loss: 16.531 \t Validation loss: 21.235\n",
      "1570 (31.40%) Train loss: 16.523 \t Validation loss: 21.223\n",
      "1580 (31.60%) Train loss: 16.514 \t Validation loss: 21.212\n",
      "1590 (31.80%) Train loss: 16.505 \t Validation loss: 21.200\n",
      "1600 (32.00%) Train loss: 16.497 \t Validation loss: 21.188\n",
      "1610 (32.20%) Train loss: 16.488 \t Validation loss: 21.177\n",
      "1620 (32.40%) Train loss: 16.480 \t Validation loss: 21.165\n",
      "1630 (32.60%) Train loss: 16.471 \t Validation loss: 21.154\n",
      "1640 (32.80%) Train loss: 16.463 \t Validation loss: 21.142\n",
      "1650 (33.00%) Train loss: 16.454 \t Validation loss: 21.131\n",
      "1660 (33.20%) Train loss: 16.446 \t Validation loss: 21.120\n",
      "1670 (33.40%) Train loss: 16.438 \t Validation loss: 21.109\n",
      "1680 (33.60%) Train loss: 16.430 \t Validation loss: 21.098\n",
      "1690 (33.80%) Train loss: 16.421 \t Validation loss: 21.087\n",
      "1700 (34.00%) Train loss: 16.413 \t Validation loss: 21.076\n",
      "1710 (34.20%) Train loss: 16.405 \t Validation loss: 21.065\n",
      "1720 (34.40%) Train loss: 16.397 \t Validation loss: 21.054\n",
      "1730 (34.60%) Train loss: 16.389 \t Validation loss: 21.043\n",
      "1740 (34.80%) Train loss: 16.381 \t Validation loss: 21.033\n",
      "1750 (35.00%) Train loss: 16.373 \t Validation loss: 21.022\n",
      "1760 (35.20%) Train loss: 16.365 \t Validation loss: 21.011\n",
      "1770 (35.40%) Train loss: 16.357 \t Validation loss: 21.001\n",
      "1780 (35.60%) Train loss: 16.349 \t Validation loss: 20.990\n",
      "1790 (35.80%) Train loss: 16.341 \t Validation loss: 20.980\n",
      "1800 (36.00%) Train loss: 16.334 \t Validation loss: 20.970\n",
      "1810 (36.20%) Train loss: 16.326 \t Validation loss: 20.960\n",
      "1820 (36.40%) Train loss: 16.318 \t Validation loss: 20.949\n",
      "1830 (36.60%) Train loss: 16.311 \t Validation loss: 20.939\n",
      "1840 (36.80%) Train loss: 16.303 \t Validation loss: 20.929\n",
      "1850 (37.00%) Train loss: 16.295 \t Validation loss: 20.919\n",
      "1860 (37.20%) Train loss: 16.288 \t Validation loss: 20.909\n",
      "1870 (37.40%) Train loss: 16.280 \t Validation loss: 20.900\n",
      "1880 (37.60%) Train loss: 16.273 \t Validation loss: 20.890\n",
      "1890 (37.80%) Train loss: 16.266 \t Validation loss: 20.880\n",
      "1900 (38.00%) Train loss: 16.258 \t Validation loss: 20.870\n",
      "1910 (38.20%) Train loss: 16.251 \t Validation loss: 20.861\n",
      "1920 (38.40%) Train loss: 16.244 \t Validation loss: 20.851\n",
      "1930 (38.60%) Train loss: 16.236 \t Validation loss: 20.842\n",
      "1940 (38.80%) Train loss: 16.229 \t Validation loss: 20.832\n",
      "1950 (39.00%) Train loss: 16.222 \t Validation loss: 20.823\n",
      "1960 (39.20%) Train loss: 16.215 \t Validation loss: 20.813\n",
      "1970 (39.40%) Train loss: 16.208 \t Validation loss: 20.804\n",
      "1980 (39.60%) Train loss: 16.201 \t Validation loss: 20.795\n",
      "1990 (39.80%) Train loss: 16.194 \t Validation loss: 20.786\n",
      "2000 (40.00%) Train loss: 16.187 \t Validation loss: 20.777\n",
      "2010 (40.20%) Train loss: 16.180 \t Validation loss: 20.768\n",
      "2020 (40.40%) Train loss: 16.173 \t Validation loss: 20.758\n",
      "2030 (40.60%) Train loss: 16.166 \t Validation loss: 20.750\n",
      "2040 (40.80%) Train loss: 16.160 \t Validation loss: 20.741\n",
      "2050 (41.00%) Train loss: 16.153 \t Validation loss: 20.732\n",
      "2060 (41.20%) Train loss: 16.146 \t Validation loss: 20.723\n",
      "2070 (41.40%) Train loss: 16.139 \t Validation loss: 20.714\n",
      "2080 (41.60%) Train loss: 16.133 \t Validation loss: 20.705\n",
      "2090 (41.80%) Train loss: 16.126 \t Validation loss: 20.697\n",
      "2100 (42.00%) Train loss: 16.120 \t Validation loss: 20.688\n",
      "2110 (42.20%) Train loss: 16.113 \t Validation loss: 20.680\n",
      "2120 (42.40%) Train loss: 16.107 \t Validation loss: 20.671\n",
      "2130 (42.60%) Train loss: 16.100 \t Validation loss: 20.663\n",
      "2140 (42.80%) Train loss: 16.094 \t Validation loss: 20.654\n",
      "2150 (43.00%) Train loss: 16.088 \t Validation loss: 20.646\n",
      "2160 (43.20%) Train loss: 16.081 \t Validation loss: 20.638\n",
      "2170 (43.40%) Train loss: 16.075 \t Validation loss: 20.629\n",
      "2180 (43.60%) Train loss: 16.069 \t Validation loss: 20.621\n",
      "2190 (43.80%) Train loss: 16.063 \t Validation loss: 20.613\n",
      "2200 (44.00%) Train loss: 16.056 \t Validation loss: 20.605\n",
      "2210 (44.20%) Train loss: 16.050 \t Validation loss: 20.597\n",
      "2220 (44.40%) Train loss: 16.044 \t Validation loss: 20.589\n",
      "2230 (44.60%) Train loss: 16.038 \t Validation loss: 20.581\n",
      "2240 (44.80%) Train loss: 16.032 \t Validation loss: 20.573\n",
      "2250 (45.00%) Train loss: 16.026 \t Validation loss: 20.565\n",
      "2260 (45.20%) Train loss: 16.020 \t Validation loss: 20.557\n",
      "2270 (45.40%) Train loss: 16.015 \t Validation loss: 20.550\n",
      "2280 (45.60%) Train loss: 16.009 \t Validation loss: 20.542\n",
      "2290 (45.80%) Train loss: 16.003 \t Validation loss: 20.534\n",
      "2300 (46.00%) Train loss: 15.997 \t Validation loss: 20.526\n",
      "2310 (46.20%) Train loss: 15.992 \t Validation loss: 20.519\n",
      "2320 (46.40%) Train loss: 15.986 \t Validation loss: 20.511\n",
      "2330 (46.60%) Train loss: 15.980 \t Validation loss: 20.504\n",
      "2340 (46.80%) Train loss: 15.975 \t Validation loss: 20.496\n",
      "2350 (47.00%) Train loss: 15.969 \t Validation loss: 20.489\n",
      "2360 (47.20%) Train loss: 15.964 \t Validation loss: 20.482\n",
      "2370 (47.40%) Train loss: 15.958 \t Validation loss: 20.474\n",
      "2380 (47.60%) Train loss: 15.953 \t Validation loss: 20.467\n",
      "2390 (47.80%) Train loss: 15.947 \t Validation loss: 20.460\n",
      "2400 (48.00%) Train loss: 15.942 \t Validation loss: 20.452\n",
      "2410 (48.20%) Train loss: 15.937 \t Validation loss: 20.445\n",
      "2420 (48.40%) Train loss: 15.931 \t Validation loss: 20.438\n",
      "2430 (48.60%) Train loss: 15.926 \t Validation loss: 20.431\n",
      "2440 (48.80%) Train loss: 15.921 \t Validation loss: 20.424\n",
      "2450 (49.00%) Train loss: 15.916 \t Validation loss: 20.417\n",
      "2460 (49.20%) Train loss: 15.911 \t Validation loss: 20.410\n",
      "2470 (49.40%) Train loss: 15.906 \t Validation loss: 20.403\n",
      "2480 (49.60%) Train loss: 15.901 \t Validation loss: 20.396\n",
      "2490 (49.80%) Train loss: 15.896 \t Validation loss: 20.390\n",
      "2500 (50.00%) Train loss: 15.891 \t Validation loss: 20.383\n",
      "2510 (50.20%) Train loss: 15.886 \t Validation loss: 20.376\n",
      "2520 (50.40%) Train loss: 15.881 \t Validation loss: 20.369\n",
      "2530 (50.60%) Train loss: 15.876 \t Validation loss: 20.363\n",
      "2540 (50.80%) Train loss: 15.871 \t Validation loss: 20.356\n",
      "2550 (51.00%) Train loss: 15.866 \t Validation loss: 20.350\n",
      "2560 (51.20%) Train loss: 15.862 \t Validation loss: 20.343\n",
      "2570 (51.40%) Train loss: 15.857 \t Validation loss: 20.337\n",
      "2580 (51.60%) Train loss: 15.852 \t Validation loss: 20.330\n",
      "2590 (51.80%) Train loss: 15.848 \t Validation loss: 20.324\n",
      "2600 (52.00%) Train loss: 15.843 \t Validation loss: 20.317\n",
      "2610 (52.20%) Train loss: 15.838 \t Validation loss: 20.311\n",
      "2620 (52.40%) Train loss: 15.834 \t Validation loss: 20.305\n",
      "2630 (52.60%) Train loss: 15.829 \t Validation loss: 20.299\n",
      "2640 (52.80%) Train loss: 15.825 \t Validation loss: 20.292\n",
      "2650 (53.00%) Train loss: 15.820 \t Validation loss: 20.286\n",
      "2660 (53.20%) Train loss: 15.816 \t Validation loss: 20.280\n",
      "2670 (53.40%) Train loss: 15.812 \t Validation loss: 20.274\n",
      "2680 (53.60%) Train loss: 15.807 \t Validation loss: 20.268\n",
      "2690 (53.80%) Train loss: 15.803 \t Validation loss: 20.262\n",
      "2700 (54.00%) Train loss: 15.799 \t Validation loss: 20.256\n",
      "2710 (54.20%) Train loss: 15.795 \t Validation loss: 20.250\n",
      "2720 (54.40%) Train loss: 15.790 \t Validation loss: 20.244\n",
      "2730 (54.60%) Train loss: 15.786 \t Validation loss: 20.238\n",
      "2740 (54.80%) Train loss: 15.782 \t Validation loss: 20.232\n",
      "2750 (55.00%) Train loss: 15.778 \t Validation loss: 20.227\n",
      "2760 (55.20%) Train loss: 15.774 \t Validation loss: 20.221\n",
      "2770 (55.40%) Train loss: 15.770 \t Validation loss: 20.215\n",
      "2780 (55.60%) Train loss: 15.766 \t Validation loss: 20.209\n",
      "2790 (55.80%) Train loss: 15.762 \t Validation loss: 20.204\n",
      "2800 (56.00%) Train loss: 15.758 \t Validation loss: 20.198\n",
      "2810 (56.20%) Train loss: 15.754 \t Validation loss: 20.193\n",
      "2820 (56.40%) Train loss: 15.751 \t Validation loss: 20.187\n",
      "2830 (56.60%) Train loss: 15.747 \t Validation loss: 20.182\n",
      "2840 (56.80%) Train loss: 15.743 \t Validation loss: 20.176\n",
      "2850 (57.00%) Train loss: 15.739 \t Validation loss: 20.171\n",
      "2860 (57.20%) Train loss: 15.736 \t Validation loss: 20.165\n",
      "2870 (57.40%) Train loss: 15.732 \t Validation loss: 20.160\n",
      "2880 (57.60%) Train loss: 15.728 \t Validation loss: 20.155\n",
      "2890 (57.80%) Train loss: 15.725 \t Validation loss: 20.149\n",
      "2900 (58.00%) Train loss: 15.721 \t Validation loss: 20.144\n",
      "2910 (58.20%) Train loss: 15.717 \t Validation loss: 20.139\n",
      "2920 (58.40%) Train loss: 15.714 \t Validation loss: 20.134\n",
      "2930 (58.60%) Train loss: 15.710 \t Validation loss: 20.128\n",
      "2940 (58.80%) Train loss: 15.707 \t Validation loss: 20.123\n",
      "2950 (59.00%) Train loss: 15.704 \t Validation loss: 20.118\n",
      "2960 (59.20%) Train loss: 15.700 \t Validation loss: 20.113\n",
      "2970 (59.40%) Train loss: 15.697 \t Validation loss: 20.108\n",
      "2980 (59.60%) Train loss: 15.693 \t Validation loss: 20.103\n",
      "2990 (59.80%) Train loss: 15.690 \t Validation loss: 20.098\n",
      "3000 (60.00%) Train loss: 15.687 \t Validation loss: 20.093\n",
      "3010 (60.20%) Train loss: 15.684 \t Validation loss: 20.088\n",
      "3020 (60.40%) Train loss: 15.680 \t Validation loss: 20.083\n",
      "3030 (60.60%) Train loss: 15.677 \t Validation loss: 20.079\n",
      "3040 (60.80%) Train loss: 15.674 \t Validation loss: 20.074\n",
      "3050 (61.00%) Train loss: 15.671 \t Validation loss: 20.069\n",
      "3060 (61.20%) Train loss: 15.668 \t Validation loss: 20.064\n",
      "3070 (61.40%) Train loss: 15.665 \t Validation loss: 20.060\n",
      "3080 (61.60%) Train loss: 15.662 \t Validation loss: 20.055\n",
      "3090 (61.80%) Train loss: 15.659 \t Validation loss: 20.050\n",
      "3100 (62.00%) Train loss: 15.656 \t Validation loss: 20.046\n",
      "3110 (62.20%) Train loss: 15.653 \t Validation loss: 20.041\n",
      "3120 (62.40%) Train loss: 15.650 \t Validation loss: 20.036\n",
      "3130 (62.60%) Train loss: 15.647 \t Validation loss: 20.032\n",
      "3140 (62.80%) Train loss: 15.644 \t Validation loss: 20.027\n",
      "3150 (63.00%) Train loss: 15.641 \t Validation loss: 20.023\n",
      "3160 (63.20%) Train loss: 15.638 \t Validation loss: 20.019\n",
      "3170 (63.40%) Train loss: 15.635 \t Validation loss: 20.014\n",
      "3180 (63.60%) Train loss: 15.633 \t Validation loss: 20.010\n",
      "3190 (63.80%) Train loss: 15.630 \t Validation loss: 20.005\n",
      "3200 (64.00%) Train loss: 15.627 \t Validation loss: 20.001\n",
      "3210 (64.20%) Train loss: 15.624 \t Validation loss: 19.997\n",
      "3220 (64.40%) Train loss: 15.622 \t Validation loss: 19.992\n",
      "3230 (64.60%) Train loss: 15.619 \t Validation loss: 19.988\n",
      "3240 (64.80%) Train loss: 15.616 \t Validation loss: 19.984\n",
      "3250 (65.00%) Train loss: 15.614 \t Validation loss: 19.980\n",
      "3260 (65.20%) Train loss: 15.611 \t Validation loss: 19.976\n",
      "3270 (65.40%) Train loss: 15.609 \t Validation loss: 19.971\n",
      "3280 (65.60%) Train loss: 15.606 \t Validation loss: 19.967\n",
      "3290 (65.80%) Train loss: 15.604 \t Validation loss: 19.963\n",
      "3300 (66.00%) Train loss: 15.601 \t Validation loss: 19.959\n",
      "3310 (66.20%) Train loss: 15.599 \t Validation loss: 19.955\n",
      "3320 (66.40%) Train loss: 15.596 \t Validation loss: 19.951\n",
      "3330 (66.60%) Train loss: 15.594 \t Validation loss: 19.947\n",
      "3340 (66.80%) Train loss: 15.591 \t Validation loss: 19.943\n",
      "3350 (67.00%) Train loss: 15.589 \t Validation loss: 19.939\n",
      "3360 (67.20%) Train loss: 15.587 \t Validation loss: 19.935\n",
      "3370 (67.40%) Train loss: 15.584 \t Validation loss: 19.932\n",
      "3380 (67.60%) Train loss: 15.582 \t Validation loss: 19.928\n",
      "3390 (67.80%) Train loss: 15.580 \t Validation loss: 19.924\n",
      "3400 (68.00%) Train loss: 15.577 \t Validation loss: 19.920\n",
      "3410 (68.20%) Train loss: 15.575 \t Validation loss: 19.916\n",
      "3420 (68.40%) Train loss: 15.573 \t Validation loss: 19.912\n",
      "3430 (68.60%) Train loss: 15.571 \t Validation loss: 19.909\n",
      "3440 (68.80%) Train loss: 15.569 \t Validation loss: 19.905\n",
      "3450 (69.00%) Train loss: 15.566 \t Validation loss: 19.901\n",
      "3460 (69.20%) Train loss: 15.564 \t Validation loss: 19.898\n",
      "3470 (69.40%) Train loss: 15.562 \t Validation loss: 19.894\n",
      "3480 (69.60%) Train loss: 15.560 \t Validation loss: 19.890\n",
      "3490 (69.80%) Train loss: 15.558 \t Validation loss: 19.887\n",
      "3500 (70.00%) Train loss: 15.556 \t Validation loss: 19.883\n",
      "3510 (70.20%) Train loss: 15.554 \t Validation loss: 19.880\n",
      "3520 (70.40%) Train loss: 15.552 \t Validation loss: 19.876\n",
      "3530 (70.60%) Train loss: 15.550 \t Validation loss: 19.873\n",
      "3540 (70.80%) Train loss: 15.548 \t Validation loss: 19.869\n",
      "3550 (71.00%) Train loss: 15.546 \t Validation loss: 19.866\n",
      "3560 (71.20%) Train loss: 15.544 \t Validation loss: 19.862\n",
      "3570 (71.40%) Train loss: 15.542 \t Validation loss: 19.859\n",
      "3580 (71.60%) Train loss: 15.540 \t Validation loss: 19.855\n",
      "3590 (71.80%) Train loss: 15.538 \t Validation loss: 19.852\n",
      "3600 (72.00%) Train loss: 15.536 \t Validation loss: 19.849\n",
      "3610 (72.20%) Train loss: 15.535 \t Validation loss: 19.845\n",
      "3620 (72.40%) Train loss: 15.533 \t Validation loss: 19.842\n",
      "3630 (72.60%) Train loss: 15.531 \t Validation loss: 19.839\n",
      "3640 (72.80%) Train loss: 15.529 \t Validation loss: 19.835\n",
      "3650 (73.00%) Train loss: 15.527 \t Validation loss: 19.832\n",
      "3660 (73.20%) Train loss: 15.526 \t Validation loss: 19.829\n",
      "3670 (73.40%) Train loss: 15.524 \t Validation loss: 19.826\n",
      "3680 (73.60%) Train loss: 15.522 \t Validation loss: 19.823\n",
      "3690 (73.80%) Train loss: 15.520 \t Validation loss: 19.819\n",
      "3700 (74.00%) Train loss: 15.519 \t Validation loss: 19.816\n",
      "3710 (74.20%) Train loss: 15.517 \t Validation loss: 19.813\n",
      "3720 (74.40%) Train loss: 15.515 \t Validation loss: 19.810\n",
      "3730 (74.60%) Train loss: 15.514 \t Validation loss: 19.807\n",
      "3740 (74.80%) Train loss: 15.512 \t Validation loss: 19.804\n",
      "3750 (75.00%) Train loss: 15.511 \t Validation loss: 19.801\n",
      "3760 (75.20%) Train loss: 15.509 \t Validation loss: 19.798\n",
      "3770 (75.40%) Train loss: 15.507 \t Validation loss: 19.795\n",
      "3780 (75.60%) Train loss: 15.506 \t Validation loss: 19.792\n",
      "3790 (75.80%) Train loss: 15.504 \t Validation loss: 19.789\n",
      "3800 (76.00%) Train loss: 15.503 \t Validation loss: 19.786\n",
      "3810 (76.20%) Train loss: 15.501 \t Validation loss: 19.783\n",
      "3820 (76.40%) Train loss: 15.500 \t Validation loss: 19.780\n",
      "3830 (76.60%) Train loss: 15.498 \t Validation loss: 19.777\n",
      "3840 (76.80%) Train loss: 15.497 \t Validation loss: 19.774\n",
      "3850 (77.00%) Train loss: 15.495 \t Validation loss: 19.771\n",
      "3860 (77.20%) Train loss: 15.494 \t Validation loss: 19.768\n",
      "3870 (77.40%) Train loss: 15.492 \t Validation loss: 19.765\n",
      "3880 (77.60%) Train loss: 15.491 \t Validation loss: 19.763\n",
      "3890 (77.80%) Train loss: 15.489 \t Validation loss: 19.760\n",
      "3900 (78.00%) Train loss: 15.488 \t Validation loss: 19.757\n",
      "3910 (78.20%) Train loss: 15.487 \t Validation loss: 19.754\n",
      "3920 (78.40%) Train loss: 15.485 \t Validation loss: 19.751\n",
      "3930 (78.60%) Train loss: 15.484 \t Validation loss: 19.749\n",
      "3940 (78.80%) Train loss: 15.483 \t Validation loss: 19.746\n",
      "3950 (79.00%) Train loss: 15.481 \t Validation loss: 19.743\n",
      "3960 (79.20%) Train loss: 15.480 \t Validation loss: 19.740\n",
      "3970 (79.40%) Train loss: 15.479 \t Validation loss: 19.738\n",
      "3980 (79.60%) Train loss: 15.477 \t Validation loss: 19.735\n",
      "3990 (79.80%) Train loss: 15.476 \t Validation loss: 19.732\n",
      "4000 (80.00%) Train loss: 15.475 \t Validation loss: 19.730\n",
      "4010 (80.20%) Train loss: 15.473 \t Validation loss: 19.727\n",
      "4020 (80.40%) Train loss: 15.472 \t Validation loss: 19.724\n",
      "4030 (80.60%) Train loss: 15.471 \t Validation loss: 19.722\n",
      "4040 (80.80%) Train loss: 15.470 \t Validation loss: 19.719\n",
      "4050 (81.00%) Train loss: 15.469 \t Validation loss: 19.717\n",
      "4060 (81.20%) Train loss: 15.467 \t Validation loss: 19.714\n",
      "4070 (81.40%) Train loss: 15.466 \t Validation loss: 19.712\n",
      "4080 (81.60%) Train loss: 15.465 \t Validation loss: 19.709\n",
      "4090 (81.80%) Train loss: 15.464 \t Validation loss: 19.707\n",
      "4100 (82.00%) Train loss: 15.463 \t Validation loss: 19.704\n",
      "4110 (82.20%) Train loss: 15.461 \t Validation loss: 19.702\n",
      "4120 (82.40%) Train loss: 15.460 \t Validation loss: 19.699\n",
      "4130 (82.60%) Train loss: 15.459 \t Validation loss: 19.697\n",
      "4140 (82.80%) Train loss: 15.458 \t Validation loss: 19.694\n",
      "4150 (83.00%) Train loss: 15.457 \t Validation loss: 19.692\n",
      "4160 (83.20%) Train loss: 15.456 \t Validation loss: 19.689\n",
      "4170 (83.40%) Train loss: 15.455 \t Validation loss: 19.687\n",
      "4180 (83.60%) Train loss: 15.454 \t Validation loss: 19.685\n",
      "4190 (83.80%) Train loss: 15.453 \t Validation loss: 19.682\n",
      "4200 (84.00%) Train loss: 15.452 \t Validation loss: 19.680\n",
      "4210 (84.20%) Train loss: 15.450 \t Validation loss: 19.677\n",
      "4220 (84.40%) Train loss: 15.449 \t Validation loss: 19.675\n",
      "4230 (84.60%) Train loss: 15.448 \t Validation loss: 19.673\n",
      "4240 (84.80%) Train loss: 15.447 \t Validation loss: 19.670\n",
      "4250 (85.00%) Train loss: 15.446 \t Validation loss: 19.668\n",
      "4260 (85.20%) Train loss: 15.445 \t Validation loss: 19.666\n",
      "4270 (85.40%) Train loss: 15.444 \t Validation loss: 19.664\n",
      "4280 (85.60%) Train loss: 15.443 \t Validation loss: 19.661\n",
      "4290 (85.80%) Train loss: 15.442 \t Validation loss: 19.659\n",
      "4300 (86.00%) Train loss: 15.441 \t Validation loss: 19.657\n",
      "4310 (86.20%) Train loss: 15.440 \t Validation loss: 19.655\n",
      "4320 (86.40%) Train loss: 15.439 \t Validation loss: 19.652\n",
      "4330 (86.60%) Train loss: 15.439 \t Validation loss: 19.650\n",
      "4340 (86.80%) Train loss: 15.438 \t Validation loss: 19.648\n",
      "4350 (87.00%) Train loss: 15.437 \t Validation loss: 19.646\n",
      "4360 (87.20%) Train loss: 15.436 \t Validation loss: 19.644\n",
      "4370 (87.40%) Train loss: 15.435 \t Validation loss: 19.641\n",
      "4380 (87.60%) Train loss: 15.434 \t Validation loss: 19.639\n",
      "4390 (87.80%) Train loss: 15.433 \t Validation loss: 19.637\n",
      "4400 (88.00%) Train loss: 15.432 \t Validation loss: 19.635\n",
      "4410 (88.20%) Train loss: 15.431 \t Validation loss: 19.633\n",
      "4420 (88.40%) Train loss: 15.430 \t Validation loss: 19.631\n",
      "4430 (88.60%) Train loss: 15.429 \t Validation loss: 19.629\n",
      "4440 (88.80%) Train loss: 15.429 \t Validation loss: 19.627\n",
      "4450 (89.00%) Train loss: 15.428 \t Validation loss: 19.624\n",
      "4460 (89.20%) Train loss: 15.427 \t Validation loss: 19.622\n",
      "4470 (89.40%) Train loss: 15.426 \t Validation loss: 19.620\n",
      "4480 (89.60%) Train loss: 15.425 \t Validation loss: 19.618\n",
      "4490 (89.80%) Train loss: 15.424 \t Validation loss: 19.616\n",
      "4500 (90.00%) Train loss: 15.424 \t Validation loss: 19.614\n",
      "4510 (90.20%) Train loss: 15.423 \t Validation loss: 19.612\n",
      "4520 (90.40%) Train loss: 15.422 \t Validation loss: 19.610\n",
      "4530 (90.60%) Train loss: 15.421 \t Validation loss: 19.608\n",
      "4540 (90.80%) Train loss: 15.420 \t Validation loss: 19.606\n",
      "4550 (91.00%) Train loss: 15.419 \t Validation loss: 19.604\n",
      "4560 (91.20%) Train loss: 15.419 \t Validation loss: 19.602\n",
      "4570 (91.40%) Train loss: 15.418 \t Validation loss: 19.600\n",
      "4580 (91.60%) Train loss: 15.417 \t Validation loss: 19.598\n",
      "4590 (91.80%) Train loss: 15.416 \t Validation loss: 19.596\n",
      "4600 (92.00%) Train loss: 15.416 \t Validation loss: 19.594\n",
      "4610 (92.20%) Train loss: 15.415 \t Validation loss: 19.593\n",
      "4620 (92.40%) Train loss: 15.414 \t Validation loss: 19.591\n",
      "4630 (92.60%) Train loss: 15.413 \t Validation loss: 19.589\n",
      "4640 (92.80%) Train loss: 15.413 \t Validation loss: 19.587\n",
      "4650 (93.00%) Train loss: 15.412 \t Validation loss: 19.585\n",
      "4660 (93.20%) Train loss: 15.411 \t Validation loss: 19.583\n",
      "4670 (93.40%) Train loss: 15.410 \t Validation loss: 19.581\n",
      "4680 (93.60%) Train loss: 15.410 \t Validation loss: 19.579\n",
      "4690 (93.80%) Train loss: 15.409 \t Validation loss: 19.577\n",
      "4700 (94.00%) Train loss: 15.408 \t Validation loss: 19.576\n",
      "4710 (94.20%) Train loss: 15.408 \t Validation loss: 19.574\n",
      "4720 (94.40%) Train loss: 15.407 \t Validation loss: 19.572\n",
      "4730 (94.60%) Train loss: 15.406 \t Validation loss: 19.570\n",
      "4740 (94.80%) Train loss: 15.406 \t Validation loss: 19.568\n",
      "4750 (95.00%) Train loss: 15.405 \t Validation loss: 19.566\n",
      "4760 (95.20%) Train loss: 15.404 \t Validation loss: 19.565\n",
      "4770 (95.40%) Train loss: 15.403 \t Validation loss: 19.563\n",
      "4780 (95.60%) Train loss: 15.403 \t Validation loss: 19.561\n",
      "4790 (95.80%) Train loss: 15.402 \t Validation loss: 19.559\n",
      "4800 (96.00%) Train loss: 15.402 \t Validation loss: 19.558\n",
      "4810 (96.20%) Train loss: 15.401 \t Validation loss: 19.556\n",
      "4820 (96.40%) Train loss: 15.400 \t Validation loss: 19.554\n",
      "4830 (96.60%) Train loss: 15.400 \t Validation loss: 19.552\n",
      "4840 (96.80%) Train loss: 15.399 \t Validation loss: 19.551\n",
      "4850 (97.00%) Train loss: 15.398 \t Validation loss: 19.549\n",
      "4860 (97.20%) Train loss: 15.398 \t Validation loss: 19.547\n",
      "4870 (97.40%) Train loss: 15.397 \t Validation loss: 19.545\n",
      "4880 (97.60%) Train loss: 15.396 \t Validation loss: 19.544\n",
      "4890 (97.80%) Train loss: 15.396 \t Validation loss: 19.542\n",
      "4900 (98.00%) Train loss: 15.395 \t Validation loss: 19.540\n",
      "4910 (98.20%) Train loss: 15.395 \t Validation loss: 19.539\n",
      "4920 (98.40%) Train loss: 15.394 \t Validation loss: 19.537\n",
      "4930 (98.60%) Train loss: 15.393 \t Validation loss: 19.535\n",
      "4940 (98.80%) Train loss: 15.393 \t Validation loss: 19.534\n",
      "4950 (99.00%) Train loss: 15.392 \t Validation loss: 19.532\n",
      "4960 (99.20%) Train loss: 15.392 \t Validation loss: 19.530\n",
      "4970 (99.40%) Train loss: 15.391 \t Validation loss: 19.529\n",
      "4980 (99.60%) Train loss: 15.390 \t Validation loss: 19.527\n",
      "4990 (99.80%) Train loss: 15.390 \t Validation loss: 19.526\n",
      "Test loss:  21.477\n"
     ]
    },
    {
     "output_type": "display_data",
     "data": {
      "image/png": "[encoded data removed]",
      "text/plain": [
       "<Figure size 432x288 with 1 Axes>"
      ]
     },
     "metadata": {
      "needs_background": "light"
     }
    }
   ],
   "metadata": {
    "collapsed": true,
    "id": "tQZCn2dxFtIl"
   }
  },
  {
   "cell_type": "markdown",
   "source": [
    "# Result of underfitting"
   ],
   "metadata": {}
  },
  {
   "cell_type": "code",
   "execution_count": 238,
   "source": [
    "x_test_np = Var_to_nparray(x_test)\n",
    "x_train_np = Var_to_nparray(x_train)\n",
    "y_train_np = Var_to_nparray(y_train)\n",
    "if D1:\n",
    "    plt.scatter(x_train_np, y_train_np, label=\"train data\");\n",
    "    plt.scatter(x_test_np, Var_to_nparray(output_test), label=\"test prediction\");\n",
    "    plt.scatter(x_test_np, y_test_np, label=\"test data\");\n",
    "    plt.legend();\n",
    "    plt.xlabel(\"x\");\n",
    "    plt.ylabel(\"y\");\n",
    "else:\n",
    "    plt.scatter(x_train_np[:,1], y_train, label=\"train data\");\n",
    "    plt.scatter(x_test_np[:,1], Var_to_nparray(output_test), label=\"test data prediction\");\n",
    "    plt.scatter(x_test_np[:,1], y_test_np, label=\"test data\");\n",
    "    plt.legend();\n",
    "    plt.xlabel(\"x\");\n",
    "    plt.ylabel(\"y\");"
   ],
   "outputs": [
    {
     "output_type": "display_data",
     "data": {
      "image/png": "[encoded data removed]",
      "text/plain": [
       "<Figure size 432x288 with 1 Axes>"
      ]
     },
     "metadata": {
      "needs_background": "light"
     }
    }
   ],
   "metadata": {}
  },
  {
   "cell_type": "markdown",
   "source": [
    "# Next steps - classification\n",
    "\n",
    "It is straight forward to extend what we have done to classification. \n",
    "\n",
    "For numerical stability it is better to make softmax and cross-entropy as one function so we write the cross entropy loss as a function of the logits we talked about last week. \n",
    "\n",
    "Next week we will see how to perform classification in PyTorch."
   ],
   "metadata": {
    "id": "fYPZP-eTFtIo"
   }
  },
  {
   "cell_type": "markdown",
   "source": [
    "## Exercise l) optional - Implement backpropagation for classification\n",
    "\n",
    "Should be possible with very few lines of code. :-)"
   ],
   "metadata": {
    "id": "qsVPul3QFtIo"
   }
  },
  {
   "cell_type": "code",
   "execution_count": 556,
   "source": [
    "# Just add code."
   ],
   "outputs": [],
   "metadata": {
    "collapsed": true,
    "id": "oC8QrI2tFtIp"
   }
  },
  {
   "cell_type": "markdown",
   "source": [
    "## Exercise m) optional - Introduce a NeuralNetwork class\n",
    "\n",
    "The functions we applied on the neural network (parameters, update_parameters and zero_gradients) can more naturally be included as methods in a NeuralNetwork class. Make such a class and modify the code to use it. "
   ],
   "metadata": {
    "id": "APqhJv3tta1O"
   }
  },
  {
   "cell_type": "code",
   "execution_count": 557,
   "source": [
    "# just add some code"
   ],
   "outputs": [],
   "metadata": {
    "id": "Dqfnor1ouMLq"
   }
  }
 ],
 "metadata": {
  "anaconda-cloud": {},
  "colab": {
   "name": "2.1-EXE-FNN-AutoDif-Nanograd.ipynb",
   "provenance": []
  },
  "interpreter": {
   "hash": "4acbb11307f03535684dada336af46241cf84593a86248f462e392a34afd1e28"
  },
  "kernelspec": {
   "name": "python3",
   "display_name": "Python 3.8.11 64-bit ('base': conda)"
  },
  "language_info": {
   "codemirror_mode": {
    "name": "ipython",
    "version": 3
   },
   "file_extension": ".py",
   "mimetype": "text/x-python",
   "name": "python",
   "nbconvert_exporter": "python",
   "pygments_lexer": "ipython3",
   "version": "3.8.11"
  }
 },
 "nbformat": 4,
 "nbformat_minor": 2
}