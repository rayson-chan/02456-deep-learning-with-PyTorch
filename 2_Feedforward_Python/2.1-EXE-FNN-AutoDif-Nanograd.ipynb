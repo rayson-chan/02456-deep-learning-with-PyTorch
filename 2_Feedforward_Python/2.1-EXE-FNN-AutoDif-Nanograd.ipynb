{
 "cells": [
  {
   "cell_type": "markdown",
   "source": [
    "# Contents and why we need this lab\n",
    "\n",
    "This lab is about implementing neural networks yourself before we start using other frameworks which hide some of the computation from you. It builds on the first lab where you derived the equations for neural network forward and backward propagation and gradient descent parameter updates. \n",
    "\n",
    "All the frameworks for deep learning you will meet from now on uses automatic differentiation (autodiff) so you don't have to code the backward step yourself. In this version of this lab you will develop your own autodif implementation. We also have a [version](https://github.com/DeepLearningDTU/02456-deep-learning-with-PyTorch/blob/master/2_Feedforward_NumPy/2.1-FNN-NumPy.ipynb) of this lab where you have to code the backward pass explicitly in Numpy."
   ],
   "metadata": {
    "id": "HAva8TnYFtFu"
   }
  },
  {
   "cell_type": "markdown",
   "source": [
    "# External sources of information\n",
    "\n",
    "1. Jupyter notebook. You can find more information about Jupyter notebooks [here](https://jupyter.org/). It will come as part of the [Anaconda](https://www.anaconda.com/) Python installation. \n",
    "2. [NumPy](https://numpy.org/). Part of Anaconda distribution. If you already know how to program most things about Python and NumPy can be found through Google search.\n",
    "3. [Nanograd](https://github.com/rasmusbergpalm/nanograd) is a minimalistic version of autodiff developed by Rasmus Berg Palm that we use for our framework.\n"
   ],
   "metadata": {
    "id": "sCa7HzwpFtFy"
   }
  },
  {
   "cell_type": "markdown",
   "source": [
    "# This notebook will follow the next steps:\n",
    "\n",
    "1. Nanograd automatic differentiation framework\n",
    "2. Finite difference method\n",
    "3. Data generation\n",
    "4. Defining and initializing the network\n",
    "5. Forward pass\n",
    "6. Training loop \n",
    "7. Testing your model\n",
    "8. Further extensions"
   ],
   "metadata": {
    "id": "1SjiIp-TFtF0"
   }
  },
  {
   "cell_type": "markdown",
   "source": [
    "# Nanograd automatic differention framework"
   ],
   "metadata": {
    "id": "OyXeAA-HuT7s"
   }
  },
  {
   "cell_type": "markdown",
   "source": [
    "The [Nanograd](https://github.com/rasmusbergpalm/nanograd) framework defines a class Var which both holds a value and gradient value that we can use to store the intermediate values when we apply the chain rule of differentiation."
   ],
   "metadata": {
    "id": "k6UWKCLKubgA"
   }
  },
  {
   "cell_type": "code",
   "execution_count": 457,
   "source": [
    "# Copy and pasted from https://github.com/rasmusbergpalm/nanograd/blob/main/nanograd.py\n",
    "\n",
    "from math import exp, sqrt, log, tanh\n",
    "\n",
    "\n",
    "class Var:\n",
    "    \"\"\"\n",
    "    A variable which holds a float and enables gradient computations.\n",
    "    \"\"\"\n",
    "\n",
    "    def __init__(self, val: float, grad_fn=lambda: []):\n",
    "        assert type(val) == float\n",
    "        self.v = val\n",
    "        self.grad_fn = grad_fn\n",
    "        self.grad = 0.0\n",
    "\n",
    "    def backprop(self, bp):\n",
    "        self.grad += bp\n",
    "        for input, grad in self.grad_fn():\n",
    "            input.backprop(grad * bp)\n",
    "\n",
    "    def backward(self):\n",
    "        self.backprop(1.0)\n",
    "\n",
    "    def __add__(self: 'Var', other: 'Var') -> 'Var':\n",
    "        return Var(self.v + other.v, lambda: [(self, 1.0), (other, 1.0)])\n",
    "\n",
    "    def __mul__(self: 'Var', other: 'Var') -> 'Var':\n",
    "        return Var(self.v * other.v, lambda: [(self, other.v), (other, self.v)])\n",
    "\n",
    "    def __pow__(self, power):\n",
    "        assert type(power) in {float, int}, \"power must be float or int\"\n",
    "        return Var(self.v ** power, lambda: [(self, power * self.v ** (power - 1))])\n",
    "\n",
    "    def __neg__(self: 'Var') -> 'Var':\n",
    "        return Var(-1.0) * self\n",
    "\n",
    "    def __sub__(self: 'Var', other: 'Var') -> 'Var':\n",
    "        return self + (-other)\n",
    "\n",
    "    def __truediv__(self: 'Var', other: 'Var') -> 'Var':\n",
    "        return self * other ** -1\n",
    "\n",
    "    def __repr__(self):\n",
    "        return \"Var(v=%.4f, grad=%.4f)\" % (self.v, self.grad)\n",
    "\n",
    "    def relu(self):\n",
    "        return Var(self.v if self.v > 0.0 else 0.0, lambda: [(self, 1.0 if self.v > 0.0 else 0.0)])\n",
    "\n",
    "    def identity(self):\n",
    "        return self\n",
    "\n",
    "    def sigmoid(self):\n",
    "        s = 1/(1.0 + exp(-self.v))\n",
    "        return Var(s, lambda: [(self, s * (1 - s))])\n",
    "\n",
    "    def tanh(self):\n",
    "        t = tanh(self.v)\n",
    "        return Var(t, lambda: [(self, 1 - t ^ 2)])\n",
    "\n",
    "    def exp(self):\n",
    "        return Var(exp(self.v), lambda: [(self, exp(self.v))])\n",
    "\n",
    "    def log(self):\n",
    "        return Var(log(self.v), lambda: [(self, self.v ** -1)])\n"
   ],
   "outputs": [],
   "metadata": {
    "id": "Jd4CoEBNzNWS"
   }
  },
  {
   "cell_type": "markdown",
   "source": [
    "A few examples illustrate how we can use this:"
   ],
   "metadata": {
    "id": "yDX67D6jzcte"
   }
  },
  {
   "cell_type": "code",
   "execution_count": 458,
   "source": [
    "a = Var(3.0)\n",
    "b = Var(5.0)\n",
    "f = a * b\n",
    "\n",
    "f.backward()\n",
    "\n",
    "for v in [a, b, f]:\n",
    "    print(v)"
   ],
   "outputs": [
    {
     "output_type": "stream",
     "name": "stdout",
     "text": [
      "Var(v=3.0000, grad=5.0000)\n",
      "Var(v=5.0000, grad=3.0000)\n",
      "Var(v=15.0000, grad=1.0000)\n"
     ]
    }
   ],
   "metadata": {
    "colab": {
     "base_uri": "https://localhost:8080/"
    },
    "id": "xk6PeLc3zwPT",
    "outputId": "1e8c6d68-749a-44c3-8fce-0029dcc3215b"
   }
  },
  {
   "cell_type": "code",
   "execution_count": 459,
   "source": [
    "a = Var(3.0)\n",
    "b = Var(5.0)\n",
    "c = a * b\n",
    "d = Var(9.0)\n",
    "e = a * d\n",
    "f = c + e\n",
    "\n",
    "f.backward()\n",
    "\n",
    "for v in [a, b, c, d, e, f]:\n",
    "    print(v)\n"
   ],
   "outputs": [
    {
     "output_type": "stream",
     "name": "stdout",
     "text": [
      "Var(v=3.0000, grad=14.0000)\n",
      "Var(v=5.0000, grad=3.0000)\n",
      "Var(v=15.0000, grad=1.0000)\n",
      "Var(v=9.0000, grad=3.0000)\n",
      "Var(v=27.0000, grad=1.0000)\n",
      "Var(v=42.0000, grad=1.0000)\n"
     ]
    }
   ],
   "metadata": {
    "colab": {
     "base_uri": "https://localhost:8080/"
    },
    "id": "JmKhYgsY0g_o",
    "outputId": "d86771b7-4166-40a5-8b35-8a46a5d7b1e9"
   }
  },
  {
   "cell_type": "markdown",
   "source": [
    "## Exercise a) What is being calculated?\n",
    "\n",
    "Explain briefly the output of the code? What is the expression we differentiate and with respect to what variables?\n",
    "\n",
    "Answer:\n",
    "The Vars in the output are the partial derivatives of function f wrt. $a=3$, $b=5$ ,$d=9$ and also the intermediate values $c$ and $e$. The function is expressed like:\n",
    "$$\n",
    "\\begin{align}\n",
    "f(c,e) &= c + e \\\\\n",
    "c(a,b) &= ab \\\\\n",
    "e(a,d) &= ad \n",
    "\\end{align} \n",
    "$$\n",
    "and function f can be reduced to:\n",
    "$$\n",
    "f(a,b,d) = ab + ad\n",
    "$$\n",
    "thus, the partial derivatives are:\n",
    "$$\n",
    "\\begin{align}\n",
    "\\left.\\frac{\\partial f}{\\partial a}\\right|_{(a, b, d)=(3, 5, 9)} &= b+d=14 \\\\\n",
    "\\left.\\frac{\\partial f}{\\partial b}\\right|_{(a, b, d)=(3, 5, 9)} &= a = 3 \\\\\n",
    "\\left.\\frac{\\partial f}{\\partial d}\\right|_{(a, b, d)=(3, 5, 9)} &= a = 3 \\\\\n",
    "\\frac{\\partial f}{\\partial c}&=\\frac{\\partial f}{\\partial e}=1 \\ ,\n",
    "\\end{align}\n",
    "$$\n",
    "which match the output."
   ],
   "metadata": {
    "id": "Fe3B6uEH140p"
   }
  },
  {
   "cell_type": "markdown",
   "source": [
    "#### Exercise b) How does the backward function work?\n",
    "\n",
    "For the first example above, make a schematic of the data structure which is generated when we define the expression for f. Then execture the backward function by hand to convince yourself that it indeed calculates the gradients with respect to the variables. Write down the sequence of calls to backprop for the first example above.\n",
    "  \n",
    "**Answer**:   \n",
    "In the first example, at the beginning we define $a = Var(3.0, 0.0)$ and $b = Var(5.0, 0.0)$. When we multiple $a$ with $b$, we assign $f=Var(15.0,\\ [(a,\\ 5.0),\\ (b, 3.0)])$. Then the $f.backward()$ calls $f.backprop(1.0)$, where it iterates in $[(a,\\ 5.0),\\ (b, 3.0)]$ and calls $a.backprop(5.0 * 1.0)$ and $b.backprop(3.0 * 1.0)$. And that eventually updates $grad$ of $a$ and $b$ to $5.0$ and $3.0$ respectively."
   ],
   "metadata": {
    "id": "q8_Q0t2I3Ruj"
   },
   "attachments": {}
  },
  {
   "cell_type": "markdown",
   "source": [
    "![Screenshot%20from%202021-09-13%2015-35-31.png](attachment:Screenshot%20from%202021-09-13%2015-35-31.png)"
   ],
   "metadata": {},
   "attachments": {
    "Screenshot%20from%202021-09-13%2015-35-31.png": {
     "image/png": "[encoded data removed]"
    }
   }
  },
  {
   "cell_type": "markdown",
   "source": [
    "## Exercise c) What happens if we run backward again?\n",
    "\n",
    "Try to execute the code below. Explain what happens.\n",
    "\n",
    "**Answer:**  \n",
    "As we run the $f.backward()$ for a second time, the gradient of each variable is doubled. Because at that moment $f.bp = 1.0$ not the original $0$ and for all variable their $grad$ is added a second time, which makes their $grad$ doubled."
   ],
   "metadata": {
    "id": "A5oi21W4gpeM"
   }
  },
  {
   "cell_type": "code",
   "execution_count": 460,
   "source": [
    "f.backward()\n",
    "for v in [a, b, c, d, e, f]:\n",
    "    print(v)"
   ],
   "outputs": [
    {
     "output_type": "stream",
     "name": "stdout",
     "text": [
      "Var(v=3.0000, grad=28.0000)\n",
      "Var(v=5.0000, grad=6.0000)\n",
      "Var(v=15.0000, grad=2.0000)\n",
      "Var(v=9.0000, grad=6.0000)\n",
      "Var(v=27.0000, grad=2.0000)\n",
      "Var(v=42.0000, grad=2.0000)\n"
     ]
    }
   ],
   "metadata": {
    "colab": {
     "base_uri": "https://localhost:8080/"
    },
    "id": "DCtpJyr-gyX1",
    "outputId": "86d38af1-1c6e-487b-f4e6-bf29f0bb105e"
   }
  },
  {
   "cell_type": "markdown",
   "source": [
    "## Exercise d) Zero gradient\n",
    "\n",
    "We can zero the gradient by backpropagating a -1.0 as is shown in the example below. (If you have run backward multiple time then you also have to run the cell below an equal amount of times.) Explain what is going on.  \n",
    "**Answer:**  \n",
    "1) When we execute $f.backprop(-1.0)$, then each variable will subtract its $grad$ value with the $grad$ it should have, fixed back to normal.  \n",
    "2) But since at Line 1 of code below one resigned $a$, which turns $a.grad$ to zero, after the backprop it won't change while the product of zero is always zero. And a new $a=2.0$ doesn't affect the $grad$ of others variable because the previous $a$ value is already recorded in $grad_fn$ of others."
   ],
   "metadata": {
    "id": "e8bPVq2VhsP-"
   }
  },
  {
   "cell_type": "code",
   "execution_count": 461,
   "source": [
    "a = Var(2.0)\n",
    "\n",
    "for v in [a, b, c, d, e, f]:\n",
    "    print(v)\n",
    "\n",
    "f.backprop(-1.0)\n",
    "\n",
    "for v in [a, b, c, d, e, f]:\n",
    "    print(v)"
   ],
   "outputs": [
    {
     "output_type": "stream",
     "name": "stdout",
     "text": [
      "Var(v=2.0000, grad=0.0000)\n",
      "Var(v=5.0000, grad=6.0000)\n",
      "Var(v=15.0000, grad=2.0000)\n",
      "Var(v=9.0000, grad=6.0000)\n",
      "Var(v=27.0000, grad=2.0000)\n",
      "Var(v=42.0000, grad=2.0000)\n",
      "Var(v=2.0000, grad=0.0000)\n",
      "Var(v=5.0000, grad=3.0000)\n",
      "Var(v=15.0000, grad=1.0000)\n",
      "Var(v=9.0000, grad=3.0000)\n",
      "Var(v=27.0000, grad=1.0000)\n",
      "Var(v=42.0000, grad=1.0000)\n"
     ]
    }
   ],
   "metadata": {
    "colab": {
     "base_uri": "https://localhost:8080/"
    },
    "id": "OnyPDQx9lJe0",
    "outputId": "0b86a0c1-3dc7-4f72-e661-649fa7b53c3a"
   }
  },
  {
   "cell_type": "markdown",
   "source": [
    "## Exercise e) Test correctness of derivatives with the finite difference method\n",
    "\n",
    "Write a small function that uses [the finite difference method](https://en.wikipedia.org/wiki/Finite_difference_method) to numerically test that backpropation implementation is working. In short we will use\n",
    "$$\n",
    "\\frac{\\partial f(a)}{\\partial a} \\approx \\frac{f(a+da)-f(a)}{da}\n",
    "$$\n",
    "for $da \\ll 1$.\n",
    "\n",
    "\n",
    "_Insert your code in the cell below._\n"
   ],
   "metadata": {
    "id": "U4057_ljNvWB"
   }
  },
  {
   "cell_type": "code",
   "execution_count": 462,
   "source": [
    "# test function - try to change into other functions as well\n",
    "def test_function(a):\n",
    "    a = Var(a)\n",
    "    b = Var(5.0)\n",
    "    f = a * b\n",
    "    f.backward()\n",
    "    return a, b, f\n",
    "\n",
    "\n",
    "for v in test_function(3.0):\n",
    "    print(v)\n",
    "\n",
    "# Insert your finite difference code here\n",
    "\n",
    "\n",
    "def finite_difference(a, da=1e-10):\n",
    "    \"\"\"\n",
    "    This function compute the finite difference between\n",
    "\n",
    "    Input:\n",
    "    da:          The finite difference                           (float)\n",
    "\n",
    "    Output:\n",
    "    finite_difference: numerical approximation to the derivative (float) \n",
    "    \"\"\"\n",
    "\n",
    "    _, _, fa_da = test_function(a + da)\n",
    "    _, _, fa = test_function(a)\n",
    "    fa_da = fa_da.v       # <- Insert correct expression\n",
    "    fa = fa.v            # <- Insert correct expression\n",
    "\n",
    "    finite_difference = (fa_da - fa) / da\n",
    "\n",
    "    return finite_difference\n",
    "\n",
    "\n",
    "print(finite_difference(3.0))\n"
   ],
   "outputs": [
    {
     "output_type": "stream",
     "name": "stdout",
     "text": [
      "Var(v=3.0000, grad=5.0000)\n",
      "Var(v=5.0000, grad=3.0000)\n",
      "Var(v=15.0000, grad=1.0000)\n",
      "5.000000413701855\n"
     ]
    }
   ],
   "metadata": {
    "colab": {
     "base_uri": "https://localhost:8080/"
    },
    "id": "9TGil92lSXDN",
    "outputId": "4993ad11-b380-487c-bcf2-c29a12ef60e1"
   }
  },
  {
   "cell_type": "markdown",
   "source": [
    "# Create an artificial dataset to play with\n",
    "\n",
    "We create a non-linear 1d regression task. The generator supports various noise levels and it creates train, validation and test sets. You can modify it yourself if you want more or less challenging tasks."
   ],
   "metadata": {
    "id": "6pZar5RKaUkg"
   }
  },
  {
   "cell_type": "code",
   "execution_count": 463,
   "source": [
    "import numpy as np\n",
    "import matplotlib.pyplot as plt\n",
    "\n",
    "np.random.seed(42)"
   ],
   "outputs": [],
   "metadata": {
    "collapsed": true,
    "id": "Y6yfMAQ8aduj"
   }
  },
  {
   "cell_type": "code",
   "execution_count": 464,
   "source": [
    "def data_generator(noise=0.1, n_samples=300, D1=True):\n",
    "    # Create covariates and response variable\n",
    "    if D1:\n",
    "        X = np.linspace(-3, 3, num=n_samples).reshape(-1,1) # 1-D\n",
    "        np.random.shuffle(X)\n",
    "        y = np.random.normal((0.5*np.sin(X[:,0]*3) + X[:,0]), noise) # 1-D with trend\n",
    "    else:\n",
    "        X = np.random.multivariate_normal(np.zeros(3), noise*np.eye(3), size = n_samples) # 3-D\n",
    "        np.random.shuffle(X)    \n",
    "        y = np.sin(X[:,0]) - 5*(X[:,1]**2) + 0.5*X[:,2] # 3-D\n",
    "\n",
    "    # Stack them together vertically to split data set\n",
    "    data_set = np.vstack((X.T,y)).T\n",
    "    \n",
    "    train, validation, test = np.split(data_set, [int(0.35*n_samples), int(0.7*n_samples)], axis=0)\n",
    "    \n",
    "    # Standardization of the data, remember we do the standardization with the training set mean and standard deviation\n",
    "    train_mu = np.mean(train, axis=0)\n",
    "    train_sigma = np.std(train, axis=0)\n",
    "    \n",
    "    train = (train-train_mu)/train_sigma\n",
    "    validation = (validation-train_mu)/train_sigma\n",
    "    test = (test-train_mu)/train_sigma\n",
    "    \n",
    "    x_train, x_validation, x_test = train[:,:-1], validation[:,:-1], test[:,:-1]\n",
    "    y_train, y_validation, y_test = train[:,-1], validation[:,-1], test[:,-1]\n",
    "\n",
    "    return x_train, y_train,  x_validation, y_validation, x_test, y_test"
   ],
   "outputs": [],
   "metadata": {}
  },
  {
   "cell_type": "code",
   "execution_count": 465,
   "source": [
    "D1 = True\n",
    "x_train, y_train,  x_validation, y_validation, x_test, y_test = data_generator(noise=0.5, D1=D1)"
   ],
   "outputs": [],
   "metadata": {
    "collapsed": true,
    "id": "u1oDngHLapIz"
   }
  },
  {
   "cell_type": "code",
   "execution_count": 466,
   "source": [
    "if D1:\n",
    "    plt.scatter(x_train[:,0], y_train);\n",
    "    plt.scatter(x_validation[:,0], y_validation);\n",
    "    plt.scatter(x_test[:,0], y_test);\n",
    "else:\n",
    "    plt.scatter(x_train[:,1], y_train);\n",
    "    plt.scatter(x_validation[:,1], y_validation);\n",
    "    plt.scatter(x_test[:,1], y_test);\n",
    "plt.show()"
   ],
   "outputs": [
    {
     "output_type": "display_data",
     "data": {
      "image/png": "[encoded data removed]",
      "text/plain": [
       "<Figure size 432x288 with 1 Axes>"
      ]
     },
     "metadata": {
      "needs_background": "light"
     }
    }
   ],
   "metadata": {
    "colab": {
     "base_uri": "https://localhost:8080/",
     "height": 265
    },
    "id": "Ysfa3FsBavlm",
    "outputId": "26d5d03c-6c26-47ce-cbab-676c99c30b73"
   }
  },
  {
   "cell_type": "code",
   "execution_count": 467,
   "source": [
    "# convert from nparray to Var\n",
    "def nparray_to_Var(x):\n",
    "  if x.ndim==1:\n",
    "    y = [[Var(float(x[i]))] for i in range(x.shape[0])] # always work with list of list\n",
    "  else:\n",
    "    y = [[Var(float(x[i,j])) for j in range(x.shape[1])] for i in range(x.shape[0])]\n",
    "  return y\n",
    "   \n",
    "x_train = nparray_to_Var(x_train)\n",
    "y_train = nparray_to_Var(y_train)\n",
    "x_validation = nparray_to_Var(x_validation)\n",
    "y_validation = nparray_to_Var(y_validation)\n",
    "x_test = nparray_to_Var(x_test)\n",
    "y_test = nparray_to_Var(y_test)\n"
   ],
   "outputs": [],
   "metadata": {
    "id": "zac2HHNlgbpm"
   }
  },
  {
   "cell_type": "markdown",
   "source": [
    "# Defining and initializing the network\n",
    "\n",
    "The steps to create a feed forward neural network are the following:\n",
    "\n",
    "1. **Number of hidden layer and hidden units**. We have to define the number of hidden units in each layer. The number of features in X and the output dimensionality (the size of Y) are given but the numbers in between are set by the researcher. Remember that for each unit in each layer beside in the input has a bias term.\n",
    "2. **Activation functions** for each hidden layer. Each hidden layer in your list must have an activation function (it can also be the linear activation which is equivalent to identity function). The power of neural networks comes from non-linear activation functions that learn representations (features) from the data allowing us to learn from it. \n",
    "3. **Parameter initialization**. We will initialize the weights to have random values. This is done in practice by drawing pseudo random numbers from a Gaussian or uniform distribution. It turns out that for deeper models we have to be careful about how we scale the random numbers. This will be the topic of the exercise below. For now we will just use unit variance Gaussians.  \n",
    "\n",
    "In order to make life easier for ourselves we define a DenseLayer class that takes care of initialization and the forward pass. We can also extend it later with print and advanced initialization capabilities. For the latter we have introduced a Initializer class.\n",
    "\n",
    "Note that we use Sequence in the code below. A Sequence is an ordered list. This means the order we insert and access items are the same."
   ],
   "metadata": {
    "id": "VbjrqcpVFtGe"
   }
  },
  {
   "cell_type": "code",
   "execution_count": 468,
   "source": [
    "class Initializer:\n",
    "\n",
    "  def init_weights(self, n_in, n_out):\n",
    "    raise NotImplementedError\n",
    "\n",
    "  def init_bias(self, n_out):\n",
    "    raise NotImplementedError"
   ],
   "outputs": [],
   "metadata": {
    "id": "ij_ieRsAt7Xt"
   }
  },
  {
   "cell_type": "code",
   "execution_count": 469,
   "source": [
    "import random\n",
    "\n",
    "class NormalInitializer(Initializer):\n",
    "\n",
    "  def __init__(self, mean=0, std=0.1):\n",
    "    self.mean = mean\n",
    "    self.std = std\n",
    "\n",
    "  def init_weights(self, n_in, n_out):\n",
    "    return [[Var(random.gauss(self.mean, self.std)) for _ in range(n_out)] for _ in range(n_in)]\n",
    "\n",
    "  def init_bias(self, n_out):\n",
    "    return [Var(0.0) for _ in range(n_out)]\n",
    "\n",
    "class ConstantInitializer(Initializer):\n",
    "\n",
    "  def __init__(self, weight=1.0, bias=0.0):\n",
    "    self.weight = weight\n",
    "    self.bias = bias\n",
    "\n",
    "  def init_weights(self, n_in, n_out):\n",
    "    return [[Var(self.weight) for _ in range(n_out)] for _ in range(n_in)]\n",
    "\n",
    "  def init_bias(self, n_out):\n",
    "    return [Var(self.bias) for _ in range(n_out)]"
   ],
   "outputs": [],
   "metadata": {
    "id": "eb18N5phuIha"
   }
  },
  {
   "cell_type": "markdown",
   "source": [
    "## Exercise f) Complete the forward pass\n",
    "\n",
    "In the code below we initialize a 1-5-1 network and pass the training set through it. The forward method in DenseLayer is not complete. It  just outputs zeros right now. The method forward should perform an [affine transformation](https://en.wikipedia.org/wiki/Affine_transformation) on the input followed by an application of the activation function."
   ],
   "metadata": {
    "id": "p_8n_SKnIW2F"
   }
  },
  {
   "cell_type": "code",
   "execution_count": 470,
   "source": [
    "from typing import Sequence\n",
    "\n",
    "class DenseLayer:\n",
    "    def __init__(self, n_in: int, n_out: int, act_fn, initializer = NormalInitializer()):\n",
    "        self.weights = initializer.init_weights(n_in, n_out)\n",
    "        self.bias = initializer.init_bias(n_out)\n",
    "        self.act_fn = act_fn\n",
    "    \n",
    "    def __repr__(self):    \n",
    "        return 'Weights: ' + repr(self.weights) + '\\nBiases: ' + repr(self.bias)\n",
    "\n",
    "    def parameters(self) -> Sequence[Var]:\n",
    "      params = []\n",
    "      for r in self.weights:\n",
    "        params += r\n",
    "\n",
    "      return params + self.bias\n",
    "\n",
    "    def forward(self, inputs: Sequence[Var]) -> Sequence[Var]:\n",
    "        assert len(self.weights) == len(inputs), \"weights and inputs must match in first dimension\"\n",
    "        weights = self.weights\n",
    "        out = []\n",
    "        for j in range(len(weights[0])):\n",
    "            node = self.bias[j] # <- Insert code\n",
    "            for i in range(len(inputs)):\n",
    "                node += self.weights[i][j] * inputs[i]  # <- Insert code\n",
    "            node = self.act_fn(node)\n",
    "            out.append(node)\n",
    "\n",
    "        return out"
   ],
   "outputs": [],
   "metadata": {}
  },
  {
   "cell_type": "code",
   "execution_count": 471,
   "source": [
    "NN = [\n",
    "    DenseLayer(1, 5, lambda x: x.relu()),\n",
    "    DenseLayer(5, 1, lambda x: x.identity())\n",
    "]\n",
    "\n",
    "def forward(input, network):\n",
    "\n",
    "  def forward_single(x, network):\n",
    "    for layer in network:\n",
    "        x = layer.forward(x)\n",
    "    return x\n",
    "\n",
    "  output = [ forward_single(input[n], network) for n in range(len(input))]\n",
    "  return output\n",
    "\n",
    "print(forward(x_train, NN))\n"
   ],
   "outputs": [
    {
     "output_type": "stream",
     "name": "stdout",
     "text": [
      "[[Var(v=-0.0054, grad=0.0000)], [Var(v=-0.0109, grad=0.0000)], [Var(v=-0.0010, grad=0.0000)], [Var(v=-0.0120, grad=0.0000)], [Var(v=-0.0080, grad=0.0000)], [Var(v=-0.0074, grad=0.0000)], [Var(v=-0.0048, grad=0.0000)], [Var(v=-0.0029, grad=0.0000)], [Var(v=-0.0124, grad=0.0000)], [Var(v=-0.0030, grad=0.0000)], [Var(v=-0.0084, grad=0.0000)], [Var(v=-0.0076, grad=0.0000)], [Var(v=-0.0067, grad=0.0000)], [Var(v=-0.0087, grad=0.0000)], [Var(v=-0.0036, grad=0.0000)], [Var(v=-0.0070, grad=0.0000)], [Var(v=-0.0129, grad=0.0000)], [Var(v=-0.0061, grad=0.0000)], [Var(v=-0.0006, grad=0.0000)], [Var(v=-0.0021, grad=0.0000)], [Var(v=-0.0057, grad=0.0000)], [Var(v=-0.0025, grad=0.0000)], [Var(v=-0.0094, grad=0.0000)], [Var(v=-0.0095, grad=0.0000)], [Var(v=-0.0033, grad=0.0000)], [Var(v=-0.0090, grad=0.0000)], [Var(v=-0.0122, grad=0.0000)], [Var(v=-0.0134, grad=0.0000)], [Var(v=-0.0014, grad=0.0000)], [Var(v=-0.0085, grad=0.0000)], [Var(v=-0.0113, grad=0.0000)], [Var(v=-0.0020, grad=0.0000)], [Var(v=-0.0098, grad=0.0000)], [Var(v=-0.0107, grad=0.0000)], [Var(v=-0.0065, grad=0.0000)], [Var(v=-0.0020, grad=0.0000)], [Var(v=-0.0122, grad=0.0000)], [Var(v=-0.0046, grad=0.0000)], [Var(v=-0.0086, grad=0.0000)], [Var(v=-0.0062, grad=0.0000)], [Var(v=-0.0044, grad=0.0000)], [Var(v=-0.0059, grad=0.0000)], [Var(v=-0.0126, grad=0.0000)], [Var(v=-0.0074, grad=0.0000)], [Var(v=-0.0058, grad=0.0000)], [Var(v=-0.0071, grad=0.0000)], [Var(v=-0.0081, grad=0.0000)], [Var(v=-0.0077, grad=0.0000)], [Var(v=-0.0027, grad=0.0000)], [Var(v=-0.0079, grad=0.0000)], [Var(v=-0.0034, grad=0.0000)], [Var(v=-0.0003, grad=0.0000)], [Var(v=-0.0085, grad=0.0000)], [Var(v=-0.0060, grad=0.0000)], [Var(v=-0.0136, grad=0.0000)], [Var(v=-0.0119, grad=0.0000)], [Var(v=-0.0040, grad=0.0000)], [Var(v=-0.0044, grad=0.0000)], [Var(v=-0.0045, grad=0.0000)], [Var(v=-0.0106, grad=0.0000)], [Var(v=-0.0079, grad=0.0000)], [Var(v=-0.0075, grad=0.0000)], [Var(v=-0.0123, grad=0.0000)], [Var(v=-0.0039, grad=0.0000)], [Var(v=-0.0028, grad=0.0000)], [Var(v=-0.0101, grad=0.0000)], [Var(v=-0.0108, grad=0.0000)], [Var(v=-0.0100, grad=0.0000)], [Var(v=-0.0077, grad=0.0000)], [Var(v=-0.0039, grad=0.0000)], [Var(v=-0.0030, grad=0.0000)], [Var(v=-0.0013, grad=0.0000)], [Var(v=-0.0078, grad=0.0000)], [Var(v=-0.0046, grad=0.0000)], [Var(v=-0.0011, grad=0.0000)], [Var(v=-0.0123, grad=0.0000)], [Var(v=-0.0054, grad=0.0000)], [Var(v=-0.0052, grad=0.0000)], [Var(v=-0.0068, grad=0.0000)], [Var(v=-0.0128, grad=0.0000)], [Var(v=-0.0019, grad=0.0000)], [Var(v=-0.0012, grad=0.0000)], [Var(v=-0.0111, grad=0.0000)], [Var(v=-0.0015, grad=0.0000)], [Var(v=-0.0056, grad=0.0000)], [Var(v=-0.0024, grad=0.0000)], [Var(v=-0.0021, grad=0.0000)], [Var(v=-0.0063, grad=0.0000)], [Var(v=-0.0115, grad=0.0000)], [Var(v=-0.0119, grad=0.0000)], [Var(v=-0.0046, grad=0.0000)], [Var(v=-0.0036, grad=0.0000)], [Var(v=-0.0066, grad=0.0000)], [Var(v=-0.0072, grad=0.0000)], [Var(v=-0.0095, grad=0.0000)], [Var(v=-0.0114, grad=0.0000)], [Var(v=-0.0033, grad=0.0000)], [Var(v=-0.0006, grad=0.0000)], [Var(v=-0.0116, grad=0.0000)], [Var(v=-0.0067, grad=0.0000)], [Var(v=-0.0076, grad=0.0000)], [Var(v=-0.0065, grad=0.0000)], [Var(v=-0.0100, grad=0.0000)], [Var(v=-0.0037, grad=0.0000)], [Var(v=-0.0108, grad=0.0000)]]\n"
     ]
    }
   ],
   "metadata": {
    "colab": {
     "base_uri": "https://localhost:8080/"
    },
    "id": "xDEjtePxE7Mv",
    "outputId": "271bcd73-43d6-4255-8ea0-6447b2a0ad8c"
   }
  },
  {
   "cell_type": "markdown",
   "source": [
    "## Exercise g) Print all network parameters\n",
    "\n",
    "Make a function that prints all the parameters of the network (weights and biases) with information about in which layer the appear. In the object oriented spirit you should introduce a method in the DenseLayer class to print the parameters of a layer. Hint: You can take inspiration from the corresponding method in Var. "
   ],
   "metadata": {
    "id": "oLrGJytZFtGm"
   }
  },
  {
   "cell_type": "code",
   "execution_count": 472,
   "source": [
    "# Insert code here and in the DenseLayer class\n",
    "def represent_para(network):\n",
    "\n",
    "    for i in range(len(network)):\n",
    "        print(\"Parameters in Layer {}:\".format(i + 1))\n",
    "        print(network[i],'\\n')\n",
    "        \n",
    "represent_para(NN)"
   ],
   "outputs": [
    {
     "output_type": "stream",
     "name": "stdout",
     "text": [
      "Parameters in Layer 1:\n",
      "Weights: [[Var(v=-0.1480, grad=0.0000), Var(v=0.0619, grad=0.0000), Var(v=-0.0128, grad=0.0000), Var(v=0.0120, grad=0.0000), Var(v=0.0556, grad=0.0000)]]\n",
      "Biases: [Var(v=0.0000, grad=0.0000), Var(v=0.0000, grad=0.0000), Var(v=0.0000, grad=0.0000), Var(v=0.0000, grad=0.0000), Var(v=0.0000, grad=0.0000)] \n",
      "\n",
      "Parameters in Layer 2:\n",
      "Weights: [[Var(v=-0.0410, grad=0.0000)], [Var(v=0.0216, grad=0.0000)], [Var(v=-0.1437, grad=0.0000)], [Var(v=-0.0251, grad=0.0000)], [Var(v=-0.1539, grad=0.0000)]]\n",
      "Biases: [Var(v=0.0000, grad=0.0000)] \n",
      "\n"
     ]
    }
   ],
   "metadata": {
    "collapsed": true,
    "id": "iac-VwYGFtGm"
   }
  },
  {
   "cell_type": "markdown",
   "source": [
    "# Activation functions\n",
    "\n",
    "To have a full definition of the neural network, we must define an activation function for every layer. Several activation functions have been proposed and have different characteristics. In the Var class we have already defined the rectified linear init (relu). \n",
    " "
   ],
   "metadata": {
    "id": "-u4xk_ORFtGz"
   }
  },
  {
   "cell_type": "markdown",
   "source": [
    "## Exercise h) Add more activation functions\n",
    "\n",
    "Implement the following activation functions in the Var class:\n",
    "\n",
    "* Identity: $$\\mathrm{identity}(x) = x$$\n",
    "* Hyperbolic tangent: $$\\tanh(x)$$\n",
    "* Sigmoid (or logistic function): $$\\mathrm{sigmoid}(x) = \\frac{1}{1.0 + \\exp(-x ) }$$  Hint: $\\mathrm{sigmoid}'(x)= \\mathrm{sigmoid}(x)(1-\\mathrm{sigmoid}(x))$.  \n",
    "\n",
    "Hint: You can seek inspiration in the relu method in the Var class."
   ],
   "metadata": {
    "id": "jpIZPBpNI0pO"
   }
  },
  {
   "cell_type": "markdown",
   "source": [
    "## Visualization\n",
    "\n",
    "Now that we have defined our activation functions we can visualize them to see what they look like:"
   ],
   "metadata": {
    "id": "_79HOAXrFtHK"
   }
  },
  {
   "cell_type": "code",
   "execution_count": 473,
   "source": [
    "x = np.linspace(-6, 6, 100)\n",
    "\n",
    "# convert from Var to ndarray  \n",
    "def Var_to_nparray(x):\n",
    "  y = np.zeros((len(x),len(x[0])))\n",
    "  for i in range(len(x)):\n",
    "    for j in range(len(x[0])):\n",
    "      y[i,j] = x[i][j].v\n",
    "  return y\n",
    "\n",
    "# define 1-1 network with weight = 1 and relu activation \n",
    "NN = [ DenseLayer(1, 1, lambda x: x.relu(), initializer = ConstantInitializer(1.0)) ] \n",
    "y = Var_to_nparray(forward(nparray_to_Var(x), NN))\n",
    "\n",
    "#y = Var_to_nparray(relu(nparray_to_Var(x)))\n",
    "plt.plot(x,y)"
   ],
   "outputs": [
    {
     "output_type": "execute_result",
     "data": {
      "text/plain": [
       "[<matplotlib.lines.Line2D at 0x7f5a8f29ba60>]"
      ]
     },
     "metadata": {},
     "execution_count": 473
    },
    {
     "output_type": "display_data",
     "data": {
      "image/png": "[encoded data removed]",
      "text/plain": [
       "<Figure size 432x288 with 1 Axes>"
      ]
     },
     "metadata": {
      "needs_background": "light"
     }
    }
   ],
   "metadata": {
    "colab": {
     "base_uri": "https://localhost:8080/",
     "height": 284
    },
    "id": "1FcylHqLTl-Z",
    "outputId": "c23c865b-3894-434c-f38a-f3cff5f772e5"
   }
  },
  {
   "cell_type": "code",
   "execution_count": 474,
   "source": [
    "# Testing all activation layers\n",
    "\n",
    "x = np.linspace(-6, 6, 100)\n",
    "units = {\n",
    "    \"identity\": lambda x: x.identity(),\n",
    "    \"sigmoid\": lambda x: x.sigmoid(),  #<- uncomment before sharing\n",
    "    \"relu\": lambda x: x.relu(),\n",
    "    \"tanh\": lambda x: x.tanh() #<- uncomment before sharing\n",
    "}\n",
    "\n",
    "plt.figure(figsize=(5, 5))\n",
    "[plt.plot(x, Var_to_nparray(forward(nparray_to_Var(x), [DenseLayer(1, 1, unit, initializer = ConstantInitializer(1.0))]) ), label=unit_name, lw=2) for unit_name, unit in units.items()] # unit(nparray_to_Var(x))), label=unit_name, lw=2) for unit_name, unit in units.items()]\n",
    "plt.legend(loc=2, fontsize=16)\n",
    "plt.title('Our activation functions', fontsize=20)\n",
    "plt.ylim([-2, 5])\n",
    "plt.xlim([-6, 6])\n",
    "plt.show()"
   ],
   "outputs": [
    {
     "output_type": "display_data",
     "data": {
      "image/png": "[encoded data removed]",
      "text/plain": [
       "<Figure size 360x360 with 1 Axes>"
      ]
     },
     "metadata": {
      "needs_background": "light"
     }
    }
   ],
   "metadata": {
    "colab": {
     "base_uri": "https://localhost:8080/",
     "height": 341
    },
    "id": "oOL2UolJFtHL",
    "outputId": "9d51d191-ca43-44a6-d5f6-d41a2bd0a80b"
   }
  },
  {
   "cell_type": "markdown",
   "source": [
    "# Advanced initialization schemes\n",
    "\n",
    "If we are not careful with initialization, the signals we propagate forward ($a^{(l)}$, $l=1,\\ldots,L$) and backward ($\\delta^l$, $l=L,L-1,\\ldots,1$) can blow up or shrink to zero. A statistical analysis of the variance of the signals for different activation functions can be found in these two papers: [Glorot initialization](http://proceedings.mlr.press/v9/glorot10a/glorot10a.pdf) and [He initialization](https://arxiv.org/pdf/1502.01852v1.pdf). \n",
    "\n",
    "The result of the analyses are proposals for how to make the initialization such that the variance of the signals (forward and backward) are kept approxmimatly constant when propagating from layer to layer. The exact expressions depend upon the non-linear activation function used. In Glorot initialization, the aim is to keep both the forward and backward variances constant whereas He only aims at keeping the variance in the forward pass constant.\n",
    "\n",
    "We define $n_{in}$ and $n_{out}$ as the number of input units and output units of a particular layer. \n",
    "\n",
    "The Glorot initialization has the form: \n",
    "\n",
    "$$w_{ij} \\sim N \\bigg( 0, \\, \\frac{2 \\alpha }{n_{in} + n_{out}} \\bigg) \\ . $$\n",
    "\n",
    "where $N(\\mu,\\sigma^2)$ is a Gaussian distribution with mean $\\mu$ and variance $\\sigma^2$ and $\\alpha$ is a parameter that depends upon the activation function used. For $\\tanh$, $\\alpha=1$ and for Rectified Linear Unit (ReLU) activations, $\\alpha=2$. (It is also possible to use a uniform distribution for initialization, see [this blog post](https://mmuratarat.github.io/2019-02-25/xavier-glorot-he-weight-init).) \n",
    "\n",
    "The He initialization is very similar\n",
    "\n",
    "$$w_{ij} \\sim N \\bigg( 0, \\, \\frac{\\alpha}{n_{in}} \\bigg) \\ . $$"
   ],
   "metadata": {
    "id": "b-jdEl-7FtGs"
   }
  },
  {
   "cell_type": "markdown",
   "source": [
    "## Exercise i) Glorot and He initialization\n",
    " \n",
    "Using the Initializer class, implement functions that implement Glorot and He \n",
    "\n",
    "Explain briefly how you would test numerically that these initializations have the sought after property. Hint: See plots in Glorot paper.\n",
    "\n",
    "Comment: If you want to be more advanced then try to make a universal initializer taking both the activation function and type (Glorot or He) as argument.\n",
    "  \n",
    "**Answer:**  \n",
    "To examine whether these initialization methods work properly, like in Glorot's paper, one can plot the statistics along with vertical histograms, showing the means and standard deviations of each hidden layer, at different times during training of a deep architecture with these two initializations respectively.  "
   ],
   "metadata": {
    "id": "mqeyab9qFtGs"
   }
  },
  {
   "cell_type": "code",
   "execution_count": 475,
   "source": [
    "## Glorot\n",
    "def DenseLayer_Glorot_tanh(n_in: int, n_out: int):\n",
    "  std = sqrt(2 / (n_in + n_out)) # <- replace with proper initialization\n",
    "  return DenseLayer(n_in, n_out, lambda x: x.tanh(), initializer = NormalInitializer(mean=0, std=std))\n",
    "\n",
    "## He\n",
    "def DenseLayer_He_relu(n_in: int, n_out: int):\n",
    "  std = sqrt(2 / n_in) # <- replace with proper initialization\n",
    "  return DenseLayer(n_in, n_out, lambda x: x.relu(), initializer = NormalInitializer(mean=0, std=std))"
   ],
   "outputs": [],
   "metadata": {
    "collapsed": true,
    "id": "Qyk01CgaFtGt"
   }
  },
  {
   "cell_type": "markdown",
   "source": [
    "## Exercise j) Forward pass unit test\n",
    "\n",
    "Write a bit of code to make a unit test that the forward pass works. This can be done by defining a simple network with for example all weights equal to one (using the ConstantInitializer method) and identity activation functions. \n",
    "\n",
    "Hints: Use the [assert](https://www.w3schools.com/python/ref_keyword_assert.asp), the nparray_to_Var and the Var_to_nparray commands. "
   ],
   "metadata": {
    "id": "-XyXBD37FtHk"
   }
  },
  {
   "cell_type": "code",
   "execution_count": 476,
   "source": [
    "# Insert code here\n",
    "\n",
    "# Define input\n",
    "x_unit_test = np.linspace(-1, 1, 5)\n",
    "# Define network\n",
    "NN_unit_test = [DenseLayer(1, 3, lambda x: x.identity(), initializer=ConstantInitializer(weight=1.0)), \\\n",
    "                DenseLayer(3, 1, lambda x: x.identity(), initializer=ConstantInitializer(weight=1.0))]\n",
    "\n",
    "# Forward pass unit test\n",
    "y_unit_test = Var_to_nparray(\n",
    "    forward(nparray_to_Var(x_unit_test), NN_unit_test))\n",
    "\n",
    "# print parameter and output in this 1-1 network\n",
    "print(\"Iutput in {} tests:\\n\".format(len(x_unit_test)), x_unit_test, '\\n')\n",
    "represent_para(NN_unit_test)\n",
    "print(\"Output in {} tests:\\n\".format(len(x_unit_test)), y_unit_test)\n"
   ],
   "outputs": [
    {
     "output_type": "stream",
     "name": "stdout",
     "text": [
      "Iutput in 5 tests:\n",
      " [-1.  -0.5  0.   0.5  1. ] \n",
      "\n",
      "Parameters in Layer 1:\n",
      "Weights: [[Var(v=1.0000, grad=0.0000), Var(v=1.0000, grad=0.0000), Var(v=1.0000, grad=0.0000)]]\n",
      "Biases: [Var(v=0.0000, grad=0.0000), Var(v=0.0000, grad=0.0000), Var(v=0.0000, grad=0.0000)] \n",
      "\n",
      "Parameters in Layer 2:\n",
      "Weights: [[Var(v=1.0000, grad=0.0000)], [Var(v=1.0000, grad=0.0000)], [Var(v=1.0000, grad=0.0000)]]\n",
      "Biases: [Var(v=0.0000, grad=0.0000)] \n",
      "\n",
      "Output in 5 tests:\n",
      " [[-3. ]\n",
      " [-1.5]\n",
      " [ 0. ]\n",
      " [ 1.5]\n",
      " [ 3. ]]\n"
     ]
    }
   ],
   "metadata": {
    "collapsed": true,
    "id": "k0miqRUAFtHl"
   }
  },
  {
   "cell_type": "markdown",
   "source": [
    "# Loss functions\n",
    "\n",
    "We are only missing a loss function to we need to define a loss function and its derivative with respect to the output of the neural network $y$"
   ],
   "metadata": {
    "id": "faCxhfFnFtHp"
   }
  },
  {
   "cell_type": "code",
   "execution_count": 477,
   "source": [
    "def squared_loss(t, y):\n",
    "  # add check that sizes agree\n",
    "  assert len(t) == len(y), \"training date and outputs must match in first dimension\"\n",
    "  \n",
    "  def squared_loss_single(t, y):\n",
    "    Loss = Var(0.0)\n",
    "    for i in range(len(t)): # sum over outputs\n",
    "      Loss += (t[i]-y[i]) ** 2\n",
    "    return Loss\n",
    "\n",
    "  Loss = Var(0.0)\n",
    "  for n in range(len(t)): # sum over training data\n",
    "    Loss += squared_loss_single(t[n],y[n])\n",
    "  return Loss"
   ],
   "outputs": [],
   "metadata": {
    "collapsed": true,
    "id": "I2eDYKvAFtHq"
   }
  },
  {
   "cell_type": "markdown",
   "source": [
    "## Exercise j) Implement cross entropy loss\n",
    "\n",
    "Insert code below to implement cross-entropy loss for general dimensionality of $t$. Use a logits formulation:\n",
    "$$\n",
    "\\rm{Loss} = - \\sum_i t_i \\, log \\, p_i \n",
    "$$\n",
    "with $p$ given by the the softmax function in terms of the logits $h$:\n",
    "$$\n",
    "p_i = \\frac{\\exp(h_i)}{\\sum_{i'} \\exp(h_{i'}) } .\n",
    "$$\n",
    "Inserting $p$ in the expression for the loss gives\n",
    "$$\n",
    "\\rm{Loss} = - \\sum_i t_i h_i + \\rm{LogSumExp}(h) \\ ,\n",
    "$$\n",
    "where \n",
    "$$\n",
    "\\rm{LogSumExp}(h) = \\log \\sum_i \\exp h_i \\ .\n",
    "$$\n",
    "This is true for $t$ being a one-hot vector. In practice you want to implement a [numerically stable](https://leimao.github.io/blog/LogSumExp/) version of LogSumExp. But we will not bother about that here.\n",
    "\n",
    "Help: You can add these methods in the Var class:\n",
    "\n",
    "    def exp(self):\n",
    "        return Var(exp(self.v), lambda: [(self, exp(self.v))])\n",
    "    \n",
    "    def log(self):\n",
    "        return Var(log(self.v), lambda: [(self, self.v ** -1)])"
   ],
   "metadata": {
    "id": "SrwSJ2UWFtHu"
   }
  },
  {
   "cell_type": "code",
   "execution_count": 478,
   "source": [
    "def cross_entropy_loss(t, y):\n",
    "  # check that sizes agree\n",
    "  assert len(t) == len(y), \"training date and outputs must match in first dimension\"\n",
    "  def log_sum_exp(h):\n",
    "    SumExp = 0\n",
    "    for i in range(h.shape[-1]):\n",
    "      SumExp += y[i].exp() \n",
    "    LogSumExp = SumExp.log()\n",
    "    return LogSumExp\n",
    "\n",
    "  Loss = Var(0.0)\n",
    "  for i in range(len(t)): \n",
    "    Loss -= t[i] * y[i]\n",
    "\n",
    "  Loss += log_sum_exp(y)\n",
    "  return Loss"
   ],
   "outputs": [],
   "metadata": {
    "collapsed": true,
    "id": "6nMuxyfzFtHv"
   }
  },
  {
   "cell_type": "markdown",
   "source": [
    "# Backward pass\n",
    "\n",
    "Now the magic happens! We get the calculation of the gradients for free. Just do:"
   ],
   "metadata": {
    "id": "8fAF5ew4FtHy"
   }
  },
  {
   "cell_type": "code",
   "execution_count": 479,
   "source": [
    "NN = [\n",
    "    DenseLayer(1, 5, lambda x: x.relu()),\n",
    "    DenseLayer(5, 1, lambda x: x.identity())\n",
    "]\n",
    "\n",
    "output = forward(x_train, NN)\n",
    "\n",
    "Loss = squared_loss(y_train,output)\n",
    "Loss.backward()"
   ],
   "outputs": [],
   "metadata": {
    "id": "iHyfPPI9Qqwu"
   }
  },
  {
   "cell_type": "markdown",
   "source": [
    "and the gradients will be calculated:"
   ],
   "metadata": {
    "id": "49biIAYKQ1oG"
   }
  },
  {
   "cell_type": "code",
   "execution_count": 480,
   "source": [
    "[print('Layer', i, '\\n', NN[i]) for i in range(len(NN))] "
   ],
   "outputs": [
    {
     "output_type": "stream",
     "name": "stdout",
     "text": [
      "Layer 0 \n",
      " Weights: [[Var(v=0.1178, grad=4.6820), Var(v=0.0617, grad=11.3079), Var(v=-0.1850, grad=6.7979), Var(v=0.2413, grad=7.7945), Var(v=0.0090, grad=14.1173)]]\n",
      "Biases: [Var(v=0.0000, grad=4.0194), Var(v=0.0000, grad=9.7076), Var(v=0.0000, grad=-6.1774), Var(v=0.0000, grad=6.6914), Var(v=0.0000, grad=12.1194)]\n",
      "Layer 1 \n",
      " Weights: [[Var(v=-0.0446, grad=-12.3677)], [Var(v=-0.1077, grad=-6.4772)], [Var(v=-0.0718, grad=17.5204)], [Var(v=-0.0742, grad=-25.3347)], [Var(v=-0.1344, grad=-0.9484)]]\n",
      "Biases: [Var(v=0.0000, grad=-4.1034)]\n"
     ]
    },
    {
     "output_type": "execute_result",
     "data": {
      "text/plain": [
       "[None, None]"
      ]
     },
     "metadata": {},
     "execution_count": 480
    }
   ],
   "metadata": {
    "colab": {
     "base_uri": "https://localhost:8080/"
    },
    "id": "_rGt1bq_Q7uk",
    "outputId": "8d283577-9bd1-496b-f4a8-764a9507a4bf"
   }
  },
  {
   "cell_type": "markdown",
   "source": [
    "# Backward pass unit test\n",
    "\n",
    "Above we used finite differences to test that Nanograd is actually doing what it is supposed to do. We can in principle try the same for the neural network. But we will trust that the test above is enough."
   ],
   "metadata": {
    "id": "D7d7qK0uFtH9"
   }
  },
  {
   "cell_type": "markdown",
   "source": [
    "# Training and validation\n",
    "\n",
    "We are ready to train some neural networks!\n",
    "\n",
    "We initialize again:"
   ],
   "metadata": {
    "id": "WgBi8GOSFtIN"
   }
  },
  {
   "cell_type": "code",
   "execution_count": 481,
   "source": [
    "NN = [\n",
    "    DenseLayer(1, 5, lambda x: x.relu()),\n",
    "    DenseLayer(5, 1, lambda x: x.identity())\n",
    "]\n",
    "\n",
    "output = forward(x_train, NN)\n",
    "\n",
    "Loss = squared_loss(y_train,output)\n",
    "Loss.backward()"
   ],
   "outputs": [],
   "metadata": {
    "id": "01ePmzBzRtdh"
   }
  },
  {
   "cell_type": "markdown",
   "source": [
    "and make an update:\n",
    "\n",
    "We introduce a help function parameters to have a handle in all parameters in the network."
   ],
   "metadata": {
    "id": "10iRPiQ1ISHw"
   }
  },
  {
   "cell_type": "code",
   "execution_count": 482,
   "source": [
    "print('Network before update:')\n",
    "[print('Layer', i, '\\n', NN[i]) for i in range(len(NN))] \n",
    "\n",
    "def parameters(network):\n",
    "  params = []\n",
    "  for layer in range(len(network)):\n",
    "    params += network[layer].parameters()\n",
    "  return params\n",
    "\n",
    "def update_parameters(params, learning_rate=0.01):\n",
    "  for p in params:\n",
    "    p.v -= learning_rate*p.grad\n",
    "\n",
    "def zero_gradients(params):\n",
    "  for p in params:\n",
    "    p.grad = 0.0\n",
    "\n",
    "update_parameters(parameters(NN))\n",
    "\n",
    "print('\\nNetwork after update:')\n",
    "[print('Layer', i, '\\n', NN[i]) for i in range(len(NN))] \n",
    "\n",
    "zero_gradients(parameters(NN))\n",
    "\n",
    "print('\\nNetwork after zeroing gradients:')\n",
    "[print('Layer', i, '\\n', NN[i]) for i in range(len(NN))] "
   ],
   "outputs": [
    {
     "output_type": "stream",
     "name": "stdout",
     "text": [
      "Network before update:\n",
      "Layer 0 \n",
      " Weights: [[Var(v=0.2186, grad=-2.4930), Var(v=-0.0396, grad=-8.6254), Var(v=-0.0318, grad=-14.2762), Var(v=-0.0714, grad=-12.8525), Var(v=-0.0516, grad=4.3355)]]\n",
      "Biases: [Var(v=0.0000, grad=-2.1417), Var(v=0.0000, grad=7.8422), Var(v=0.0000, grad=12.9800), Var(v=0.0000, grad=11.6855), Var(v=0.0000, grad=-3.9418)]\n",
      "Layer 1 \n",
      " Weights: [[Var(v=0.0247, grad=-22.0780)], [Var(v=0.0884, grad=3.8675)], [Var(v=0.1464, grad=3.1044)], [Var(v=0.1318, grad=6.9668)], [Var(v=-0.0444, grad=5.0317)]]\n",
      "Biases: [Var(v=0.0000, grad=1.9151)]\n",
      "\n",
      "Network after update:\n",
      "Layer 0 \n",
      " Weights: [[Var(v=0.2435, grad=-2.4930), Var(v=0.0466, grad=-8.6254), Var(v=0.1109, grad=-14.2762), Var(v=0.0571, grad=-12.8525), Var(v=-0.0949, grad=4.3355)]]\n",
      "Biases: [Var(v=0.0214, grad=-2.1417), Var(v=-0.0784, grad=7.8422), Var(v=-0.1298, grad=12.9800), Var(v=-0.1169, grad=11.6855), Var(v=0.0394, grad=-3.9418)]\n",
      "Layer 1 \n",
      " Weights: [[Var(v=0.2455, grad=-22.0780)], [Var(v=0.0498, grad=3.8675)], [Var(v=0.1153, grad=3.1044)], [Var(v=0.0621, grad=6.9668)], [Var(v=-0.0948, grad=5.0317)]]\n",
      "Biases: [Var(v=-0.0192, grad=1.9151)]\n",
      "\n",
      "Network after zeroing gradients:\n",
      "Layer 0 \n",
      " Weights: [[Var(v=0.2435, grad=0.0000), Var(v=0.0466, grad=0.0000), Var(v=0.1109, grad=0.0000), Var(v=0.0571, grad=0.0000), Var(v=-0.0949, grad=0.0000)]]\n",
      "Biases: [Var(v=0.0214, grad=0.0000), Var(v=-0.0784, grad=0.0000), Var(v=-0.1298, grad=0.0000), Var(v=-0.1169, grad=0.0000), Var(v=0.0394, grad=0.0000)]\n",
      "Layer 1 \n",
      " Weights: [[Var(v=0.2455, grad=0.0000)], [Var(v=0.0498, grad=0.0000)], [Var(v=0.1153, grad=0.0000)], [Var(v=0.0621, grad=0.0000)], [Var(v=-0.0948, grad=0.0000)]]\n",
      "Biases: [Var(v=-0.0192, grad=0.0000)]\n"
     ]
    },
    {
     "output_type": "execute_result",
     "data": {
      "text/plain": [
       "[None, None]"
      ]
     },
     "metadata": {},
     "execution_count": 482
    }
   ],
   "metadata": {
    "colab": {
     "base_uri": "https://localhost:8080/"
    },
    "id": "dhAI7eyeznia",
    "outputId": "8584bbad-00aa-4130-9961-44e9ae7fb4ed"
   }
  },
  {
   "cell_type": "code",
   "execution_count": 483,
   "source": [
    "# Initialize an arbitrary neural network\n",
    "NN = [\n",
    "    DenseLayer(1, 8, lambda x: x.relu()),\n",
    "    DenseLayer(8, 1, lambda x: x.identity())\n",
    "]\n",
    "\n",
    "# Recommended hyper-parameters for 3-D: \n",
    "#NN = [\n",
    "#    DenseLayer(3, 16, lambda x: x.relu()),\n",
    "#    DenseLayer(16, 1, lambda x: x.identity())\n",
    "#]\n",
    "\n",
    "\n",
    "### Notice that, when we switch from tanh to relu activation, we decrease the learning rate. This is due the stability of the gradients \n",
    "## of the activation functions."
   ],
   "outputs": [],
   "metadata": {
    "collapsed": true,
    "id": "woWYpdw6FtIO"
   }
  },
  {
   "cell_type": "code",
   "execution_count": 484,
   "source": [
    "# Initialize training hyperparameters\n",
    "EPOCHS = 200\n",
    "LEARN_R = 2e-3 "
   ],
   "outputs": [],
   "metadata": {
    "collapsed": true,
    "id": "mdqaqYBVFtIR"
   }
  },
  {
   "cell_type": "code",
   "execution_count": 485,
   "source": [
    "train_loss = []\n",
    "val_loss = []\n",
    "\n",
    "for e in range(EPOCHS):\n",
    "     \n",
    "    # Forward pass and loss computation\n",
    "    Loss = squared_loss(y_train, forward(x_train, NN))\n",
    "\n",
    "    # Backward pass\n",
    "    Loss.backward()\n",
    "    \n",
    "    # gradient descent update\n",
    "    update_parameters(parameters(NN), LEARN_R)\n",
    "    zero_gradients(parameters(NN))\n",
    "    \n",
    "    # Training loss\n",
    "    train_loss.append(Loss.v)\n",
    "    \n",
    "    # Validation\n",
    "    Loss_validation = squared_loss(y_validation, forward(x_validation, NN))\n",
    "    val_loss.append(Loss_validation.v)\n",
    "    \n",
    "    if e%10==0:\n",
    "        print(\"{:4d}\".format(e),\n",
    "              \"({:5.2f}%)\".format(e/EPOCHS*100), \n",
    "              \"Train loss: {:4.3f} \\t Validation loss: {:4.3f}\".format(train_loss[-1], val_loss[-1]))\n",
    "        \n"
   ],
   "outputs": [
    {
     "output_type": "stream",
     "name": "stdout",
     "text": [
      "   0 ( 0.00%) Train loss: 104.737 \t Validation loss: 105.737\n",
      "  10 ( 5.00%) Train loss: 32.195 \t Validation loss: 22.662\n",
      "  20 (10.00%) Train loss: 13.930 \t Validation loss: 10.589\n",
      "  30 (15.00%) Train loss: 13.441 \t Validation loss: 10.185\n",
      "  40 (20.00%) Train loss: 12.988 \t Validation loss: 9.789\n",
      "  50 (25.00%) Train loss: 12.717 \t Validation loss: 9.513\n",
      "  60 (30.00%) Train loss: 12.527 \t Validation loss: 9.305\n",
      "  70 (35.00%) Train loss: 12.340 \t Validation loss: 9.118\n",
      "  80 (40.00%) Train loss: 12.195 \t Validation loss: 8.985\n",
      "  90 (45.00%) Train loss: 12.063 \t Validation loss: 8.911\n",
      " 100 (50.00%) Train loss: 11.990 \t Validation loss: 8.860\n",
      " 110 (55.00%) Train loss: 11.950 \t Validation loss: 8.857\n",
      " 120 (60.00%) Train loss: 11.925 \t Validation loss: 8.870\n",
      " 130 (65.00%) Train loss: 11.911 \t Validation loss: 8.890\n",
      " 140 (70.00%) Train loss: 11.904 \t Validation loss: 8.911\n",
      " 150 (75.00%) Train loss: 11.900 \t Validation loss: 8.930\n",
      " 160 (80.00%) Train loss: 11.896 \t Validation loss: 8.946\n",
      " 170 (85.00%) Train loss: 11.894 \t Validation loss: 8.959\n",
      " 180 (90.00%) Train loss: 11.893 \t Validation loss: 8.969\n",
      " 190 (95.00%) Train loss: 11.891 \t Validation loss: 8.977\n"
     ]
    }
   ],
   "metadata": {
    "colab": {
     "base_uri": "https://localhost:8080/"
    },
    "collapsed": true,
    "id": "5kfg76GMFtIW",
    "outputId": "e30cf68a-31f2-42b4-cc5e-860c297c0f04",
    "scrolled": true
   }
  },
  {
   "cell_type": "code",
   "execution_count": 486,
   "source": [
    "plt.plot(range(len(train_loss)), train_loss);\n",
    "plt.plot(range(len(val_loss)), val_loss);"
   ],
   "outputs": [
    {
     "output_type": "display_data",
     "data": {
      "image/png": "[encoded data removed]",
      "text/plain": [
       "<Figure size 432x288 with 1 Axes>"
      ]
     },
     "metadata": {
      "needs_background": "light"
     }
    }
   ],
   "metadata": {
    "colab": {
     "base_uri": "https://localhost:8080/",
     "height": 265
    },
    "collapsed": true,
    "id": "VetyRWFwFtIY",
    "outputId": "344e490d-6d7d-455a-fa6f-88dd11eb957e"
   }
  },
  {
   "cell_type": "markdown",
   "source": [
    "# Testing\n",
    "\n",
    "We have kept the calculation of the test error separate in order to emphasize that you should not use the test set in optimization."
   ],
   "metadata": {
    "id": "8OgmIrM9FtIb"
   }
  },
  {
   "cell_type": "code",
   "execution_count": 487,
   "source": [
    "output_test = forward(x_test, NN)"
   ],
   "outputs": [],
   "metadata": {
    "collapsed": true,
    "id": "HmNi7S-vFtIc"
   }
  },
  {
   "cell_type": "code",
   "execution_count": 488,
   "source": [
    "y_test_np = Var_to_nparray(y_test)\n",
    "plt.scatter(y_test_np, Var_to_nparray(output_test));\n",
    "plt.plot([np.min(y_test_np), np.max(y_test_np)], [np.min(y_test_np), np.max(y_test_np)], color='k');\n",
    "plt.xlabel(\"y\");\n",
    "plt.ylabel(\"$\\hat{y}$\");\n",
    "plt.title(\"Model prediction vs real in the test set, the close to the line the better\")\n",
    "plt.grid(True);\n",
    "plt.axis('equal');\n",
    "plt.tight_layout();\n",
    "\n",
    "Loss_test = squared_loss(y_test, forward(x_test, NN))\n",
    "\n",
    "print(\"Test loss:  {:4.3f}\".format(Loss_test.v))"
   ],
   "outputs": [
    {
     "output_type": "stream",
     "name": "stdout",
     "text": [
      "Test loss:  9.793\n"
     ]
    },
    {
     "output_type": "display_data",
     "data": {
      "image/png": "[encoded data removed]",
      "text/plain": [
       "<Figure size 432x288 with 1 Axes>"
      ]
     },
     "metadata": {
      "needs_background": "light"
     }
    }
   ],
   "metadata": {
    "colab": {
     "base_uri": "https://localhost:8080/",
     "height": 316
    },
    "collapsed": true,
    "id": "7mmJOTSEFtIf",
    "outputId": "e3264095-cefe-4aee-893d-bf152438e332"
   }
  },
  {
   "cell_type": "code",
   "execution_count": 489,
   "source": [
    "x_test_np = Var_to_nparray(x_test)\n",
    "x_train_np = Var_to_nparray(x_train)\n",
    "y_train_np = Var_to_nparray(y_train)\n",
    "if D1:\n",
    "    plt.scatter(x_train_np, y_train_np, label=\"train data\");\n",
    "    plt.scatter(x_test_np, Var_to_nparray(output_test), label=\"test prediction\");\n",
    "    plt.scatter(x_test_np, y_test_np, label=\"test data\");\n",
    "    plt.legend();\n",
    "    plt.xlabel(\"x\");\n",
    "    plt.ylabel(\"y\");\n",
    "else:\n",
    "    plt.scatter(x_train_np[:,1], y_train, label=\"train data\");\n",
    "    plt.scatter(x_test_np[:,1], Var_to_nparray(output_test), label=\"test data prediction\");\n",
    "    plt.scatter(x_test_np[:,1], y_test_np, label=\"test data\");\n",
    "    plt.legend();\n",
    "    plt.xlabel(\"x\");\n",
    "    plt.ylabel(\"y\");"
   ],
   "outputs": [
    {
     "output_type": "display_data",
     "data": {
      "image/png": "[encoded data removed]",
      "text/plain": [
       "<Figure size 432x288 with 1 Axes>"
      ]
     },
     "metadata": {
      "needs_background": "light"
     }
    }
   ],
   "metadata": {
    "colab": {
     "base_uri": "https://localhost:8080/",
     "height": 279
    },
    "collapsed": true,
    "id": "ODi0WlmQFtIh",
    "outputId": "d1ab874f-0717-4987-87bf-1f0c7c8e7148"
   }
  },
  {
   "cell_type": "markdown",
   "source": [
    "## Exercise k) Show overfitting, underfitting and just right fitting\n",
    "\n",
    "Vary the architecture and other things to show clear signs of overfitting (=training loss significantly lower than test loss) and underfitting (=not fitting enough to training data so that test performance is also hurt).\n",
    "\n",
    "See also if you can get a good compromise which leads to a low validation loss. \n",
    "\n",
    "For this problem do you see any big difference between validation and test loss? The answer here will probably be no. Discuss cases where it is important to keep the two separate.\n",
    "\n",
    "_Insert written answer here._\n",
    "\n",
    "**Answer:**  \n",
    "By splitting the dataset, we are capable to know whether the NN has learned a generalizable pattern or has just simply memorized the training data."
   ],
   "metadata": {
    "id": "zTBAmjsAFtIk"
   }
  },
  {
   "cell_type": "code",
   "execution_count": 490,
   "source": [
    "# Insert your code for getting overfitting, underfitting and just right fitting\n",
    "\n",
    "\n",
    "D1 = True\n",
    "x_train, y_train,  x_validation, y_validation, x_test, y_test = data_generator(noise=0.5, D1=D1)\n",
    "if D1:\n",
    "    plt.scatter(x_train[:,0], y_train);\n",
    "    plt.scatter(x_validation[:,0], y_validation);\n",
    "    plt.scatter(x_test[:,0], y_test);\n",
    "else:\n",
    "    plt.scatter(x_train[:,1], y_train);\n",
    "    plt.scatter(x_validation[:,1], y_validation);\n",
    "    plt.scatter(x_test[:,1], y_test);\n",
    "plt.show()\n",
    "x_train = nparray_to_Var(x_train)\n",
    "y_train = nparray_to_Var(y_train)\n",
    "x_validation = nparray_to_Var(x_validation)\n",
    "y_validation = nparray_to_Var(y_validation)\n",
    "x_test = nparray_to_Var(x_test)\n",
    "y_test = nparray_to_Var(y_test)\n",
    "#####  UNDERFITTING START #####\n",
    "# Initialize an arbitrary neural network\n",
    "NN = [\n",
    "    DenseLayer(1, 4, lambda x: x.relu()),\n",
    "    DenseLayer(4, 1, lambda x: x.identity())\n",
    "]\n",
    "# Initialize training hyperparameters\n",
    "EPOCHS = 200\n",
    "LEARN_R = 2e-3 \n",
    "\n",
    "train_loss = []\n",
    "val_loss = []\n",
    "\n",
    "for e in range(EPOCHS):\n",
    "     \n",
    "    # Forward pass and loss computation\n",
    "    Loss = squared_loss(y_train, forward(x_train, NN))\n",
    "\n",
    "    # Backward pass\n",
    "    Loss.backward()\n",
    "    \n",
    "    # gradient descent update\n",
    "    update_parameters(parameters(NN), LEARN_R)\n",
    "    zero_gradients(parameters(NN))\n",
    "    \n",
    "    # Training loss\n",
    "    train_loss.append(Loss.v)\n",
    "    \n",
    "    # Validation\n",
    "    Loss_validation = squared_loss(y_validation, forward(x_validation, NN))\n",
    "    val_loss.append(Loss_validation.v)\n",
    "    \n",
    "    if e%10==0:\n",
    "        print(\"{:4d}\".format(e),\n",
    "              \"({:5.2f}%)\".format(e/EPOCHS*100), \n",
    "              \"Train loss: {:4.3f} \\t Validation loss: {:4.3f}\".format(train_loss[-1], val_loss[-1]))\n",
    "        \n",
    "plt.plot(range(len(train_loss)), train_loss)\n",
    "plt.plot(range(len(val_loss)), val_loss)\n",
    "#####  TESTING #####\n",
    "output_test = forward(x_test, NN)\n",
    "y_test_np = Var_to_nparray(y_test)\n",
    "plt.scatter(y_test_np, Var_to_nparray(output_test));\n",
    "plt.plot([np.min(y_test_np), np.max(y_test_np)], [np.min(y_test_np), np.max(y_test_np)], color='k');\n",
    "plt.xlabel(\"y\");\n",
    "plt.ylabel(\"$\\hat{y}$\");\n",
    "plt.title(\"Model prediction vs real in the test set, the close to the line the better\")\n",
    "plt.grid(True);\n",
    "plt.axis('equal');\n",
    "plt.tight_layout();\n",
    "\n",
    "Loss_test = squared_loss(y_test, forward(x_test, NN))\n",
    "\n",
    "print(\"Test loss:  {:4.3f}\".format(Loss_test.v))"
   ],
   "outputs": [
    {
     "output_type": "display_data",
     "data": {
      "image/png": "[encoded data removed]",
      "text/plain": [
       "<Figure size 432x288 with 1 Axes>"
      ]
     },
     "metadata": {
      "needs_background": "light"
     }
    },
    {
     "output_type": "stream",
     "name": "stdout",
     "text": [
      "   0 ( 0.00%) Train loss: 108.603 \t Validation loss: 148.964\n",
      "  10 ( 5.00%) Train loss: 69.350 \t Validation loss: 82.312\n",
      "  20 (10.00%) Train loss: 12.647 \t Validation loss: 15.037\n",
      "  30 (15.00%) Train loss: 12.050 \t Validation loss: 14.181\n",
      "  40 (20.00%) Train loss: 11.649 \t Validation loss: 13.554\n",
      "  50 (25.00%) Train loss: 11.401 \t Validation loss: 13.236\n",
      "  60 (30.00%) Train loss: 11.267 \t Validation loss: 13.069\n",
      "  70 (35.00%) Train loss: 11.179 \t Validation loss: 12.960\n",
      "  80 (40.00%) Train loss: 11.124 \t Validation loss: 12.883\n",
      "  90 (45.00%) Train loss: 11.108 \t Validation loss: 12.827\n",
      " 100 (50.00%) Train loss: 11.105 \t Validation loss: 12.810\n",
      " 110 (55.00%) Train loss: 11.103 \t Validation loss: 12.799\n",
      " 120 (60.00%) Train loss: 11.102 \t Validation loss: 12.790\n",
      " 130 (65.00%) Train loss: 11.100 \t Validation loss: 12.784\n",
      " 140 (70.00%) Train loss: 11.099 \t Validation loss: 12.779\n",
      " 150 (75.00%) Train loss: 11.099 \t Validation loss: 12.775\n",
      " 160 (80.00%) Train loss: 11.098 \t Validation loss: 12.771\n",
      " 170 (85.00%) Train loss: 11.078 \t Validation loss: 12.803\n",
      " 180 (90.00%) Train loss: 11.055 \t Validation loss: 12.786\n",
      " 190 (95.00%) Train loss: 11.039 \t Validation loss: 12.769\n",
      "Test loss:  10.511\n"
     ]
    },
    {
     "output_type": "display_data",
     "data": {
      "image/png": "[encoded data removed]",
      "text/plain": [
       "<Figure size 432x288 with 1 Axes>"
      ]
     },
     "metadata": {
      "needs_background": "light"
     }
    }
   ],
   "metadata": {
    "collapsed": true,
    "id": "tQZCn2dxFtIl"
   }
  },
  {
   "cell_type": "code",
   "execution_count": 491,
   "source": [
    "x_test_np = Var_to_nparray(x_test)\n",
    "x_train_np = Var_to_nparray(x_train)\n",
    "y_train_np = Var_to_nparray(y_train)\n",
    "if D1:\n",
    "    plt.scatter(x_train_np, y_train_np, label=\"train data\");\n",
    "    plt.scatter(x_test_np, Var_to_nparray(output_test), label=\"test prediction\");\n",
    "    plt.scatter(x_test_np, y_test_np, label=\"test data\");\n",
    "    plt.legend();\n",
    "    plt.xlabel(\"x\");\n",
    "    plt.ylabel(\"y\");\n",
    "else:\n",
    "    plt.scatter(x_train_np[:,1], y_train, label=\"train data\");\n",
    "    plt.scatter(x_test_np[:,1], Var_to_nparray(output_test), label=\"test data prediction\");\n",
    "    plt.scatter(x_test_np[:,1], y_test_np, label=\"test data\");\n",
    "    plt.legend();\n",
    "    plt.xlabel(\"x\");\n",
    "    plt.ylabel(\"y\");"
   ],
   "outputs": [
    {
     "output_type": "display_data",
     "data": {
      "image/png": "[encoded data removed]",
      "text/plain": [
       "<Figure size 432x288 with 1 Axes>"
      ]
     },
     "metadata": {
      "needs_background": "light"
     }
    }
   ],
   "metadata": {}
  },
  {
   "cell_type": "markdown",
   "source": [
    "# Next steps - classification\n",
    "\n",
    "It is straight forward to extend what we have done to classification. \n",
    "\n",
    "For numerical stability it is better to make softmax and cross-entropy as one function so we write the cross entropy loss as a function of the logits we talked about last week. \n",
    "\n",
    "Next week we will see how to perform classification in PyTorch."
   ],
   "metadata": {
    "id": "fYPZP-eTFtIo"
   }
  },
  {
   "cell_type": "markdown",
   "source": [
    "## Exercise l) optional - Implement backpropagation for classification\n",
    "\n",
    "Should be possible with very few lines of code. :-)"
   ],
   "metadata": {
    "id": "qsVPul3QFtIo"
   }
  },
  {
   "cell_type": "code",
   "execution_count": 492,
   "source": [
    "# Just add code."
   ],
   "outputs": [],
   "metadata": {
    "collapsed": true,
    "id": "oC8QrI2tFtIp"
   }
  },
  {
   "cell_type": "markdown",
   "source": [
    "## Exercise m) optional - Introduce a NeuralNetwork class\n",
    "\n",
    "The functions we applied on the neural network (parameters, update_parameters and zero_gradients) can more naturally be included as methods in a NeuralNetwork class. Make such a class and modify the code to use it. "
   ],
   "metadata": {
    "id": "APqhJv3tta1O"
   }
  },
  {
   "cell_type": "code",
   "execution_count": 493,
   "source": [
    "# just add some code"
   ],
   "outputs": [],
   "metadata": {
    "id": "Dqfnor1ouMLq"
   }
  }
 ],
 "metadata": {
  "anaconda-cloud": {},
  "colab": {
   "name": "2.1-EXE-FNN-AutoDif-Nanograd.ipynb",
   "provenance": []
  },
  "interpreter": {
   "hash": "4acbb11307f03535684dada336af46241cf84593a86248f462e392a34afd1e28"
  },
  "kernelspec": {
   "display_name": "Python 3 (ipykernel)",
   "language": "python",
   "name": "python3"
  },
  "language_info": {
   "codemirror_mode": {
    "name": "ipython",
    "version": 3
   },
   "file_extension": ".py",
   "mimetype": "text/x-python",
   "name": "python",
   "nbconvert_exporter": "python",
   "pygments_lexer": "ipython3",
   "version": "3.8.11"
  }
 },
 "nbformat": 4,
 "nbformat_minor": 2
}