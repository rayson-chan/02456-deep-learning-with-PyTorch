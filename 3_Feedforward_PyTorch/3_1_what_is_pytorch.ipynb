{
  "nbformat": 4,
  "nbformat_minor": 0,
  "metadata": {
    "kernelspec": {
      "display_name": "Python 3",
      "language": "python",
      "name": "python3"
    },
    "language_info": {
      "codemirror_mode": {
        "name": "ipython",
        "version": 3
      },
      "file_extension": ".py",
      "mimetype": "text/x-python",
      "name": "python",
      "nbconvert_exporter": "python",
      "pygments_lexer": "ipython3",
      "version": "3.7.2"
    },
    "colab": {
      "name": "Copy of 3.1-what-is-pytorch.ipynb",
      "provenance": [],
      "collapsed_sections": []
    }
  },
  "cells": [
    {
      "cell_type": "markdown",
      "metadata": {
        "id": "EjPaRVld3wbn"
      },
      "source": [
        "# Credits\n",
        "\n",
        "This is heavily influenced or copied from https://github.com/pytorch/tutorials"
      ]
    },
    {
      "cell_type": "markdown",
      "metadata": {
        "id": "V59mshwI3wbs"
      },
      "source": [
        "# What is PyTorch?\n",
        "\n",
        "> **NOTE** In the last part of this lab cuda is used. If you have a cuda enabled machine, read the README.md in the root of this repo on how to use nvidia-docker.\n",
        "\n",
        "\n",
        "It’s a Python based scientific computing package targeted at two sets of\n",
        "audiences:\n",
        "-  A replacement for numpy to use the power of GPUs\n",
        "-  a deep learning research platform that provides maximum flexibility\n",
        "   and speed\n"
      ]
    },
    {
      "cell_type": "markdown",
      "metadata": {
        "id": "O4TYK7U93wbt"
      },
      "source": [
        "# Getting Started\n",
        "\n",
        "In this lab you will get a quick start on what pytorch is and how to use it.\n",
        "\n",
        "## 1. Tensors\n",
        "\n",
        "Tensors are similar to numpy’s ndarrays, with the addition being that\n",
        "Tensors can also be used on a GPU to accelerate computing."
      ]
    },
    {
      "cell_type": "code",
      "metadata": {
        "id": "QvT-G_Bj3wbu"
      },
      "source": [
        "import torch"
      ],
      "execution_count": 3,
      "outputs": []
    },
    {
      "cell_type": "markdown",
      "metadata": {
        "id": "pKfDjQBN3wbw"
      },
      "source": [
        "Construct a 5x3 matrix, uninitialized"
      ]
    },
    {
      "cell_type": "code",
      "metadata": {
        "scrolled": false,
        "id": "lVgvAU9j3wbx",
        "colab": {
          "base_uri": "https://localhost:8080/"
        },
        "outputId": "2bb50e3c-7f9a-4d30-e61c-a78d62254e2f"
      },
      "source": [
        "x = torch.Tensor(5, 3)\n",
        "print(x)\n",
        "print(x.size())"
      ],
      "execution_count": 4,
      "outputs": [
        {
          "output_type": "stream",
          "name": "stdout",
          "text": [
            "tensor([[-2.4462e-16,  3.0920e-41,  3.7835e-44],\n",
            "        [ 0.0000e+00,         nan,  3.0920e-41],\n",
            "        [ 1.3733e-14,  6.4069e+02,  4.3066e+21],\n",
            "        [ 1.1824e+22,  4.3066e+21,  6.3828e+28],\n",
            "        [ 3.8016e-39,  3.0920e-41, -7.0022e-17]])\n",
            "torch.Size([5, 3])\n"
          ]
        }
      ]
    },
    {
      "cell_type": "markdown",
      "metadata": {
        "id": "KNVFT4Sk3wbx"
      },
      "source": [
        "Construct a randomly initialized matrix"
      ]
    },
    {
      "cell_type": "code",
      "metadata": {
        "id": "Mfq0LXdH3wbx",
        "colab": {
          "base_uri": "https://localhost:8080/"
        },
        "outputId": "5c7ea1e9-fead-4e92-c8e2-1cc3a4bcd1e0"
      },
      "source": [
        "x = torch.rand(5, 3)\n",
        "print(x)"
      ],
      "execution_count": 5,
      "outputs": [
        {
          "output_type": "stream",
          "name": "stdout",
          "text": [
            "tensor([[0.3575, 0.1990, 0.2721],\n",
            "        [0.2506, 0.2888, 0.0312],\n",
            "        [0.3034, 0.3418, 0.6764],\n",
            "        [0.9314, 0.9175, 0.6045],\n",
            "        [0.8431, 0.1713, 0.6799]])\n"
          ]
        }
      ]
    },
    {
      "cell_type": "markdown",
      "metadata": {
        "id": "LuWvjrln3wby"
      },
      "source": [
        "Get its size"
      ]
    },
    {
      "cell_type": "code",
      "metadata": {
        "id": "-Yxw5aRj3wby",
        "colab": {
          "base_uri": "https://localhost:8080/"
        },
        "outputId": "eaf12446-e877-4f28-ed1e-79fd6b0c31d6"
      },
      "source": [
        "print(x.size())"
      ],
      "execution_count": 6,
      "outputs": [
        {
          "output_type": "stream",
          "name": "stdout",
          "text": [
            "torch.Size([5, 3])\n"
          ]
        }
      ]
    },
    {
      "cell_type": "markdown",
      "metadata": {
        "id": "VPnFdf6J3wbz"
      },
      "source": [
        "**NOTE** `torch.Size` is in fact a tuple, so it supports the same operations"
      ]
    },
    {
      "cell_type": "code",
      "metadata": {
        "id": "Sz5PgFOY3wb0",
        "colab": {
          "base_uri": "https://localhost:8080/"
        },
        "outputId": "b6f787ed-7159-493b-9a39-5fedd0f2e039"
      },
      "source": [
        "x[1:3] = 2\n",
        "print(x)"
      ],
      "execution_count": 7,
      "outputs": [
        {
          "output_type": "stream",
          "name": "stdout",
          "text": [
            "tensor([[0.3575, 0.1990, 0.2721],\n",
            "        [2.0000, 2.0000, 2.0000],\n",
            "        [2.0000, 2.0000, 2.0000],\n",
            "        [0.9314, 0.9175, 0.6045],\n",
            "        [0.8431, 0.1713, 0.6799]])\n"
          ]
        }
      ]
    },
    {
      "cell_type": "markdown",
      "metadata": {
        "id": "mUrILEjn3wb1"
      },
      "source": [
        "# Assignment\n",
        "\n",
        "Make use of the pytorch docs <http://pytorch.org/docs/torch>\n",
        "1. Make a tensor of size (2, 17)\n",
        "2. Make a torch.FloatTensor of size (3, 1)\n",
        "3. Make a torch.LongTensor of size (5, 2, 1)\n",
        "  - fill the entire tensor with 7s\n",
        "4. Make a torch.ByteTensor of size (5,)\n",
        "  - fill the middle 3 indices with ones such that it records [0, 1, 1, 1, 0]"
      ]
    },
    {
      "cell_type": "code",
      "metadata": {
        "id": "TPufrU5m5bby",
        "colab": {
          "base_uri": "https://localhost:8080/"
        },
        "outputId": "c7017ba7-7839-420e-fc8f-51f68d092885"
      },
      "source": [
        "# Make a tensor of size (2, 17)\n",
        "a = torch.Tensor(2, 17)\n",
        "print(a)"
      ],
      "execution_count": 8,
      "outputs": [
        {
          "output_type": "stream",
          "name": "stdout",
          "text": [
            "tensor([[-2.3631e-16,  3.0920e-41,  0.0000e+00,  0.0000e+00,  1.4013e-45,\n",
            "          0.0000e+00,  0.0000e+00,  0.0000e+00,  0.0000e+00,  0.0000e+00,\n",
            "          0.0000e+00,  0.0000e+00, -2.4425e-16,  3.0920e-41,  0.0000e+00,\n",
            "          0.0000e+00,  1.4013e-45],\n",
            "        [ 0.0000e+00,  4.2039e-45,  0.0000e+00,  0.0000e+00,  0.0000e+00,\n",
            "          0.0000e+00,  0.0000e+00,  0.0000e+00,  0.0000e+00,  0.0000e+00,\n",
            "          0.0000e+00,  1.4013e-45,  0.0000e+00,  0.0000e+00,  0.0000e+00,\n",
            "          0.0000e+00,  0.0000e+00]])\n"
          ]
        }
      ]
    },
    {
      "cell_type": "code",
      "metadata": {
        "id": "aD0k66fc44VZ",
        "colab": {
          "base_uri": "https://localhost:8080/"
        },
        "outputId": "5995083f-770f-44fd-dba2-71004918e9a9"
      },
      "source": [
        "# Make a torch.FloatTensor of size (3, 1)\n",
        "a = torch.FloatTensor(3, 1)\n",
        "print(a)"
      ],
      "execution_count": 9,
      "outputs": [
        {
          "output_type": "stream",
          "name": "stdout",
          "text": [
            "tensor([[-2.4461e-16],\n",
            "        [ 3.0920e-41],\n",
            "        [ 2.3694e-38]])\n"
          ]
        }
      ]
    },
    {
      "cell_type": "code",
      "metadata": {
        "id": "khODLoHy5tRB",
        "colab": {
          "base_uri": "https://localhost:8080/"
        },
        "outputId": "9350a78b-6042-4376-fb92-d37e53dc8dd8"
      },
      "source": [
        "# Make a torch.LongTensor of size (5, 2, 1)\n",
        "# fill the entire tensor with 7s\n",
        "a = torch.LongTensor(5, 2, 1)\n",
        "a[:] = 7\n",
        "print(a)"
      ],
      "execution_count": 10,
      "outputs": [
        {
          "output_type": "stream",
          "name": "stdout",
          "text": [
            "tensor([[[7],\n",
            "         [7]],\n",
            "\n",
            "        [[7],\n",
            "         [7]],\n",
            "\n",
            "        [[7],\n",
            "         [7]],\n",
            "\n",
            "        [[7],\n",
            "         [7]],\n",
            "\n",
            "        [[7],\n",
            "         [7]]])\n"
          ]
        }
      ]
    },
    {
      "cell_type": "code",
      "metadata": {
        "id": "BVAX8SSy6c72",
        "colab": {
          "base_uri": "https://localhost:8080/"
        },
        "outputId": "a7081b71-be3e-4e82-9ce4-7eefadb29bdc"
      },
      "source": [
        "# Make a torch.ByteTensor of size (5,)\n",
        "# fill the middle 3 indices with ones such that it records [0, 1, 1, 1, 0]\n",
        "a = torch.ByteTensor(5,)\n",
        "a[:] = 0\n",
        "a[1:4] = 1\n",
        "print(a)"
      ],
      "execution_count": 11,
      "outputs": [
        {
          "output_type": "stream",
          "name": "stdout",
          "text": [
            "tensor([0, 1, 1, 1, 0], dtype=torch.uint8)\n"
          ]
        }
      ]
    },
    {
      "cell_type": "markdown",
      "metadata": {
        "id": "6sV0SXP13wb2"
      },
      "source": [
        "## 2. Operations\n",
        "There are multiple syntaxes for operations. Let's see addition as an example:\n",
        "\n",
        "### 2.1 Addition: syntax 1"
      ]
    },
    {
      "cell_type": "code",
      "metadata": {
        "id": "_7Q6joc03wb2",
        "colab": {
          "base_uri": "https://localhost:8080/"
        },
        "outputId": "ad80bc60-bf4f-482a-bf44-a0eef0c0c8b3"
      },
      "source": [
        "y = torch.rand(5, 3)\n",
        "print(x + y)"
      ],
      "execution_count": 12,
      "outputs": [
        {
          "output_type": "stream",
          "name": "stdout",
          "text": [
            "tensor([[1.3278, 0.3454, 0.9701],\n",
            "        [2.4765, 2.8493, 2.0672],\n",
            "        [2.6535, 2.9823, 2.7446],\n",
            "        [1.0383, 0.9618, 1.3547],\n",
            "        [1.2540, 1.1079, 0.7706]])\n"
          ]
        }
      ]
    },
    {
      "cell_type": "markdown",
      "metadata": {
        "id": "mr9pNfwR3wb3"
      },
      "source": [
        "### 2.2 Addition: syntax 2"
      ]
    },
    {
      "cell_type": "code",
      "metadata": {
        "id": "dnuqARvu3wb4",
        "colab": {
          "base_uri": "https://localhost:8080/"
        },
        "outputId": "3fe0e048-40ea-47d4-b8d7-6a3f241f4f39"
      },
      "source": [
        "print(torch.add(x, y))"
      ],
      "execution_count": 13,
      "outputs": [
        {
          "output_type": "stream",
          "name": "stdout",
          "text": [
            "tensor([[1.3278, 0.3454, 0.9701],\n",
            "        [2.4765, 2.8493, 2.0672],\n",
            "        [2.6535, 2.9823, 2.7446],\n",
            "        [1.0383, 0.9618, 1.3547],\n",
            "        [1.2540, 1.1079, 0.7706]])\n"
          ]
        }
      ]
    },
    {
      "cell_type": "markdown",
      "metadata": {
        "id": "o6jokrF73wb4"
      },
      "source": [
        "### 2.3 Addition: giving an output tensor"
      ]
    },
    {
      "cell_type": "code",
      "metadata": {
        "id": "MB0rWG2X3wb5",
        "colab": {
          "base_uri": "https://localhost:8080/"
        },
        "outputId": "9aec4057-4bb4-46df-8fc7-fb927412a77d"
      },
      "source": [
        "result = torch.Tensor(5, 3)\n",
        "torch.add(x, y, out=result)\n",
        "print(result)"
      ],
      "execution_count": 14,
      "outputs": [
        {
          "output_type": "stream",
          "name": "stdout",
          "text": [
            "tensor([[1.3278, 0.3454, 0.9701],\n",
            "        [2.4765, 2.8493, 2.0672],\n",
            "        [2.6535, 2.9823, 2.7446],\n",
            "        [1.0383, 0.9618, 1.3547],\n",
            "        [1.2540, 1.1079, 0.7706]])\n"
          ]
        }
      ]
    },
    {
      "cell_type": "markdown",
      "metadata": {
        "id": "tpvg7eGi3wb6"
      },
      "source": [
        "### 2.4 Addition: in-place\n",
        "\n",
        "adds `x`to `y`"
      ]
    },
    {
      "cell_type": "code",
      "metadata": {
        "id": "Wjb7P7DP3wb6",
        "colab": {
          "base_uri": "https://localhost:8080/"
        },
        "outputId": "550e4010-c708-4e1e-eea0-0363a93c4505"
      },
      "source": [
        "y.add_(x)\n",
        "print(y)"
      ],
      "execution_count": 15,
      "outputs": [
        {
          "output_type": "stream",
          "name": "stdout",
          "text": [
            "tensor([[1.3278, 0.3454, 0.9701],\n",
            "        [2.4765, 2.8493, 2.0672],\n",
            "        [2.6535, 2.9823, 2.7446],\n",
            "        [1.0383, 0.9618, 1.3547],\n",
            "        [1.2540, 1.1079, 0.7706]])\n"
          ]
        }
      ]
    },
    {
      "cell_type": "markdown",
      "metadata": {
        "id": "LW41wCXO3wb7"
      },
      "source": [
        "**NOTE** Any operation that mutates a tensor in-place is post-fixed with an `_`. For example: `x.copy_(y)`, `x.t_()`, will change `x`."
      ]
    },
    {
      "cell_type": "markdown",
      "metadata": {
        "id": "XZdu4h0s3wb7"
      },
      "source": [
        "You can use standard numpy-like indexing with all bells and whistles!"
      ]
    },
    {
      "cell_type": "code",
      "metadata": {
        "id": "VCPTvnBq3wb8",
        "colab": {
          "base_uri": "https://localhost:8080/"
        },
        "outputId": "b1281dd7-dc4a-44e6-e4f6-5571c8687427"
      },
      "source": [
        "print(x[:, 1])"
      ],
      "execution_count": 16,
      "outputs": [
        {
          "output_type": "stream",
          "name": "stdout",
          "text": [
            "tensor([0.1990, 2.0000, 2.0000, 0.9175, 0.1713])\n"
          ]
        }
      ]
    },
    {
      "cell_type": "markdown",
      "metadata": {
        "id": "Gj_pgnxe3wb8"
      },
      "source": [
        "**Read later** 100+ Tensor operations, including transposing, indexing, slicing, mathematical operations, linear algebra, random numbers, etc are described here <http://pytorch.org/docs/torch>"
      ]
    },
    {
      "cell_type": "markdown",
      "metadata": {
        "id": "PfgGqwHu3wb9"
      },
      "source": [
        "# Assignment\n",
        "\n",
        "1. multiplication of two tensors (see [torch.Tensor.mul](http://pytorch.org/docs/master/tensors.html#torch.Tensor.mul))\n",
        "2. do the same, but inplace\n",
        "3. division of two tensors (see [torch.Tensor.div](http://pytorch.org/docs/master/tensors.html#torch.Tensor.div))\n",
        "4. perform a matrix multiplication of two tensors of size (2, 4) and (4, 2)"
      ]
    },
    {
      "cell_type": "code",
      "metadata": {
        "colab": {
          "base_uri": "https://localhost:8080/"
        },
        "id": "QmATi1QQ97lJ",
        "outputId": "355969ba-87fe-4f7f-e2b8-0464dac62faa"
      },
      "source": [
        "a = torch.rand(2, 3) * 10\n",
        "b = torch.rand(2, 3) * 10\n",
        "# c = a * b\n",
        "c = torch.mul(a, b)\n",
        "print(a,'\\n', b ,'\\n',c)\n",
        "a.mul_(b)\n",
        "print(a)\n",
        "print(\"-----------\")\n",
        "c = torch.div(a, b)\n",
        "print(a,'\\n', b ,'\\n',c)\n",
        "a.div_(b)\n",
        "print(a)"
      ],
      "execution_count": 17,
      "outputs": [
        {
          "output_type": "stream",
          "name": "stdout",
          "text": [
            "tensor([[1.7010, 4.0196, 4.4886],\n",
            "        [2.0340, 2.2426, 6.3041]]) \n",
            " tensor([[8.4045, 5.4680, 3.8748],\n",
            "        [0.7970, 4.0636, 1.4464]]) \n",
            " tensor([[14.2962, 21.9790, 17.3923],\n",
            "        [ 1.6212,  9.1131,  9.1184]])\n",
            "tensor([[14.2962, 21.9790, 17.3923],\n",
            "        [ 1.6212,  9.1131,  9.1184]])\n",
            "-----------\n",
            "tensor([[14.2962, 21.9790, 17.3923],\n",
            "        [ 1.6212,  9.1131,  9.1184]]) \n",
            " tensor([[8.4045, 5.4680, 3.8748],\n",
            "        [0.7970, 4.0636, 1.4464]]) \n",
            " tensor([[1.7010, 4.0196, 4.4886],\n",
            "        [2.0340, 2.2426, 6.3041]])\n",
            "tensor([[1.7010, 4.0196, 4.4886],\n",
            "        [2.0340, 2.2426, 6.3041]])\n"
          ]
        }
      ]
    },
    {
      "cell_type": "markdown",
      "metadata": {
        "id": "heiCcFG43wb9"
      },
      "source": [
        "## 3. Numpy Bridge\n",
        "\n",
        "Converting a torch Tensor to a numpy array and vice versa is a breeze.\n",
        "\n",
        "The torch Tensor and numpy array will share their underlying memory locations, and changing one will change the other.\n",
        "\n",
        "### 3.1 Converting torch Tensor to numpy Array"
      ]
    },
    {
      "cell_type": "code",
      "metadata": {
        "id": "GbO8kmb-3wb9",
        "colab": {
          "base_uri": "https://localhost:8080/"
        },
        "outputId": "07f72bf2-5e89-43c8-9259-ad1f2bb5234e"
      },
      "source": [
        "a = torch.ones(5)\n",
        "print(a)"
      ],
      "execution_count": 18,
      "outputs": [
        {
          "output_type": "stream",
          "name": "stdout",
          "text": [
            "tensor([1., 1., 1., 1., 1.])\n"
          ]
        }
      ]
    },
    {
      "cell_type": "code",
      "metadata": {
        "id": "nTRuOgJ13wb9",
        "colab": {
          "base_uri": "https://localhost:8080/"
        },
        "outputId": "b5e1c643-cd3f-4ee4-ea05-3d5d57050e26"
      },
      "source": [
        "b = a.numpy()\n",
        "print(b)"
      ],
      "execution_count": 19,
      "outputs": [
        {
          "output_type": "stream",
          "name": "stdout",
          "text": [
            "[1. 1. 1. 1. 1.]\n"
          ]
        }
      ]
    },
    {
      "cell_type": "markdown",
      "metadata": {
        "id": "3HfALLGH3wb-"
      },
      "source": [
        "See how the numpy array changed in value."
      ]
    },
    {
      "cell_type": "code",
      "metadata": {
        "id": "OjDevAIJ3wb-",
        "colab": {
          "base_uri": "https://localhost:8080/"
        },
        "outputId": "37424cc8-1daf-4459-f7cc-b3ae81f4d70f"
      },
      "source": [
        "a.add_(1)\n",
        "print(a)\n",
        "print(b)"
      ],
      "execution_count": 20,
      "outputs": [
        {
          "output_type": "stream",
          "name": "stdout",
          "text": [
            "tensor([2., 2., 2., 2., 2.])\n",
            "[2. 2. 2. 2. 2.]\n"
          ]
        }
      ]
    },
    {
      "cell_type": "markdown",
      "metadata": {
        "id": "UXLUVGka3wb-"
      },
      "source": [
        "### 3.2 Converting numpy Array to torch Tensor\n",
        "\n",
        "See how changing the np array changed the torch Tensor automatically"
      ]
    },
    {
      "cell_type": "code",
      "metadata": {
        "id": "1zkS3sdy3wb-",
        "colab": {
          "base_uri": "https://localhost:8080/"
        },
        "outputId": "361ebf41-034d-4e79-8368-0f9cc17dee1d"
      },
      "source": [
        "import numpy as np\n",
        "a = np.ones(5)\n",
        "b = torch.from_numpy(a)\n",
        "np.add(a, 1, out=a)\n",
        "print(a)\n",
        "print(b)"
      ],
      "execution_count": 21,
      "outputs": [
        {
          "output_type": "stream",
          "name": "stdout",
          "text": [
            "[2. 2. 2. 2. 2.]\n",
            "tensor([2., 2., 2., 2., 2.], dtype=torch.float64)\n"
          ]
        }
      ]
    },
    {
      "cell_type": "markdown",
      "metadata": {
        "id": "t7zotDnk3wb_"
      },
      "source": [
        "# Assignment\n",
        "\n",
        "1. create a tensor of size (5, 2) containing ones\n",
        "2. now convert it to a numpy array\n",
        "3. now convert it back to a torch tensor"
      ]
    },
    {
      "cell_type": "code",
      "metadata": {
        "colab": {
          "base_uri": "https://localhost:8080/"
        },
        "id": "HWzjrl_tT0rX",
        "outputId": "4bb10430-8dcd-4da7-8fd8-50451e4ddd4f"
      },
      "source": [
        "a = torch.ones(5, 2)\n",
        "b = a.numpy()\n",
        "a.mul_(2)\n",
        "print(a)\n",
        "print(b)\n",
        "c = torch.from_numpy(b)\n",
        "a.mul_(2)\n",
        "print(a, '\\n', b, '\\n', c)"
      ],
      "execution_count": 22,
      "outputs": [
        {
          "output_type": "stream",
          "name": "stdout",
          "text": [
            "tensor([[2., 2.],\n",
            "        [2., 2.],\n",
            "        [2., 2.],\n",
            "        [2., 2.],\n",
            "        [2., 2.]])\n",
            "[[2. 2.]\n",
            " [2. 2.]\n",
            " [2. 2.]\n",
            " [2. 2.]\n",
            " [2. 2.]]\n",
            "tensor([[4., 4.],\n",
            "        [4., 4.],\n",
            "        [4., 4.],\n",
            "        [4., 4.],\n",
            "        [4., 4.]]) \n",
            " [[4. 4.]\n",
            " [4. 4.]\n",
            " [4. 4.]\n",
            " [4. 4.]\n",
            " [4. 4.]] \n",
            " tensor([[4., 4.],\n",
            "        [4., 4.],\n",
            "        [4., 4.],\n",
            "        [4., 4.],\n",
            "        [4., 4.]])\n"
          ]
        }
      ]
    },
    {
      "cell_type": "markdown",
      "metadata": {
        "id": "I26KIbW93wb_"
      },
      "source": [
        "All the Tensors on the CPU except a CharTensor support converting to NumPy and back.\n",
        "\n",
        "## 4 CUDA Tensors\n",
        "\n",
        "Tensors can be moved onto GPU using the `.cuda` function.\n",
        "This is not necessary, but check the `README.md` for details on how to use a GPU with docker."
      ]
    },
    {
      "cell_type": "code",
      "metadata": {
        "id": "gA4xfIug3wb_",
        "colab": {
          "base_uri": "https://localhost:8080/"
        },
        "outputId": "52224edb-4ed4-4855-f96f-98c1099cdc0b"
      },
      "source": [
        "# let us run this cell only if CUDA is available\n",
        "if torch.cuda.is_available():\n",
        "    x = x.cuda()\n",
        "    y = y.cuda()\n",
        "    z = x + y\n",
        "    # notice that the tensors are now of type torch.cuda.FloatTensor (notice the cuda in there)\n",
        "    # this is meant as a tensor to be run on the GPU.\n",
        "    # the .cuda() does this to any parameter it is applied to\n",
        "    print(x)\n",
        "    print(y)\n",
        "    print(z)\n",
        "else:\n",
        "    print(\"CUDA not available on your machine.\")"
      ],
      "execution_count": 23,
      "outputs": [
        {
          "output_type": "stream",
          "name": "stdout",
          "text": [
            "CUDA not available on your machine.\n"
          ]
        }
      ]
    },
    {
      "cell_type": "code",
      "metadata": {
        "id": "Svw_tB9d3wcA"
      },
      "source": [
        ""
      ],
      "execution_count": 23,
      "outputs": []
    }
  ]
}