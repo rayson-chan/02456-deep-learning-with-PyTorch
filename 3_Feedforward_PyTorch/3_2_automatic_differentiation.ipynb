{
  "nbformat": 4,
  "nbformat_minor": 0,
  "metadata": {
    "kernelspec": {
      "display_name": "Python 3",
      "language": "python",
      "name": "python3"
    },
    "language_info": {
      "codemirror_mode": {
        "name": "ipython",
        "version": 3
      },
      "file_extension": ".py",
      "mimetype": "text/x-python",
      "name": "python",
      "nbconvert_exporter": "python",
      "pygments_lexer": "ipython3",
      "version": "3.7.2"
    },
    "colab": {
      "name": "Copy of 3.2-automatic-differentiation.ipynb",
      "provenance": [],
      "collapsed_sections": []
    }
  },
  "cells": [
    {
      "cell_type": "markdown",
      "metadata": {
        "id": "nM3wCs1VVkeM"
      },
      "source": [
        "# Credits\n",
        "\n",
        "This is heavily influenced or copied from https://github.com/pytorch/tutorials"
      ]
    },
    {
      "cell_type": "markdown",
      "metadata": {
        "id": "pv9M7A7kVkeT"
      },
      "source": [
        "# Autograd: automatic differentiation\n",
        "\n",
        "Central to all neural networks in PyTorch is the ``autograd`` package.\n",
        "Let’s first briefly visit this, and we will then go to training our first neural network.\n",
        "\n",
        "The `autograd` package provides automatic differentiation for all operations on Tensors.\n",
        "It is a define-by-run framework, which means that your backprop is defined by how your code is run, and that every single iteration can be different.\n",
        "\n",
        "Let us see this in more simple terms with some examples."
      ]
    },
    {
      "cell_type": "markdown",
      "metadata": {
        "id": "hPJRsxWWVkeV"
      },
      "source": [
        "## 1. Tensor\n",
        "\n",
        "`torch.Tensor` is the central class of the package. Setting the attribute `.requires_grad` to `True` will make the tensor \"record\" all operations on it. When you finish your computation you can call `.backward()` and have all the gradients computed automatically. The gradient for this tensor will be accumulated into the `.grad` attribute.\n",
        "\n",
        "![autograd.Variable](https://github.com/rayson-chan/02456-deep-learning-with-PyTorch/blob/master/static_files/autograd-variable.png?raw=1)\n",
        "\n",
        "There’s one more class which is very important for autograd implementation - a `Function`.\n",
        "\n",
        "`Tensor` and `Function` are interconnected and build up an acyclic graph, that encodes a complete history of computation. Each tensor has a `.grad_fn` attribute that references a `Function` that has created the `Tensor` (except for Tensors created by the user - their `grad_fn` is `None`).\n",
        "\n",
        "If you want to compute the derivatives, you can call `.backward()` on a Tensor. If `Tensor` is a scalar (i.e. it holds a one element data), you don’t need to specify any arguments to backward(), however if it has more elements, you need to specify a `gradient` argument that is a tensor of matching shape."
      ]
    },
    {
      "cell_type": "code",
      "metadata": {
        "id": "dmx2TrikVkeW"
      },
      "source": [
        "import torch"
      ],
      "execution_count": null,
      "outputs": []
    },
    {
      "cell_type": "markdown",
      "metadata": {
        "id": "TVWwQLSTVkeZ"
      },
      "source": [
        "Create a tensor"
      ]
    },
    {
      "cell_type": "code",
      "metadata": {
        "id": "To7hyO15VkeZ",
        "colab": {
          "base_uri": "https://localhost:8080/"
        },
        "outputId": "96525c5d-0a44-4768-dbd8-bee801feaf33"
      },
      "source": [
        "x = torch.ones(2, 2, requires_grad=True)\n",
        "print(x)"
      ],
      "execution_count": null,
      "outputs": [
        {
          "output_type": "stream",
          "name": "stdout",
          "text": [
            "tensor([[1., 1.],\n",
            "        [1., 1.]], requires_grad=True)\n"
          ]
        }
      ]
    },
    {
      "cell_type": "markdown",
      "metadata": {
        "id": "96Lgb_bYVkeb"
      },
      "source": [
        "Do a tensor operation:"
      ]
    },
    {
      "cell_type": "code",
      "metadata": {
        "id": "Jf_62GWqVkeb",
        "colab": {
          "base_uri": "https://localhost:8080/"
        },
        "outputId": "e71350ca-7ecc-41f6-8099-f7835322c65a"
      },
      "source": [
        "y = x + 2\n",
        "print(y)"
      ],
      "execution_count": null,
      "outputs": [
        {
          "output_type": "stream",
          "name": "stdout",
          "text": [
            "tensor([[3., 3.],\n",
            "        [3., 3.]], grad_fn=<AddBackward0>)\n"
          ]
        }
      ]
    },
    {
      "cell_type": "markdown",
      "metadata": {
        "id": "ODFC6QHGVkec"
      },
      "source": [
        "`y` was created as a result of an operation, so it has a `grad_fn`."
      ]
    },
    {
      "cell_type": "code",
      "metadata": {
        "id": "qeEYbebQVkec",
        "colab": {
          "base_uri": "https://localhost:8080/"
        },
        "outputId": "a8d03c18-51c1-44ad-d69c-b57f965b7623"
      },
      "source": [
        "print(y.grad_fn)"
      ],
      "execution_count": null,
      "outputs": [
        {
          "output_type": "stream",
          "name": "stdout",
          "text": [
            "<AddBackward0 object at 0x7ff620cc0190>\n"
          ]
        }
      ]
    },
    {
      "cell_type": "markdown",
      "metadata": {
        "id": "pqahMmywVked"
      },
      "source": [
        "Do more operations on y"
      ]
    },
    {
      "cell_type": "code",
      "metadata": {
        "id": "TgLxiY3OVked",
        "colab": {
          "base_uri": "https://localhost:8080/"
        },
        "outputId": "adef9193-b552-4c69-a81f-bff67f60d7f8"
      },
      "source": [
        "z = y * y * 3\n",
        "out = z.mean()\n",
        "\n",
        "print(z)\n",
        "print(out)"
      ],
      "execution_count": null,
      "outputs": [
        {
          "output_type": "stream",
          "name": "stdout",
          "text": [
            "tensor([[27., 27.],\n",
            "        [27., 27.]], grad_fn=<MulBackward0>)\n",
            "tensor(27., grad_fn=<MeanBackward0>)\n"
          ]
        }
      ]
    },
    {
      "cell_type": "markdown",
      "metadata": {
        "id": "ErWqsu5-Vked"
      },
      "source": [
        "# Assignments\n",
        "\n",
        "1. Create a Tensor that `requires_grad` of size (5, 5)\n",
        "2. Sum the values in the Tensor"
      ]
    },
    {
      "cell_type": "code",
      "metadata": {
        "id": "LZ4O5fiSY_r3",
        "colab": {
          "base_uri": "https://localhost:8080/"
        },
        "outputId": "e0241f51-cf0b-4bbd-dada-ecabfa70be0e"
      },
      "source": [
        "t = torch.rand(5, 5, requires_grad=True)\n",
        "mean_t = torch.sum(t)\n",
        "print(t,'\\n',mean_t)"
      ],
      "execution_count": null,
      "outputs": [
        {
          "output_type": "stream",
          "name": "stdout",
          "text": [
            "tensor([[0.7009, 0.8943, 0.9527, 0.6295, 0.2981],\n",
            "        [0.8103, 0.5613, 0.4402, 0.7716, 0.5460],\n",
            "        [0.7602, 0.4045, 0.0997, 0.6392, 0.3295],\n",
            "        [0.3642, 0.7666, 0.1463, 0.2294, 0.4784],\n",
            "        [0.6162, 0.5538, 0.9952, 0.3907, 0.1195]], requires_grad=True) \n",
            " tensor(13.4983, grad_fn=<SumBackward0>)\n"
          ]
        }
      ]
    },
    {
      "cell_type": "markdown",
      "metadata": {
        "id": "pzjPnO6rVked"
      },
      "source": [
        "## 2. Gradients\n",
        "\n",
        "Let’s backprop now. Because `out` contains a single scalar, `out.backward()` is equivalent to `out.backward(torch.tensor([1.0]))`"
      ]
    },
    {
      "cell_type": "code",
      "metadata": {
        "id": "ylFQsHjDVkee"
      },
      "source": [
        "out.backward()"
      ],
      "execution_count": null,
      "outputs": []
    },
    {
      "cell_type": "markdown",
      "metadata": {
        "id": "qua-tMadVkee"
      },
      "source": [
        "Print gradients d(out)/dx"
      ]
    },
    {
      "cell_type": "code",
      "metadata": {
        "id": "uOR_iP84Vkee",
        "colab": {
          "base_uri": "https://localhost:8080/"
        },
        "outputId": "ac8b7e14-176c-4d4d-ea6c-9b00cfdd20f6"
      },
      "source": [
        "print(x.grad)"
      ],
      "execution_count": null,
      "outputs": [
        {
          "output_type": "stream",
          "name": "stdout",
          "text": [
            "tensor([[4.5000, 4.5000],\n",
            "        [4.5000, 4.5000]])\n"
          ]
        }
      ]
    },
    {
      "cell_type": "markdown",
      "metadata": {
        "id": "G7lwsBKuVkef"
      },
      "source": [
        "You should have a matrix of `4.5`. Let’s denote the tensor `out` with $o$.\n",
        "\n",
        "We have:\n",
        "$o = \\frac{1}{4}\\sum_i z_i$, $z_i = 3(x_i+2)^2$ and $z_i\\bigr\\rvert_{x_i=1} = 27$.\n",
        "\n",
        "Therefore, $\\frac{\\partial o}{\\partial x_i} = \\frac{3}{2}(x_i+2)$,\n",
        "hence $\\frac{\\partial o}{\\partial x_i}\\bigr\\rvert_{x_i=1} = \\frac{9}{2} = 4.5$.\n",
        "\n",
        "You can do many crazy things with autograd!"
      ]
    },
    {
      "cell_type": "code",
      "metadata": {
        "id": "ndIiF_l3Vkef",
        "colab": {
          "base_uri": "https://localhost:8080/"
        },
        "outputId": "2f583e64-8b94-4c30-fa21-1ffc88535a43"
      },
      "source": [
        "x = torch.randn(3, requires_grad=True)\n",
        "print(x)\n",
        "y = x * 2\n",
        "while y.data.norm() < 1000:\n",
        "    y = y * 2\n",
        "\n",
        "print(y)"
      ],
      "execution_count": null,
      "outputs": [
        {
          "output_type": "stream",
          "name": "stdout",
          "text": [
            "tensor([ 0.0470, -0.0804,  1.1820], requires_grad=True)\n",
            "tensor([  48.1354,  -82.2945, 1210.3368], grad_fn=<MulBackward0>)\n"
          ]
        }
      ]
    },
    {
      "cell_type": "code",
      "metadata": {
        "id": "SnVq2pxkVkeg",
        "colab": {
          "base_uri": "https://localhost:8080/"
        },
        "outputId": "59322a89-4ba8-488b-a49d-c435cbfb5958"
      },
      "source": [
        "gradients = torch.FloatTensor([0.1, 1.0, 0.0001])\n",
        "y.backward(gradients)\n",
        "print(x.grad)"
      ],
      "execution_count": null,
      "outputs": [
        {
          "output_type": "stream",
          "name": "stdout",
          "text": [
            "tensor([1.0240e+02, 1.0240e+03, 1.0240e-01])\n"
          ]
        }
      ]
    },
    {
      "cell_type": "markdown",
      "metadata": {
        "id": "Uw4ktt3TVkeg"
      },
      "source": [
        "**Read later** \\\n",
        "*Documentation* \\\n",
        "`Tensor`: https://pytorch.org/docs/stable/tensors.html \\\n",
        "`Function`: http://pytorch.org/docs/autograd"
      ]
    },
    {
      "cell_type": "markdown",
      "metadata": {
        "id": "fSJ8bkHnVkeh"
      },
      "source": [
        "# Assignments\n",
        "\n",
        "1. Define a tensor and set `requires_grad` to `True`\n",
        "3. Multiply the tensor by 2 and assign the result to a new python variable (i.e. `x = result`)\n",
        "4. Sum the variable's elements and assign to a new python variable\n",
        "5. Print the gradients of all the variables\n",
        "6. Now perform a backward pass on the last variable (NOTE: for each new python variable that you define, call `.retain_grad()`)\n",
        "7. Print all gradients again\n",
        "  - what did you notice?"
      ]
    },
    {
      "cell_type": "code",
      "metadata": {
        "id": "6v8mGfcsVkeh",
        "colab": {
          "base_uri": "https://localhost:8080/"
        },
        "outputId": "65894400-b81f-43bd-8a62-3a8334ba04a7"
      },
      "source": [
        "# import numpy as np\n",
        "# _x = np.array([[1, 3], [3, 4]], dtype=float)\n",
        "# x = torch.from_numpy(_x)\n",
        "# x.requires_grad = True\n",
        "# torch.detach(x)\n",
        "x = torch.tensor([[1,3],[4,2]],dtype=float,requires_grad=True)\n",
        "print(x)"
      ],
      "execution_count": null,
      "outputs": [
        {
          "output_type": "stream",
          "name": "stdout",
          "text": [
            "tensor([[1., 3.],\n",
            "        [4., 2.]], dtype=torch.float64, requires_grad=True)\n"
          ]
        }
      ]
    },
    {
      "cell_type": "code",
      "metadata": {
        "id": "V3xoIRvYeM04",
        "colab": {
          "base_uri": "https://localhost:8080/"
        },
        "outputId": "950f3028-fa4b-4741-a617-270a95bdf78a"
      },
      "source": [
        "t = 2 * x\n",
        "print(t)"
      ],
      "execution_count": null,
      "outputs": [
        {
          "output_type": "stream",
          "name": "stdout",
          "text": [
            "tensor([[2., 6.],\n",
            "        [8., 4.]], dtype=torch.float64, grad_fn=<MulBackward0>)\n"
          ]
        }
      ]
    },
    {
      "cell_type": "code",
      "metadata": {
        "id": "YxQjnOsEhVd2",
        "colab": {
          "base_uri": "https://localhost:8080/"
        },
        "outputId": "f3a931b4-8b4a-4b15-f285-dd6ca1f8ad5a"
      },
      "source": [
        "s = torch.sum(t)\n",
        "print(s)"
      ],
      "execution_count": null,
      "outputs": [
        {
          "output_type": "stream",
          "name": "stdout",
          "text": [
            "tensor(20., dtype=torch.float64, grad_fn=<SumBackward0>)\n"
          ]
        }
      ]
    },
    {
      "cell_type": "code",
      "metadata": {
        "id": "cYHCtjhdhaWz",
        "colab": {
          "base_uri": "https://localhost:8080/"
        },
        "outputId": "8216e487-30e3-4584-faa3-2fd53f0ebbd1"
      },
      "source": [
        "print(x.grad)\n",
        "print(t.grad)\n",
        "print(s.grad)"
      ],
      "execution_count": null,
      "outputs": [
        {
          "output_type": "stream",
          "name": "stdout",
          "text": [
            "None\n",
            "None\n",
            "None\n"
          ]
        },
        {
          "output_type": "stream",
          "name": "stderr",
          "text": [
            "/usr/local/lib/python3.7/dist-packages/ipykernel_launcher.py:2: UserWarning: The .grad attribute of a Tensor that is not a leaf Tensor is being accessed. Its .grad attribute won't be populated during autograd.backward(). If you indeed want the gradient for a non-leaf Tensor, use .retain_grad() on the non-leaf Tensor. If you access the non-leaf Tensor by mistake, make sure you access the leaf Tensor instead. See github.com/pytorch/pytorch/pull/30531 for more information.\n",
            "  \n",
            "/usr/local/lib/python3.7/dist-packages/ipykernel_launcher.py:3: UserWarning: The .grad attribute of a Tensor that is not a leaf Tensor is being accessed. Its .grad attribute won't be populated during autograd.backward(). If you indeed want the gradient for a non-leaf Tensor, use .retain_grad() on the non-leaf Tensor. If you access the non-leaf Tensor by mistake, make sure you access the leaf Tensor instead. See github.com/pytorch/pytorch/pull/30531 for more information.\n",
            "  This is separate from the ipykernel package so we can avoid doing imports until\n"
          ]
        }
      ]
    },
    {
      "cell_type": "code",
      "metadata": {
        "id": "jkKJ8tI6iHqW",
        "colab": {
          "base_uri": "https://localhost:8080/"
        },
        "outputId": "60951937-94d3-486d-ce04-daf6a7f8eac9"
      },
      "source": [
        "x.retain_grad()\n",
        "t.retain_grad()\n",
        "s.retain_grad()\n",
        "s.backward()\n",
        "print(x.grad)\n",
        "print(t.grad)\n",
        "print(s.grad)"
      ],
      "execution_count": null,
      "outputs": [
        {
          "output_type": "stream",
          "name": "stdout",
          "text": [
            "tensor([[2., 2.],\n",
            "        [2., 2.]], dtype=torch.float64)\n",
            "tensor([[1., 1.],\n",
            "        [1., 1.]], dtype=torch.float64)\n",
            "tensor(1., dtype=torch.float64)\n"
          ]
        }
      ]
    }
  ]
}