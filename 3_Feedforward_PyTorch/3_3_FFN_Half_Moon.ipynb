{
  "nbformat": 4,
  "nbformat_minor": 0,
  "metadata": {
    "kernelspec": {
      "display_name": "Python 3",
      "language": "python",
      "name": "python3"
    },
    "language_info": {
      "codemirror_mode": {
        "name": "ipython",
        "version": 3
      },
      "file_extension": ".py",
      "mimetype": "text/x-python",
      "name": "python",
      "nbconvert_exporter": "python",
      "pygments_lexer": "ipython3",
      "version": "3.7.2"
    },
    "colab": {
      "name": "Copy of 3.3-FFN-Half-Moon.ipynb",
      "provenance": [],
      "collapsed_sections": []
    }
  },
  "cells": [
    {
      "cell_type": "markdown",
      "metadata": {
        "id": "aqtW51R5jXP4"
      },
      "source": [
        "# Credits\n",
        "> This code is a slight modification to a translation (TensorFlow --> PyTorch) of a previous version of the [02456](http://kurser.dtu.dk/course/02456) course material. \n",
        "> [Original repo link (TensorFlow)](https://github.com/DeepLearningDTU/02456-deep-learning).\n",
        "> [Translated repo link (PyTorch)](https://github.com/munkai/pytorch-tutorial/tree/master/2_intermediate)."
      ]
    },
    {
      "cell_type": "markdown",
      "metadata": {
        "id": "LuDeUqVkjXP-"
      },
      "source": [
        "# Purpose and goals\n",
        "In this notebook you will implement a simple neural network in PyTorch.\n",
        "\n",
        "The building blocks of PyTorch are Tensors, and Operations, with these we can form dynamic computational graphs that represent neural networks.\n",
        "In this exercise we'll start right away by defining a logistic regression model using these simple building blocks.\n",
        "We'll initially start with a simple 2D and binary (i.e. two-class) classification problem where the class decision boundary can be visualized.\n",
        "Initially we show that logistic regression can only separate classes linearly.\n",
        "Adding a nonlinear hidden layer to the algorithm permits nonlinear class separation.\n",
        "\n",
        "In this notebook you should:\n",
        "* **First** run the code as is, and see what it does.\n",
        "* **Then** modify the code, following the instructions in the bottom of the notebook.\n",
        "* **Lastly** play around a bit, and do some small experiments that you come up with.\n",
        "\n",
        "> We assume that you are already familiar with backpropagation (if not please see [Andrej Karpathy](http://cs.stanford.edu/people/karpathy/) or [Michal Nielsen](http://neuralnetworksanddeeplearning.com/chap2.html))."
      ]
    },
    {
      "cell_type": "markdown",
      "metadata": {
        "id": "VhRGsqi9jXP_"
      },
      "source": [
        "# Dependencies and supporting functions\n",
        "Load dependencies and supporting functions by running the code block below."
      ]
    },
    {
      "cell_type": "code",
      "metadata": {
        "id": "sARkkBfkjXQA"
      },
      "source": [
        "%matplotlib inline\n",
        "import matplotlib\n",
        "import numpy as np\n",
        "import matplotlib.pyplot as plt\n",
        "import sklearn.datasets\n",
        "\n",
        "# Do not worry about the code below for now, it is used for plotting later\n",
        "def plot_decision_boundary(pred_func, X, y):\n",
        "    #from https://github.com/dennybritz/nn-from-scratch/blob/master/nn-from-scratch.ipynb\n",
        "    # Set min and max values and give it some padding\n",
        "    x_min, x_max = X[:, 0].min() - .5, X[:, 0].max() + .5\n",
        "    y_min, y_max = X[:, 1].min() - .5, X[:, 1].max() + .5\n",
        "    \n",
        "    h = 0.01\n",
        "    # Generate a grid of points with distance h between them\n",
        "    xx, yy = np.meshgrid(np.arange(x_min, x_max, h), np.arange(y_min, y_max, h))\n",
        "    \n",
        "    yy = yy.astype('float32')\n",
        "    xx = xx.astype('float32')\n",
        "    # Predict the function value for the whole gid\n",
        "    Z = pred_func(np.c_[xx.ravel(), yy.ravel()])[:,0]\n",
        "    Z = Z.reshape(xx.shape)\n",
        "    # Plot the contour and training examples\n",
        "    plt.figure()\n",
        "    plt.contourf(xx, yy, Z, cmap=plt.cm.RdBu)\n",
        "    plt.scatter(X[:, 0], X[:, 1], c=-y, cmap=plt.cm.Spectral)\n",
        "\n",
        "def onehot(t, num_classes):\n",
        "    out = np.zeros((t.shape[0], num_classes))\n",
        "    for row, col in enumerate(t):\n",
        "        out[row, col] = 1\n",
        "    return out"
      ],
      "execution_count": null,
      "outputs": []
    },
    {
      "cell_type": "markdown",
      "metadata": {
        "collapsed": true,
        "id": "cuuxYlxzjXQD"
      },
      "source": [
        "# Problem \n",
        "We'll initally demonstrate that Multi-layer Perceptrons (MLPs) can classify nonlinear problems, whereas a simple logistic regression model cannot.\n",
        "For ease of visualization and computational speed we initially experiment on the simple 2D half-moon dataset, visualized below."
      ]
    },
    {
      "cell_type": "code",
      "metadata": {
        "id": "sWAFgYSBjXQE",
        "colab": {
          "base_uri": "https://localhost:8080/",
          "height": 283
        },
        "outputId": "74dc6715-3f5d-423c-e9bc-46e3f31b370f"
      },
      "source": [
        "# Generate a dataset and plot it\n",
        "np.random.seed(0)\n",
        "num_samples = 300\n",
        "\n",
        "X, y = sklearn.datasets.make_moons(num_samples, noise=0.20)\n",
        "\n",
        "# define train, validation, and test sets\n",
        "X_tr = X[:100].astype('float32')\n",
        "X_val = X[100:200].astype('float32')\n",
        "X_te = X[200:].astype('float32')\n",
        "\n",
        "# and labels\n",
        "y_tr = y[:100].astype('int32')\n",
        "y_val = y[100:200].astype('int32')\n",
        "y_te = y[200:].astype('int32')\n",
        "\n",
        "plt.scatter(X_tr[:,0], X_tr[:,1], s=40, c=y_tr, cmap=plt.cm.Spectral)\n",
        "\n",
        "print(X.shape, y.shape)\n",
        "\n",
        "num_features = X_tr.shape[-1]\n",
        "num_output = 2"
      ],
      "execution_count": null,
      "outputs": [
        {
          "output_type": "stream",
          "name": "stdout",
          "text": [
            "(300, 2) (300,)\n"
          ]
        },
        {
          "output_type": "display_data",
          "data": {
            "image/png": "[encoded data removed]",
            "text/plain": [
              "<Figure size 432x288 with 1 Axes>"
            ]
          },
          "metadata": {
            "needs_background": "light"
          }
        }
      ]
    },
    {
      "cell_type": "markdown",
      "metadata": {
        "id": "6dzXAafojXQH"
      },
      "source": [
        "# From Logistic Regression to \"Deep Learning\"\n",
        "The code implements logistic regression. In section [__Assignments Half Moon__](#Assignments-Half-Moon) (bottom of this notebook) you are asked to modify the code into a neural network.\n",
        "\n",
        "The standard building block for neural networks are layers, the simplest of which is called a *fully-connected layer* or *dense feed forward layer*, and it is computed as follows:\n",
        "\n",
        "$$y = g(W^{\\top} x + b)$$\n",
        "\n",
        "where $x$ is the input vector, $y$ is the output vector, $W, b$ are the weights and biases (a matrix and vector respectively) and $g$ is a non-linear function, called *activation function*.\n",
        "The *dense* part of the name comes from the fact that every element of $x$ contributes to every element of $y$.\n",
        "And the *feed forward* part of the name means that the layer processes each input independently. \n",
        "If we were to draw the layer it would be acyclical.\n",
        "Later we will see layers that break from both of these conventions."
      ]
    },
    {
      "cell_type": "markdown",
      "metadata": {
        "id": "08_ypZLQjXQH"
      },
      "source": [
        "- $x$ has shape `[batch_size, num_features]`,\n",
        "- $W$ has shape `[num_units, num_features]`,\n",
        "- $b$ has `[num_units]`, and\n",
        "- $y$ has then `[batch_size, num_units]`"
      ]
    },
    {
      "cell_type": "markdown",
      "metadata": {
        "id": "qmGfyPyEjXQI"
      },
      "source": [
        "## PyTorch 101\n",
        "\n",
        "In this first exercise we will use basic PyTorch functions so that you can learn how to build it from scratch. This will help you later if you want to build your own custom operations."
      ]
    },
    {
      "cell_type": "code",
      "metadata": {
        "id": "u4hxhMzMjXQI"
      },
      "source": [
        "import torch\n",
        "from torch.nn.parameter import Parameter\n",
        "import torch.nn as nn\n",
        "import torch.nn.functional as F"
      ],
      "execution_count": null,
      "outputs": []
    },
    {
      "cell_type": "markdown",
      "metadata": {
        "id": "jtS1iVXMjXQJ"
      },
      "source": [
        "[`Parameters`](https://pytorch.org/docs/stable/generated/torch.nn.parameter.Parameter.html#torch.nn.parameter.Parameter) have a very special property when used with [`Module`](https://pytorch.org/docs/stable/generated/torch.nn.Module.html?highlight=module#torch.nn.Module)s - when they’re assigned as `Module` attributes they are automatically added to the list of its parameters, and will appear e.g. in the `parameters()` iterator. \\\n",
        "Assigning a Tensor doesn’t have such effect. This is because one might want to cache some temporary state (more on this later) in the model. If there was no such class as `Parameter`, these temporaries would get registered too."
      ]
    },
    {
      "cell_type": "code",
      "metadata": {
        "id": "nNognaXzjXQK"
      },
      "source": [
        "class Net(nn.Module):\n",
        "\n",
        "    def __init__(self):\n",
        "        super(Net, self).__init__()\n",
        "        # Setting up variables, these variables are weights in your \n",
        "        # network that can be updated while running our graph.\n",
        "        # Notice, to make a hidden layer, the weights need to have the \n",
        "        # following dimensionality:\n",
        "        #   W[number_of_units_going_out, number_of_units_going_in]\n",
        "        #   b[number_of_units_going_out]\n",
        "        # in the example below we have 2 input units (num_features) and 2 output units (num_output)\n",
        "        # so our weights become W[2, 2], b[2]\n",
        "        # if we want to make a hidden layer with 100 units, we need to define the shape of the\n",
        "        # first weight to W[100, 2], b[2] and the shape of the second weight to W[2, 100], b[2]\n",
        "        \n",
        "        # first layer\n",
        "        self.W_1 = Parameter(torch.randn(num_output, num_features)) \n",
        "        self.b_1 = Parameter(torch.randn(num_output))\n",
        "        \n",
        "        # second layer (to be completed as an exercise)\n",
        "        # NB when you create a second layer, remember that you also must change parts of the first layer\n",
        "        # self.W_2 = <YOUR CODE HERE>\n",
        "        # self.b_2 = <YOUR CODE HERE>\n",
        "        \n",
        "    def forward(self, x):\n",
        "        # Setting up ops, these ops will define edges along our computational graph\n",
        "        # The below ops will compute a logistic regression, \n",
        "        # but can be modified to compute a neural network\n",
        "        x = F.linear(x, self.W_1, self.b_1)\n",
        "        \n",
        "        # second layer (to be completed as an exercise)\n",
        "        # NB when you create a second layer, remember that you also must change parts of the first layer\n",
        "        # x = F.linear(x, self.W_2, self.b_2)\n",
        "        return F.softmax(x, dim=1) # softmax to be performed on the second dimension\n",
        "\n",
        "net = Net()"
      ],
      "execution_count": null,
      "outputs": []
    },
    {
      "cell_type": "markdown",
      "metadata": {
        "id": "hbaMXsw9jXQK"
      },
      "source": [
        "Knowing how to print your tensors is useful"
      ]
    },
    {
      "cell_type": "code",
      "metadata": {
        "id": "yycIY5whjXQL",
        "colab": {
          "base_uri": "https://localhost:8080/"
        },
        "outputId": "29ad91a2-cabc-44f0-dc3d-e798989767c8"
      },
      "source": [
        "# list all parameters in your network\n",
        "print(\"NAMED PARAMETERS\")\n",
        "print(list(net.named_parameters()))\n",
        "print()\n",
        "# the .parameters() method simply gives the Tensors in the list\n",
        "print(\"PARAMETERS\")\n",
        "print(list(net.parameters()))\n",
        "print()\n",
        "\n",
        "# list individual parameters by name\n",
        "print('WEIGHTS')\n",
        "print(net.W_1)\n",
        "print(net.W_1.size())\n",
        "print('\\nBIAS')\n",
        "print(net.b_1)\n",
        "print(net.b_1.size())"
      ],
      "execution_count": null,
      "outputs": [
        {
          "output_type": "stream",
          "name": "stdout",
          "text": [
            "NAMED PARAMETERS\n",
            "[('W_1', Parameter containing:\n",
            "tensor([[-1.0095,  0.4936],\n",
            "        [ 0.8543,  0.4715]], requires_grad=True)), ('b_1', Parameter containing:\n",
            "tensor([-0.2937, -0.5643], requires_grad=True))]\n",
            "\n",
            "PARAMETERS\n",
            "[Parameter containing:\n",
            "tensor([[-1.0095,  0.4936],\n",
            "        [ 0.8543,  0.4715]], requires_grad=True), Parameter containing:\n",
            "tensor([-0.2937, -0.5643], requires_grad=True)]\n",
            "\n",
            "WEIGHTS\n",
            "Parameter containing:\n",
            "tensor([[-1.0095,  0.4936],\n",
            "        [ 0.8543,  0.4715]], requires_grad=True)\n",
            "torch.Size([2, 2])\n",
            "\n",
            "BIAS\n",
            "Parameter containing:\n",
            "tensor([-0.2937, -0.5643], requires_grad=True)\n",
            "torch.Size([2])\n"
          ]
        }
      ]
    },
    {
      "cell_type": "markdown",
      "metadata": {
        "id": "HKeni-ZfjXQM"
      },
      "source": [
        "# Exploring Parameter\n",
        "\n",
        "Ok, let's investigate what a Parameter is"
      ]
    },
    {
      "cell_type": "code",
      "metadata": {
        "id": "YxbKSGz4jXQM",
        "colab": {
          "base_uri": "https://localhost:8080/"
        },
        "outputId": "4aa98960-661f-4b66-c3ee-3c126f55a131"
      },
      "source": [
        "param = net.W_1\n",
        "print(\"## this is the tensor\")\n",
        "print(param.data)\n",
        "print(\"\\n## this is the tensor's gradient\")\n",
        "print(param.grad)\n",
        "# notice, the gradient is undefined because we have not yet run a backward pass\n",
        "\n",
        "print(\"\\n## is it a leaf in the graph?\")\n",
        "print(param.is_leaf)"
      ],
      "execution_count": null,
      "outputs": [
        {
          "output_type": "stream",
          "name": "stdout",
          "text": [
            "## this is the tensor\n",
            "tensor([[-1.0095,  0.4936],\n",
            "        [ 0.8543,  0.4715]])\n",
            "\n",
            "## this is the tensor's gradient\n",
            "None\n",
            "\n",
            "## is it a leaf in the graph?\n",
            "True\n"
          ]
        }
      ]
    },
    {
      "cell_type": "markdown",
      "metadata": {
        "id": "ugFAtm1NjXQN"
      },
      "source": [
        "## Excluding subgraphs from backward propagation\n",
        "\n",
        "To exclude part of your computational graph (i.e. a subgraph) from backward propagation, simply set the relevant tensors' attribute `requires_grad` to `False`.\n",
        "\n",
        "If there’s a single input to an operation that requires gradient, its output will also require gradient. Conversely, only if all inputs don’t require gradient, the output also won’t require it. Backward computation is never performed in the subgraphs, where all Tensors didn’t require gradients."
      ]
    },
    {
      "cell_type": "markdown",
      "metadata": {
        "id": "EHSelrtujXQN"
      },
      "source": [
        "# Test network\n",
        "\n",
        "To use our network we can simply call our graph, and it will dynamically be created. Here is an example of running the network's forward pass."
      ]
    },
    {
      "cell_type": "code",
      "metadata": {
        "id": "ckXsvnLhjXQO",
        "colab": {
          "base_uri": "https://localhost:8080/"
        },
        "outputId": "5cf9a681-6abc-4b29-a42b-4bcb12d8b518"
      },
      "source": [
        "X = torch.randn(5, num_features)\n",
        "# the net.__call__ runs some pre-defined functions\n",
        "# both before and after running net.forward()\n",
        "# see http://pytorch.org/docs/master/_modules/torch/nn/modules/module.html\n",
        "\n",
        "print('input')\n",
        "print(X)\n",
        "\n",
        "print('\\noutput')\n",
        "print(net(X))"
      ],
      "execution_count": null,
      "outputs": [
        {
          "output_type": "stream",
          "name": "stdout",
          "text": [
            "input\n",
            "tensor([[-0.9582,  0.7452],\n",
            "        [ 1.7267,  0.7530],\n",
            "        [-0.0066,  0.5342],\n",
            "        [ 0.2444, -1.9599],\n",
            "        [ 0.7658, -0.1997]])\n",
            "\n",
            "output\n",
            "tensor([[0.8882, 0.1118],\n",
            "        [0.0506, 0.9494],\n",
            "        [0.5732, 0.4268],\n",
            "        [0.4431, 0.5569],\n",
            "        [0.2385, 0.7615]], grad_fn=<SoftmaxBackward>)\n"
          ]
        }
      ]
    },
    {
      "cell_type": "markdown",
      "metadata": {
        "id": "xdW6z1YajXQO"
      },
      "source": [
        "`Parameter`s are a special kind of `Tensor`"
      ]
    },
    {
      "cell_type": "code",
      "metadata": {
        "id": "u7T3YAOSjXQP",
        "colab": {
          "base_uri": "https://localhost:8080/"
        },
        "outputId": "3f7b2580-3d97-4f6b-c017-8380f20e9e17"
      },
      "source": [
        "# let's take a look at the gradients\n",
        "for p in net.parameters():\n",
        "    print(p.data)\n",
        "    print(p.grad)\n",
        "    print()"
      ],
      "execution_count": null,
      "outputs": [
        {
          "output_type": "stream",
          "name": "stdout",
          "text": [
            "tensor([[-1.0095,  0.4936],\n",
            "        [ 0.8543,  0.4715]])\n",
            "None\n",
            "\n",
            "tensor([-0.2937, -0.5643])\n",
            "None\n",
            "\n"
          ]
        }
      ]
    },
    {
      "cell_type": "code",
      "metadata": {
        "id": "9BnjHpjWjXQP"
      },
      "source": [
        "X = torch.randn(7, num_features)\n",
        "out = net(X)\n",
        "# we need to give a tensor of gradients to .backward,\n",
        "# we give a dummy tensor\n",
        "out.backward(torch.randn(7, num_output))"
      ],
      "execution_count": null,
      "outputs": []
    },
    {
      "cell_type": "markdown",
      "metadata": {
        "id": "0M2jAXH1jXQP"
      },
      "source": [
        "for details on `.backward()`, see http://pytorch.org/docs/master/autograd.html#torch.autograd.backward"
      ]
    },
    {
      "cell_type": "code",
      "metadata": {
        "id": "kLsBkQbDjXQQ",
        "colab": {
          "base_uri": "https://localhost:8080/"
        },
        "outputId": "8947ade0-dcee-4068-b92f-ec9a74aa442c"
      },
      "source": [
        "# let's take a look at the gradients\n",
        "for p in net.parameters():\n",
        "    print(p.data)\n",
        "    print(p.grad)\n",
        "    print()"
      ],
      "execution_count": null,
      "outputs": [
        {
          "output_type": "stream",
          "name": "stdout",
          "text": [
            "tensor([[-1.0095,  0.4936],\n",
            "        [ 0.8543,  0.4715]])\n",
            "tensor([[-0.7449,  0.4247],\n",
            "        [ 0.7449, -0.4247]])\n",
            "\n",
            "tensor([-0.2937, -0.5643])\n",
            "tensor([-0.2797,  0.2797])\n",
            "\n"
          ]
        }
      ]
    },
    {
      "cell_type": "code",
      "metadata": {
        "id": "Xx2iYlfIjXQQ",
        "colab": {
          "base_uri": "https://localhost:8080/"
        },
        "outputId": "2dac83e7-dda7-4d48-98d4-89c318f434b5"
      },
      "source": [
        "# ok, let's try and zero the accumulated gradients\n",
        "net.zero_grad()\n",
        "for p in net.parameters():\n",
        "    print(p.data)\n",
        "    print(p.grad)"
      ],
      "execution_count": null,
      "outputs": [
        {
          "output_type": "stream",
          "name": "stdout",
          "text": [
            "tensor([[-1.0095,  0.4936],\n",
            "        [ 0.8543,  0.4715]])\n",
            "tensor([[0., 0.],\n",
            "        [0., 0.]])\n",
            "tensor([-0.2937, -0.5643])\n",
            "tensor([0., 0.])\n"
          ]
        }
      ]
    },
    {
      "cell_type": "markdown",
      "metadata": {
        "id": "1nfXulJtjXQR"
      },
      "source": [
        "# Loss function\n",
        "\n",
        "Let's define a custom loss function to compute how good our graph is doing."
      ]
    },
    {
      "cell_type": "code",
      "metadata": {
        "id": "dZQiQ2B4jXQR"
      },
      "source": [
        "def cross_entropy(ys, ts):\n",
        "    # computing cross entropy per sample\n",
        "    cross_entropy = -torch.sum(ts * torch.log(ys), dim=1, keepdim=False)\n",
        "    # averaging over samples\n",
        "    return torch.mean(cross_entropy)"
      ],
      "execution_count": null,
      "outputs": []
    },
    {
      "cell_type": "markdown",
      "metadata": {
        "id": "18mBmbZdjXQR"
      },
      "source": [
        "To train our neural network we need to update the parameters in the direction of the negative gradient w.r.t the cost function we defined earlier.\n",
        "We can use [`torch.optim`](http://pytorch.org/docs/master/optim.html) to get the gradients with some update rule for all parameters in the network.\n",
        "\n",
        "Heres a small animation of gradient descent: http://imgur.com/a/Hqolp, which also illustrates which challenges optimizers might face, e.g. saddle points."
      ]
    },
    {
      "cell_type": "code",
      "metadata": {
        "id": "MEJpn0E0jXQS"
      },
      "source": [
        "import torch.optim as optim\n",
        "\n",
        "optimizer = optim.SGD(net.parameters(), lr=0.01)"
      ],
      "execution_count": null,
      "outputs": []
    },
    {
      "cell_type": "markdown",
      "metadata": {
        "id": "nwz27T7njXQS"
      },
      "source": [
        "Next, we make the prediction functions, such that we can get an accuracy measure over a batch"
      ]
    },
    {
      "cell_type": "code",
      "metadata": {
        "id": "MTuC3vEbjXQS"
      },
      "source": [
        "def accuracy(ys, ts):\n",
        "    # making a one-hot encoded vector of correct (1) and incorrect (0) predictions\n",
        "    correct_prediction = torch.eq(torch.max(ys, 1)[1], torch.max(ts, 1)[1])\n",
        "    # averaging the one-hot encoded vector\n",
        "    return torch.mean(correct_prediction.float())"
      ],
      "execution_count": null,
      "outputs": []
    },
    {
      "cell_type": "code",
      "metadata": {
        "id": "ZlqNKUc7yxNa"
      },
      "source": [
        "def onehot(t, num_classes):\n",
        "    out = np.zeros((t.shape[0], num_classes))\n",
        "    for row, col in enumerate(t):\n",
        "        out[row, col] = 1\n",
        "    return out"
      ],
      "execution_count": null,
      "outputs": []
    },
    {
      "cell_type": "markdown",
      "metadata": {
        "id": "GPNULWg9jXQS"
      },
      "source": [
        "The next step is to utilize our `optimizer` repeatedly in order to optimize our weights `W_1` and `b_1` to make the best possible linear seperation of the half moon dataset."
      ]
    },
    {
      "cell_type": "code",
      "metadata": {
        "id": "6BVzc4iBjXQS",
        "colab": {
          "base_uri": "https://localhost:8080/",
          "height": 1000
        },
        "outputId": "00877c8c-2c16-4b57-c443-20dccaee4306"
      },
      "source": [
        "class Net(nn.Module):\n",
        "\n",
        "    def __init__(self, num_hidden_layer):\n",
        "        super(Net, self).__init__()\n",
        "        # Setting up variables, these variables are weights in your \n",
        "        # network that can be updated while running our graph.\n",
        "        # Notice, to make a hidden layer, the weights need to have the \n",
        "        # following dimensionality:\n",
        "        #   W[number_of_units_going_out, number_of_units_going_in]\n",
        "        #   b[number_of_units_going_out]\n",
        "        # in the example below we have 2 input units (num_features) and 2 output units (num_output)\n",
        "        # so our weights become W[2, 2], b[2]\n",
        "        # if we want to make a hidden layer with 100 units, we need to define the shape of the\n",
        "        # first weight to W[100, 2], b[2] and the shape of the second weight to W[2, 100], b[2]\n",
        "        \n",
        "        # first layer\n",
        "        self.W_1 = Parameter(torch.randn(num_hidden_layer, num_features)) \n",
        "        self.b_1 = Parameter(torch.randn(num_hidden_layer))\n",
        "        \n",
        "        # second layer (to be completed as an exercise)\n",
        "        # NB when you create a second layer, remember that you also must change parts of the first layer\n",
        "        self.W_2 = Parameter(torch.randn(num_output, num_hidden_layer)) \n",
        "        self.b_2 = Parameter(torch.randn(num_output))\n",
        "        \n",
        "    def forward(self, x):\n",
        "        # Setting up ops, these ops will define edges along our computational graph\n",
        "        # The below ops will compute a logistic regression, \n",
        "        # but can be modified to compute a neural network\n",
        "        x = F.linear(x, self.W_1, self.b_1)\n",
        "        F.relu(x, inplace=True)\n",
        "        # second layer (to be completed as an exercise)\n",
        "        # NB when you create a second layer, remember that you also must change parts of the first layer\n",
        "        x = F.linear(x, self.W_2, self.b_2)\n",
        "        return F.softmax(x, dim=1) # softmax to be performed on the second dimension\n",
        "\n",
        "net = Net(num_hidden_layer = 100)\n",
        "optimizer = optim.SGD(net.parameters(), lr=0.01)\n",
        "# number of training passses\n",
        "num_epochs = 1000\n",
        "# store loss and accuracy for information\n",
        "train_losses, val_losses, train_accs, val_accs = [], [], [], []\n",
        "\n",
        "def pred(X):\n",
        "    \"\"\" Compute graph's prediction and return numpy array\n",
        "    \n",
        "    Parameters\n",
        "    ----------\n",
        "    X : numpy.ndarray\n",
        "    \n",
        "    Returns\n",
        "    -------\n",
        "    numpy.ndarray\n",
        "    \"\"\"\n",
        "    X = torch.from_numpy(X)\n",
        "    y = net(X)\n",
        "    return y.data.numpy()\n",
        "\n",
        "# plot boundary on testset before training session\n",
        "plot_decision_boundary(lambda x: pred(x), X_te, y_te)\n",
        "plt.title(\"Untrained Classifier\")\n",
        "\n",
        "# training loop\n",
        "for e in range(num_epochs):\n",
        "    # get training input and expected output as torch Variables and make sure type is correct\n",
        "    tr_input = torch.from_numpy(X_tr)\n",
        "    tr_targets = torch.from_numpy(onehot(y_tr, num_output)).float()\n",
        "    \n",
        "    # zeroize accumulated gradients in parameters\n",
        "    optimizer.zero_grad()\n",
        "    # predict by running forward pass\n",
        "    tr_output = net(tr_input)\n",
        "    # compute cross entropy loss\n",
        "    tr_loss = cross_entropy(tr_output, tr_targets)\n",
        "    # compute gradients given loss\n",
        "    tr_loss.backward()\n",
        "    # update the parameters given the computed gradients\n",
        "    optimizer.step()\n",
        "    train_acc = accuracy(tr_output, tr_targets)\n",
        "    \n",
        "    # store training loss\n",
        "    train_losses.append(tr_loss.data.numpy())\n",
        "    train_accs.append(train_acc)\n",
        "    \n",
        "    # get validation input and expected output as torch Variables and make sure type is correct\n",
        "    val_input = torch.from_numpy(X_val)\n",
        "    val_targets = torch.from_numpy(onehot(y_val, num_output)).float()\n",
        "    \n",
        "    # predict with validation input\n",
        "    val_output = net(val_input)\n",
        "    # compute loss and accuracy\n",
        "    val_loss = cross_entropy(val_output, val_targets)\n",
        "    val_acc = accuracy(val_output, val_targets)\n",
        "    \n",
        "    # store loss and accuracy\n",
        "    val_losses.append(val_loss.data.numpy())\n",
        "    val_accs.append(val_acc.data.numpy())\n",
        "    \n",
        "    if e % 100 == 0:\n",
        "        print(\"Epoch %i, \"\n",
        "              \"Train Cost: %0.3f\"\n",
        "              \"\\tVal Cost: %0.3f\"\n",
        "              \"\\t Val acc: %0.3f\" % (e, \n",
        "                                     train_losses[-1],\n",
        "                                     val_losses[-1],\n",
        "                                     val_accs[-1]))\n",
        "        \n",
        "        \n",
        "# get test input and expected output\n",
        "te_input = torch.from_numpy(X_te)\n",
        "te_targets = torch.from_numpy(onehot(y_te, num_output)).float()\n",
        "# predict on testset\n",
        "te_output = net(te_input)\n",
        "# compute loss and accuracy\n",
        "te_loss = cross_entropy(te_output, te_targets)\n",
        "te_acc = accuracy(te_output, te_targets)\n",
        "print(\"\\nTest Cost: %0.3f\\tTest Accuracy: %0.3f\" % (te_loss.data.numpy(), te_acc.data.numpy()))\n",
        "\n",
        "# plot boundary on testset after training session\n",
        "plot_decision_boundary(lambda x: pred(x), X_te, y_te)\n",
        "plt.title(\"Trained Classifier\")\n",
        "\n",
        "plt.figure()\n",
        "epoch = np.arange(len(train_losses))\n",
        "plt.plot(epoch, train_losses, 'r', label='Train Loss')\n",
        "plt.plot(epoch, val_losses, 'b', label='Val Loss')\n",
        "plt.legend()\n",
        "plt.xlabel('Updates')\n",
        "plt.ylabel('Loss')\n",
        "plt.show()\n",
        "\n",
        "plt.figure()\n",
        "plt.plot(epoch, train_accs, 'r', label='Train Acc')\n",
        "plt.plot(epoch, val_accs, 'b', label='Val Acc')\n",
        "plt.legend()\n",
        "plt.xlabel('Updates')\n",
        "plt.ylabel('Accuracy')\n",
        "plt.show()"
      ],
      "execution_count": null,
      "outputs": [
        {
          "output_type": "stream",
          "name": "stdout",
          "text": [
            "Epoch 0, Train Cost: 2.215\tVal Cost: 1.703\t Val acc: 0.650\n",
            "Epoch 100, Train Cost: 0.436\tVal Cost: 0.465\t Val acc: 0.750\n",
            "Epoch 200, Train Cost: 0.257\tVal Cost: 0.318\t Val acc: 0.820\n",
            "Epoch 300, Train Cost: 0.177\tVal Cost: 0.246\t Val acc: 0.890\n",
            "Epoch 400, Train Cost: 0.138\tVal Cost: 0.211\t Val acc: 0.930\n",
            "Epoch 500, Train Cost: 0.117\tVal Cost: 0.193\t Val acc: 0.960\n",
            "Epoch 600, Train Cost: 0.104\tVal Cost: 0.183\t Val acc: 0.960\n",
            "Epoch 700, Train Cost: 0.094\tVal Cost: 0.176\t Val acc: 0.970\n",
            "Epoch 800, Train Cost: 0.087\tVal Cost: 0.171\t Val acc: 0.970\n",
            "Epoch 900, Train Cost: 0.081\tVal Cost: 0.166\t Val acc: 0.970\n",
            "\n",
            "Test Cost: 0.120\tTest Accuracy: 0.970\n"
          ]
        },
        {
          "output_type": "display_data",
          "data": {
            "image/png": "[encoded data removed]",
            "text/plain": [
              "<Figure size 432x288 with 1 Axes>"
            ]
          },
          "metadata": {
            "needs_background": "light"
          }
        },
        {
          "output_type": "display_data",
          "data": {
            "image/png": "[encoded data removed]",
            "text/plain": [
              "<Figure size 432x288 with 1 Axes>"
            ]
          },
          "metadata": {
            "needs_background": "light"
          }
        },
        {
          "output_type": "display_data",
          "data": {
            "image/png": "[encoded data removed]",
            "text/plain": [
              "<Figure size 432x288 with 1 Axes>"
            ]
          },
          "metadata": {
            "needs_background": "light"
          }
        },
        {
          "output_type": "display_data",
          "data": {
            "image/png": "[encoded data removed]",
            "text/plain": [
              "<Figure size 432x288 with 1 Axes>"
            ]
          },
          "metadata": {
            "needs_background": "light"
          }
        }
      ]
    },
    {
      "cell_type": "markdown",
      "metadata": {
        "id": "L0LeAI8hjXQT"
      },
      "source": [
        "# Assignments\n",
        "\n",
        "1. A linear logistic classifier is only able to create a linear decision boundary. Change the Logistic classifier into a (nonlinear) Neural network by inserting a dense hidden layer between the input and output layers of the model\n",
        " \n",
        "2. Experiment with multiple hidden layers or more / less hidden units. What happens to the decision boundary?\n",
        " \n",
        "3. Overfitting: When increasing the number of hidden layers / units, the neural network will fit the training data better by creating a highly nonlinear decision boundary. If the model is too complex it will often generalize poorly to new data (validation and test set). Can you observe this from the training and validation errors? \n",
        " \n",
        "4. We used the vanilla stochastic gradient descent algorithm for parameter updates. This usually converges slowly and more sophisticated pseudo-second-order methods usually work better. Try changing the optimizer to [adam or momentum](http://pytorch.org/docs/master/optim.html#torch.optim.Adam)"
      ]
    },
    {
      "cell_type": "markdown",
      "metadata": {
        "id": "_vsDxQafjXQT"
      },
      "source": [
        "When you're done, continue to the next part of this lab."
      ]
    }
  ]
}